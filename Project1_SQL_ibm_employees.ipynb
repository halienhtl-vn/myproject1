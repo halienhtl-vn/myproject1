{
 "cells": [
  {
   "cell_type": "markdown",
   "metadata": {
    "application/vnd.databricks.v1+cell": {
     "cellMetadata": {
      "byteLimit": 2048000,
      "rowLimit": 10000
     },
     "inputWidgets": {},
     "nuid": "a8b562f4-f861-4b1b-9387-88a4b83eda6c",
     "showTitle": false,
     "tableResultSettingsMap": {},
     "title": ""
    }
   },
   "source": [
    "# Project description\n",
    "SQL Project – HR Analytics (Databricks, Spark SQL)\n",
    "## Goal\n",
    "Analyze employee attrition and performance trends\n",
    "## Data Set\n",
    "IBM HR Analytics Employee Attrition dataset (Kaggle)\n",
    "## Skills & Tools shown\n",
    "Databricks Spark SQL | SQL queries (CTEs, WINDOW FUNCTIONs, etc.) | Data exploration for HR insights\n",
    "## Some insights\n",
    "Sales department shows the highest attrition. Overtime is linked to turnover. An attrition risk in younger and mid-career groups\n"
   ]
  },
  {
   "cell_type": "markdown",
   "metadata": {
    "application/vnd.databricks.v1+cell": {
     "cellMetadata": {
      "byteLimit": 2048000,
      "rowLimit": 10000
     },
     "inputWidgets": {},
     "nuid": "ac57957b-7e3a-4e36-a0fc-4b20d718cc9d",
     "showTitle": false,
     "tableResultSettingsMap": {},
     "title": ""
    }
   },
   "source": [
    "### 1. Set up Dataset"
   ]
  },
  {
   "cell_type": "code",
   "execution_count": 0,
   "metadata": {
    "application/vnd.databricks.v1+cell": {
     "cellMetadata": {
      "byteLimit": 2048000,
      "rowLimit": 10000
     },
     "inputWidgets": {},
     "nuid": "3ec5f3d4-8d3e-4efb-87c9-0333e12f137d",
     "showTitle": false,
     "tableResultSettingsMap": {},
     "title": ""
    }
   },
   "outputs": [],
   "source": [
    "# Read IBM_HR csv file into a Spark DataFrame\n",
    "df= spark.read.csv('dbfs:/FileStore/IBM_HR.csv', header= True)"
   ]
  },
  {
   "cell_type": "code",
   "execution_count": 0,
   "metadata": {
    "application/vnd.databricks.v1+cell": {
     "cellMetadata": {
      "byteLimit": 2048000,
      "rowLimit": 10000
     },
     "inputWidgets": {},
     "nuid": "695c22a1-0eae-4d35-a29b-c2a1cebba4ed",
     "showTitle": false,
     "tableResultSettingsMap": {},
     "title": ""
    }
   },
   "outputs": [
    {
     "output_type": "display_data",
     "data": {
      "text/html": [
       "<style scoped>\n",
       "  .table-result-container {\n",
       "    max-height: 300px;\n",
       "    overflow: auto;\n",
       "  }\n",
       "  table, th, td {\n",
       "    border: 1px solid black;\n",
       "    border-collapse: collapse;\n",
       "  }\n",
       "  th, td {\n",
       "    padding: 5px;\n",
       "  }\n",
       "  th {\n",
       "    text-align: left;\n",
       "  }\n",
       "</style><div class='table-result-container'><table class='table-result'><thead style='background-color: white'><tr><th>Age</th><th>Attrition</th><th>BusinessTravel</th><th>DailyRate</th><th>Department</th><th>DistanceFromHome</th><th>Education</th><th>EducationField</th><th>EmployeeCount</th><th>EmployeeNumber</th><th>EnvironmentSatisfaction</th><th>Gender</th><th>HourlyRate</th><th>JobInvolvement</th><th>JobLevel</th><th>JobRole</th><th>JobSatisfaction</th><th>MaritalStatus</th><th>MonthlyIncome</th><th>MonthlyRate</th><th>NumCompaniesWorked</th><th>Over18</th><th>OverTime</th><th>PercentSalaryHike</th><th>PerformanceRating</th><th>RelationshipSatisfaction</th><th>StandardHours</th><th>StockOptionLevel</th><th>TotalWorkingYears</th><th>TrainingTimesLastYear</th><th>WorkLifeBalance</th><th>YearsAtCompany</th><th>YearsInCurrentRole</th><th>YearsSinceLastPromotion</th><th>YearsWithCurrManager</th></tr></thead><tbody><tr><td>41</td><td>Yes</td><td>Travel_Rarely</td><td>1102</td><td>Sales</td><td>1</td><td>2</td><td>Life Sciences</td><td>1</td><td>1</td><td>2</td><td>Female</td><td>94</td><td>3</td><td>2</td><td>Sales Executive</td><td>4</td><td>Single</td><td>5993</td><td>19479</td><td>8</td><td>Y</td><td>Yes</td><td>11</td><td>3</td><td>1</td><td>80</td><td>0</td><td>8</td><td>0</td><td>1</td><td>6</td><td>4</td><td>0</td><td>5</td></tr><tr><td>49</td><td>No</td><td>Travel_Frequently</td><td>279</td><td>Research & Development</td><td>8</td><td>1</td><td>Life Sciences</td><td>1</td><td>2</td><td>3</td><td>Male</td><td>61</td><td>2</td><td>2</td><td>Research Scientist</td><td>2</td><td>Married</td><td>5130</td><td>24907</td><td>1</td><td>Y</td><td>No</td><td>23</td><td>4</td><td>4</td><td>80</td><td>1</td><td>10</td><td>3</td><td>3</td><td>10</td><td>7</td><td>1</td><td>7</td></tr><tr><td>37</td><td>Yes</td><td>Travel_Rarely</td><td>1373</td><td>Research & Development</td><td>2</td><td>2</td><td>Other</td><td>1</td><td>4</td><td>4</td><td>Male</td><td>92</td><td>2</td><td>1</td><td>Laboratory Technician</td><td>3</td><td>Single</td><td>2090</td><td>2396</td><td>6</td><td>Y</td><td>Yes</td><td>15</td><td>3</td><td>2</td><td>80</td><td>0</td><td>7</td><td>3</td><td>3</td><td>0</td><td>0</td><td>0</td><td>0</td></tr><tr><td>33</td><td>No</td><td>Travel_Frequently</td><td>1392</td><td>Research & Development</td><td>3</td><td>4</td><td>Life Sciences</td><td>1</td><td>5</td><td>4</td><td>Female</td><td>56</td><td>3</td><td>1</td><td>Research Scientist</td><td>3</td><td>Married</td><td>2909</td><td>23159</td><td>1</td><td>Y</td><td>Yes</td><td>11</td><td>3</td><td>3</td><td>80</td><td>0</td><td>8</td><td>3</td><td>3</td><td>8</td><td>7</td><td>3</td><td>0</td></tr><tr><td>27</td><td>No</td><td>Travel_Rarely</td><td>591</td><td>Research & Development</td><td>2</td><td>1</td><td>Medical</td><td>1</td><td>7</td><td>1</td><td>Male</td><td>40</td><td>3</td><td>1</td><td>Laboratory Technician</td><td>2</td><td>Married</td><td>3468</td><td>16632</td><td>9</td><td>Y</td><td>No</td><td>12</td><td>3</td><td>4</td><td>80</td><td>1</td><td>6</td><td>3</td><td>3</td><td>2</td><td>2</td><td>2</td><td>2</td></tr><tr><td>32</td><td>No</td><td>Travel_Frequently</td><td>1005</td><td>Research & Development</td><td>2</td><td>2</td><td>Life Sciences</td><td>1</td><td>8</td><td>4</td><td>Male</td><td>79</td><td>3</td><td>1</td><td>Laboratory Technician</td><td>4</td><td>Single</td><td>3068</td><td>11864</td><td>0</td><td>Y</td><td>No</td><td>13</td><td>3</td><td>3</td><td>80</td><td>0</td><td>8</td><td>2</td><td>2</td><td>7</td><td>7</td><td>3</td><td>6</td></tr><tr><td>59</td><td>No</td><td>Travel_Rarely</td><td>1324</td><td>Research & Development</td><td>3</td><td>3</td><td>Medical</td><td>1</td><td>10</td><td>3</td><td>Female</td><td>81</td><td>4</td><td>1</td><td>Laboratory Technician</td><td>1</td><td>Married</td><td>2670</td><td>9964</td><td>4</td><td>Y</td><td>Yes</td><td>20</td><td>4</td><td>1</td><td>80</td><td>3</td><td>12</td><td>3</td><td>2</td><td>1</td><td>0</td><td>0</td><td>0</td></tr><tr><td>30</td><td>No</td><td>Travel_Rarely</td><td>1358</td><td>Research & Development</td><td>24</td><td>1</td><td>Life Sciences</td><td>1</td><td>11</td><td>4</td><td>Male</td><td>67</td><td>3</td><td>1</td><td>Laboratory Technician</td><td>3</td><td>Divorced</td><td>2693</td><td>13335</td><td>1</td><td>Y</td><td>No</td><td>22</td><td>4</td><td>2</td><td>80</td><td>1</td><td>1</td><td>2</td><td>3</td><td>1</td><td>0</td><td>0</td><td>0</td></tr><tr><td>38</td><td>No</td><td>Travel_Frequently</td><td>216</td><td>Research & Development</td><td>23</td><td>3</td><td>Life Sciences</td><td>1</td><td>12</td><td>4</td><td>Male</td><td>44</td><td>2</td><td>3</td><td>Manufacturing Director</td><td>3</td><td>Single</td><td>9526</td><td>8787</td><td>0</td><td>Y</td><td>No</td><td>21</td><td>4</td><td>2</td><td>80</td><td>0</td><td>10</td><td>2</td><td>3</td><td>9</td><td>7</td><td>1</td><td>8</td></tr><tr><td>36</td><td>No</td><td>Travel_Rarely</td><td>1299</td><td>Research & Development</td><td>27</td><td>3</td><td>Medical</td><td>1</td><td>13</td><td>3</td><td>Male</td><td>94</td><td>3</td><td>2</td><td>Healthcare Representative</td><td>3</td><td>Married</td><td>5237</td><td>16577</td><td>6</td><td>Y</td><td>No</td><td>13</td><td>3</td><td>2</td><td>80</td><td>2</td><td>17</td><td>3</td><td>2</td><td>7</td><td>7</td><td>7</td><td>7</td></tr></tbody></table></div>"
      ]
     },
     "metadata": {
      "application/vnd.databricks.v1+output": {
       "addedWidgets": {},
       "aggData": [],
       "aggError": "",
       "aggOverflow": false,
       "aggSchema": [],
       "aggSeriesLimitReached": false,
       "aggType": "",
       "arguments": {},
       "columnCustomDisplayInfos": {},
       "data": [
        [
         "41",
         "Yes",
         "Travel_Rarely",
         "1102",
         "Sales",
         "1",
         "2",
         "Life Sciences",
         "1",
         "1",
         "2",
         "Female",
         "94",
         "3",
         "2",
         "Sales Executive",
         "4",
         "Single",
         "5993",
         "19479",
         "8",
         "Y",
         "Yes",
         "11",
         "3",
         "1",
         "80",
         "0",
         "8",
         "0",
         "1",
         "6",
         "4",
         "0",
         "5"
        ],
        [
         "49",
         "No",
         "Travel_Frequently",
         "279",
         "Research & Development",
         "8",
         "1",
         "Life Sciences",
         "1",
         "2",
         "3",
         "Male",
         "61",
         "2",
         "2",
         "Research Scientist",
         "2",
         "Married",
         "5130",
         "24907",
         "1",
         "Y",
         "No",
         "23",
         "4",
         "4",
         "80",
         "1",
         "10",
         "3",
         "3",
         "10",
         "7",
         "1",
         "7"
        ],
        [
         "37",
         "Yes",
         "Travel_Rarely",
         "1373",
         "Research & Development",
         "2",
         "2",
         "Other",
         "1",
         "4",
         "4",
         "Male",
         "92",
         "2",
         "1",
         "Laboratory Technician",
         "3",
         "Single",
         "2090",
         "2396",
         "6",
         "Y",
         "Yes",
         "15",
         "3",
         "2",
         "80",
         "0",
         "7",
         "3",
         "3",
         "0",
         "0",
         "0",
         "0"
        ],
        [
         "33",
         "No",
         "Travel_Frequently",
         "1392",
         "Research & Development",
         "3",
         "4",
         "Life Sciences",
         "1",
         "5",
         "4",
         "Female",
         "56",
         "3",
         "1",
         "Research Scientist",
         "3",
         "Married",
         "2909",
         "23159",
         "1",
         "Y",
         "Yes",
         "11",
         "3",
         "3",
         "80",
         "0",
         "8",
         "3",
         "3",
         "8",
         "7",
         "3",
         "0"
        ],
        [
         "27",
         "No",
         "Travel_Rarely",
         "591",
         "Research & Development",
         "2",
         "1",
         "Medical",
         "1",
         "7",
         "1",
         "Male",
         "40",
         "3",
         "1",
         "Laboratory Technician",
         "2",
         "Married",
         "3468",
         "16632",
         "9",
         "Y",
         "No",
         "12",
         "3",
         "4",
         "80",
         "1",
         "6",
         "3",
         "3",
         "2",
         "2",
         "2",
         "2"
        ],
        [
         "32",
         "No",
         "Travel_Frequently",
         "1005",
         "Research & Development",
         "2",
         "2",
         "Life Sciences",
         "1",
         "8",
         "4",
         "Male",
         "79",
         "3",
         "1",
         "Laboratory Technician",
         "4",
         "Single",
         "3068",
         "11864",
         "0",
         "Y",
         "No",
         "13",
         "3",
         "3",
         "80",
         "0",
         "8",
         "2",
         "2",
         "7",
         "7",
         "3",
         "6"
        ],
        [
         "59",
         "No",
         "Travel_Rarely",
         "1324",
         "Research & Development",
         "3",
         "3",
         "Medical",
         "1",
         "10",
         "3",
         "Female",
         "81",
         "4",
         "1",
         "Laboratory Technician",
         "1",
         "Married",
         "2670",
         "9964",
         "4",
         "Y",
         "Yes",
         "20",
         "4",
         "1",
         "80",
         "3",
         "12",
         "3",
         "2",
         "1",
         "0",
         "0",
         "0"
        ],
        [
         "30",
         "No",
         "Travel_Rarely",
         "1358",
         "Research & Development",
         "24",
         "1",
         "Life Sciences",
         "1",
         "11",
         "4",
         "Male",
         "67",
         "3",
         "1",
         "Laboratory Technician",
         "3",
         "Divorced",
         "2693",
         "13335",
         "1",
         "Y",
         "No",
         "22",
         "4",
         "2",
         "80",
         "1",
         "1",
         "2",
         "3",
         "1",
         "0",
         "0",
         "0"
        ],
        [
         "38",
         "No",
         "Travel_Frequently",
         "216",
         "Research & Development",
         "23",
         "3",
         "Life Sciences",
         "1",
         "12",
         "4",
         "Male",
         "44",
         "2",
         "3",
         "Manufacturing Director",
         "3",
         "Single",
         "9526",
         "8787",
         "0",
         "Y",
         "No",
         "21",
         "4",
         "2",
         "80",
         "0",
         "10",
         "2",
         "3",
         "9",
         "7",
         "1",
         "8"
        ],
        [
         "36",
         "No",
         "Travel_Rarely",
         "1299",
         "Research & Development",
         "27",
         "3",
         "Medical",
         "1",
         "13",
         "3",
         "Male",
         "94",
         "3",
         "2",
         "Healthcare Representative",
         "3",
         "Married",
         "5237",
         "16577",
         "6",
         "Y",
         "No",
         "13",
         "3",
         "2",
         "80",
         "2",
         "17",
         "3",
         "2",
         "7",
         "7",
         "7",
         "7"
        ]
       ],
       "datasetInfos": [],
       "dbfsResultPath": null,
       "isJsonSchema": true,
       "metadata": {},
       "overflow": false,
       "plotOptions": {
        "customPlotOptions": {},
        "displayType": "table",
        "pivotAggregation": null,
        "pivotColumns": null,
        "xColumns": null,
        "yColumns": null
       },
       "removedWidgets": [],
       "schema": [
        {
         "metadata": "{}",
         "name": "Age",
         "type": "\"string\""
        },
        {
         "metadata": "{}",
         "name": "Attrition",
         "type": "\"string\""
        },
        {
         "metadata": "{}",
         "name": "BusinessTravel",
         "type": "\"string\""
        },
        {
         "metadata": "{}",
         "name": "DailyRate",
         "type": "\"string\""
        },
        {
         "metadata": "{}",
         "name": "Department",
         "type": "\"string\""
        },
        {
         "metadata": "{}",
         "name": "DistanceFromHome",
         "type": "\"string\""
        },
        {
         "metadata": "{}",
         "name": "Education",
         "type": "\"string\""
        },
        {
         "metadata": "{}",
         "name": "EducationField",
         "type": "\"string\""
        },
        {
         "metadata": "{}",
         "name": "EmployeeCount",
         "type": "\"string\""
        },
        {
         "metadata": "{}",
         "name": "EmployeeNumber",
         "type": "\"string\""
        },
        {
         "metadata": "{}",
         "name": "EnvironmentSatisfaction",
         "type": "\"string\""
        },
        {
         "metadata": "{}",
         "name": "Gender",
         "type": "\"string\""
        },
        {
         "metadata": "{}",
         "name": "HourlyRate",
         "type": "\"string\""
        },
        {
         "metadata": "{}",
         "name": "JobInvolvement",
         "type": "\"string\""
        },
        {
         "metadata": "{}",
         "name": "JobLevel",
         "type": "\"string\""
        },
        {
         "metadata": "{}",
         "name": "JobRole",
         "type": "\"string\""
        },
        {
         "metadata": "{}",
         "name": "JobSatisfaction",
         "type": "\"string\""
        },
        {
         "metadata": "{}",
         "name": "MaritalStatus",
         "type": "\"string\""
        },
        {
         "metadata": "{}",
         "name": "MonthlyIncome",
         "type": "\"string\""
        },
        {
         "metadata": "{}",
         "name": "MonthlyRate",
         "type": "\"string\""
        },
        {
         "metadata": "{}",
         "name": "NumCompaniesWorked",
         "type": "\"string\""
        },
        {
         "metadata": "{}",
         "name": "Over18",
         "type": "\"string\""
        },
        {
         "metadata": "{}",
         "name": "OverTime",
         "type": "\"string\""
        },
        {
         "metadata": "{}",
         "name": "PercentSalaryHike",
         "type": "\"string\""
        },
        {
         "metadata": "{}",
         "name": "PerformanceRating",
         "type": "\"string\""
        },
        {
         "metadata": "{}",
         "name": "RelationshipSatisfaction",
         "type": "\"string\""
        },
        {
         "metadata": "{}",
         "name": "StandardHours",
         "type": "\"string\""
        },
        {
         "metadata": "{}",
         "name": "StockOptionLevel",
         "type": "\"string\""
        },
        {
         "metadata": "{}",
         "name": "TotalWorkingYears",
         "type": "\"string\""
        },
        {
         "metadata": "{}",
         "name": "TrainingTimesLastYear",
         "type": "\"string\""
        },
        {
         "metadata": "{}",
         "name": "WorkLifeBalance",
         "type": "\"string\""
        },
        {
         "metadata": "{}",
         "name": "YearsAtCompany",
         "type": "\"string\""
        },
        {
         "metadata": "{}",
         "name": "YearsInCurrentRole",
         "type": "\"string\""
        },
        {
         "metadata": "{}",
         "name": "YearsSinceLastPromotion",
         "type": "\"string\""
        },
        {
         "metadata": "{}",
         "name": "YearsWithCurrManager",
         "type": "\"string\""
        }
       ],
       "type": "table"
      }
     },
     "output_type": "display_data"
    }
   ],
   "source": [
    "# Display the dataframe, view first few rows\n",
    "display(df.limit(10))"
   ]
  },
  {
   "cell_type": "code",
   "execution_count": 0,
   "metadata": {
    "application/vnd.databricks.v1+cell": {
     "cellMetadata": {
      "byteLimit": 2048000,
      "rowLimit": 10000
     },
     "inputWidgets": {},
     "nuid": "1edec022-9600-4118-b936-b22947d57708",
     "showTitle": false,
     "tableResultSettingsMap": {},
     "title": ""
    }
   },
   "outputs": [],
   "source": [
    "# Register csv file as a SQL temporary view\n",
    "df.createOrReplaceTempView(\"ibm_employees\")"
   ]
  },
  {
   "cell_type": "markdown",
   "metadata": {
    "application/vnd.databricks.v1+cell": {
     "cellMetadata": {
      "byteLimit": 2048000,
      "rowLimit": 10000
     },
     "inputWidgets": {},
     "nuid": "1d387769-e1a0-45c8-a0d2-e444059c6786",
     "showTitle": false,
     "tableResultSettingsMap": {},
     "title": ""
    }
   },
   "source": [
    "### 2. Basic SQL queries"
   ]
  },
  {
   "cell_type": "code",
   "execution_count": 0,
   "metadata": {
    "application/vnd.databricks.v1+cell": {
     "cellMetadata": {
      "byteLimit": 2048000,
      "implicitDf": true,
      "rowLimit": 10000
     },
     "inputWidgets": {},
     "nuid": "db5cbb9a-ed0e-43ad-af6f-d5042858f807",
     "showTitle": false,
     "tableResultSettingsMap": {},
     "title": ""
    }
   },
   "outputs": [
    {
     "output_type": "display_data",
     "data": {
      "text/html": [
       "<style scoped>\n",
       "  .table-result-container {\n",
       "    max-height: 300px;\n",
       "    overflow: auto;\n",
       "  }\n",
       "  table, th, td {\n",
       "    border: 1px solid black;\n",
       "    border-collapse: collapse;\n",
       "  }\n",
       "  th, td {\n",
       "    padding: 5px;\n",
       "  }\n",
       "  th {\n",
       "    text-align: left;\n",
       "  }\n",
       "</style><div class='table-result-container'><table class='table-result'><thead style='background-color: white'><tr><th>department</th><th>EmployeeCount</th></tr></thead><tbody><tr><td>Research & Development</td><td>961</td></tr><tr><td>Sales</td><td>446</td></tr><tr><td>Human Resources</td><td>63</td></tr></tbody></table></div>"
      ]
     },
     "metadata": {
      "application/vnd.databricks.v1+output": {
       "addedWidgets": {},
       "aggData": [],
       "aggError": "",
       "aggOverflow": false,
       "aggSchema": [],
       "aggSeriesLimitReached": false,
       "aggType": "",
       "arguments": {},
       "columnCustomDisplayInfos": {},
       "data": [
        [
         "Research & Development",
         961
        ],
        [
         "Sales",
         446
        ],
        [
         "Human Resources",
         63
        ]
       ],
       "datasetInfos": [
        {
         "name": "_sqldf",
         "schema": {
          "fields": [
           {
            "metadata": {},
            "name": "department",
            "nullable": true,
            "type": "string"
           },
           {
            "metadata": {},
            "name": "EmployeeCount",
            "nullable": false,
            "type": "long"
           }
          ],
          "type": "struct"
         },
         "tableIdentifier": null,
         "typeStr": "pyspark.sql.connect.dataframe.DataFrame"
        }
       ],
       "dbfsResultPath": null,
       "isJsonSchema": true,
       "metadata": {
        "createTempViewForImplicitDf": true,
        "dataframeName": "_sqldf",
        "executionCount": 24
       },
       "overflow": false,
       "plotOptions": {
        "customPlotOptions": {},
        "displayType": "table",
        "pivotAggregation": null,
        "pivotColumns": null,
        "xColumns": null,
        "yColumns": null
       },
       "removedWidgets": [],
       "schema": [
        {
         "metadata": "{}",
         "name": "department",
         "type": "\"string\""
        },
        {
         "metadata": "{}",
         "name": "EmployeeCount",
         "type": "\"long\""
        }
       ],
       "type": "table"
      }
     },
     "output_type": "display_data"
    }
   ],
   "source": [
    "%sql\n",
    "--Count employees by department\n",
    "select department,count(*) as EmployeeCount\n",
    "from ibm_employees\n",
    "group by department\n",
    "order by EmployeeCount desc;\n",
    "\n"
   ]
  },
  {
   "cell_type": "code",
   "execution_count": 0,
   "metadata": {
    "application/vnd.databricks.v1+cell": {
     "cellMetadata": {
      "byteLimit": 2048000,
      "implicitDf": true,
      "rowLimit": 10000
     },
     "inputWidgets": {},
     "nuid": "46c2bc57-99d9-459c-9cca-fc0bfadb4af1",
     "showTitle": false,
     "tableResultSettingsMap": {},
     "title": ""
    }
   },
   "outputs": [
    {
     "output_type": "display_data",
     "data": {
      "text/html": [
       "<style scoped>\n",
       "  .table-result-container {\n",
       "    max-height: 300px;\n",
       "    overflow: auto;\n",
       "  }\n",
       "  table, th, td {\n",
       "    border: 1px solid black;\n",
       "    border-collapse: collapse;\n",
       "  }\n",
       "  th, td {\n",
       "    padding: 5px;\n",
       "  }\n",
       "  th {\n",
       "    text-align: left;\n",
       "  }\n",
       "</style><div class='table-result-container'><table class='table-result'><thead style='background-color: white'><tr><th>Department</th><th>AttritionRate</th></tr></thead><tbody><tr><td>Sales</td><td>0.2062780269058296</td></tr><tr><td>Research & Development</td><td>0.1383975026014568</td></tr><tr><td>Human Resources</td><td>0.1904761904761905</td></tr></tbody></table></div>"
      ]
     },
     "metadata": {
      "application/vnd.databricks.v1+output": {
       "addedWidgets": {},
       "aggData": [],
       "aggError": "",
       "aggOverflow": false,
       "aggSchema": [],
       "aggSeriesLimitReached": false,
       "aggType": "",
       "arguments": {},
       "columnCustomDisplayInfos": {},
       "data": [
        [
         "Sales",
         "0.2062780269058296"
        ],
        [
         "Research & Development",
         "0.1383975026014568"
        ],
        [
         "Human Resources",
         "0.1904761904761905"
        ]
       ],
       "datasetInfos": [
        {
         "name": "_sqldf",
         "schema": {
          "fields": [
           {
            "metadata": {},
            "name": "Department",
            "nullable": true,
            "type": "string"
           },
           {
            "metadata": {},
            "name": "AttritionRate",
            "nullable": true,
            "type": "decimal(38,16)"
           }
          ],
          "type": "struct"
         },
         "tableIdentifier": null,
         "typeStr": "pyspark.sql.connect.dataframe.DataFrame"
        }
       ],
       "dbfsResultPath": null,
       "isJsonSchema": true,
       "metadata": {
        "createTempViewForImplicitDf": true,
        "dataframeName": "_sqldf",
        "executionCount": 25
       },
       "overflow": false,
       "plotOptions": {
        "customPlotOptions": {},
        "displayType": "table",
        "pivotAggregation": null,
        "pivotColumns": null,
        "xColumns": null,
        "yColumns": null
       },
       "removedWidgets": [],
       "schema": [
        {
         "metadata": "{}",
         "name": "Department",
         "type": "\"string\""
        },
        {
         "metadata": "{}",
         "name": "AttritionRate",
         "type": "\"decimal(38,16)\""
        }
       ],
       "type": "table"
      }
     },
     "output_type": "display_data"
    }
   ],
   "source": [
    "%sql\n",
    "--Attrition rate by department\n",
    "select Department,\n",
    "       sum(case when Attrition = 'Yes' then 1 else 0 end)*1.0/count(*) as AttritionRate\n",
    "from ibm_employees\n",
    "group by Department;"
   ]
  },
  {
   "cell_type": "code",
   "execution_count": 0,
   "metadata": {
    "application/vnd.databricks.v1+cell": {
     "cellMetadata": {
      "byteLimit": 2048000,
      "implicitDf": true,
      "rowLimit": 10000
     },
     "inputWidgets": {},
     "nuid": "8e6aef8f-9d7a-48de-b719-47368fa974e1",
     "showTitle": false,
     "tableResultSettingsMap": {},
     "title": ""
    }
   },
   "outputs": [
    {
     "output_type": "display_data",
     "data": {
      "text/html": [
       "<style scoped>\n",
       "  .table-result-container {\n",
       "    max-height: 300px;\n",
       "    overflow: auto;\n",
       "  }\n",
       "  table, th, td {\n",
       "    border: 1px solid black;\n",
       "    border-collapse: collapse;\n",
       "  }\n",
       "  th, td {\n",
       "    padding: 5px;\n",
       "  }\n",
       "  th {\n",
       "    text-align: left;\n",
       "  }\n",
       "</style><div class='table-result-container'><table class='table-result'><thead style='background-color: white'><tr><th>Department</th><th>AttritionRate</th></tr></thead><tbody><tr><td>Sales</td><td>20.63</td></tr><tr><td>Research & Development</td><td>13.84</td></tr><tr><td>Human Resources</td><td>19.05</td></tr></tbody></table></div>"
      ]
     },
     "metadata": {
      "application/vnd.databricks.v1+output": {
       "addedWidgets": {},
       "aggData": [],
       "aggError": "",
       "aggOverflow": false,
       "aggSchema": [],
       "aggSeriesLimitReached": false,
       "aggType": "",
       "arguments": {},
       "columnCustomDisplayInfos": {},
       "data": [
        [
         "Sales",
         "20.63"
        ],
        [
         "Research & Development",
         "13.84"
        ],
        [
         "Human Resources",
         "19.05"
        ]
       ],
       "datasetInfos": [
        {
         "name": "_sqldf",
         "schema": {
          "fields": [
           {
            "metadata": {},
            "name": "Department",
            "nullable": true,
            "type": "string"
           },
           {
            "metadata": {},
            "name": "AttritionRate",
            "nullable": true,
            "type": "decimal(27,2)"
           }
          ],
          "type": "struct"
         },
         "tableIdentifier": null,
         "typeStr": "pyspark.sql.connect.dataframe.DataFrame"
        }
       ],
       "dbfsResultPath": null,
       "isJsonSchema": true,
       "metadata": {
        "createTempViewForImplicitDf": true,
        "dataframeName": "_sqldf",
        "executionCount": 26
       },
       "overflow": false,
       "plotOptions": {
        "customPlotOptions": {},
        "displayType": "table",
        "pivotAggregation": null,
        "pivotColumns": null,
        "xColumns": null,
        "yColumns": null
       },
       "removedWidgets": [],
       "schema": [
        {
         "metadata": "{}",
         "name": "Department",
         "type": "\"string\""
        },
        {
         "metadata": "{}",
         "name": "AttritionRate",
         "type": "\"decimal(27,2)\""
        }
       ],
       "type": "table"
      }
     },
     "output_type": "display_data"
    }
   ],
   "source": [
    "%sql\n",
    "--Attrition rate by department, rounded at 2 decimal places\n",
    "select Department,\n",
    "       round(\n",
    "        sum(case when Attrition = 'Yes' then 1 else 0 end) * 100.0 / count(*),2) as AttritionRate\n",
    "from ibm_employees\n",
    "group by Department;"
   ]
  },
  {
   "cell_type": "code",
   "execution_count": 0,
   "metadata": {
    "application/vnd.databricks.v1+cell": {
     "cellMetadata": {
      "byteLimit": 2048000,
      "implicitDf": true,
      "rowLimit": 10000
     },
     "inputWidgets": {},
     "nuid": "ce8c1ce9-9208-4edd-b0ee-2e60f12b5d7c",
     "showTitle": false,
     "tableResultSettingsMap": {},
     "title": ""
    }
   },
   "outputs": [
    {
     "output_type": "display_data",
     "data": {
      "text/html": [
       "<style scoped>\n",
       "  .table-result-container {\n",
       "    max-height: 300px;\n",
       "    overflow: auto;\n",
       "  }\n",
       "  table, th, td {\n",
       "    border: 1px solid black;\n",
       "    border-collapse: collapse;\n",
       "  }\n",
       "  th, td {\n",
       "    padding: 5px;\n",
       "  }\n",
       "  th {\n",
       "    text-align: left;\n",
       "  }\n",
       "</style><div class='table-result-container'><table class='table-result'><thead style='background-color: white'><tr><th>OverTime</th><th>AttritionCount</th></tr></thead><tbody><tr><td>No</td><td>110</td></tr><tr><td>Yes</td><td>127</td></tr></tbody></table></div>"
      ]
     },
     "metadata": {
      "application/vnd.databricks.v1+output": {
       "addedWidgets": {},
       "aggData": [],
       "aggError": "",
       "aggOverflow": false,
       "aggSchema": [],
       "aggSeriesLimitReached": false,
       "aggType": "",
       "arguments": {},
       "columnCustomDisplayInfos": {},
       "data": [
        [
         "No",
         110
        ],
        [
         "Yes",
         127
        ]
       ],
       "datasetInfos": [
        {
         "name": "_sqldf",
         "schema": {
          "fields": [
           {
            "metadata": {},
            "name": "OverTime",
            "nullable": true,
            "type": "string"
           },
           {
            "metadata": {},
            "name": "AttritionCount",
            "nullable": false,
            "type": "long"
           }
          ],
          "type": "struct"
         },
         "tableIdentifier": null,
         "typeStr": "pyspark.sql.connect.dataframe.DataFrame"
        }
       ],
       "dbfsResultPath": null,
       "isJsonSchema": true,
       "metadata": {
        "createTempViewForImplicitDf": true,
        "dataframeName": "_sqldf",
        "executionCount": 27
       },
       "overflow": false,
       "plotOptions": {
        "customPlotOptions": {},
        "displayType": "table",
        "pivotAggregation": null,
        "pivotColumns": null,
        "xColumns": null,
        "yColumns": null
       },
       "removedWidgets": [],
       "schema": [
        {
         "metadata": "{}",
         "name": "OverTime",
         "type": "\"string\""
        },
        {
         "metadata": "{}",
         "name": "AttritionCount",
         "type": "\"long\""
        }
       ],
       "type": "table"
      }
     },
     "output_type": "display_data"
    }
   ],
   "source": [
    "%sql\n",
    "--Attrition vs Overtime\n",
    "select OverTime, count(*) as AttritionCount\n",
    "from ibm_employees\n",
    "where Attrition = 'Yes'\n",
    "group by OverTime;"
   ]
  },
  {
   "cell_type": "code",
   "execution_count": 0,
   "metadata": {
    "application/vnd.databricks.v1+cell": {
     "cellMetadata": {
      "byteLimit": 2048000,
      "implicitDf": true,
      "rowLimit": 10000
     },
     "inputWidgets": {},
     "nuid": "d7bd35c4-53e2-4c37-973a-9e7144110139",
     "showTitle": false,
     "tableResultSettingsMap": {},
     "title": ""
    }
   },
   "outputs": [
    {
     "output_type": "display_data",
     "data": {
      "text/html": [
       "<style scoped>\n",
       "  .table-result-container {\n",
       "    max-height: 300px;\n",
       "    overflow: auto;\n",
       "  }\n",
       "  table, th, td {\n",
       "    border: 1px solid black;\n",
       "    border-collapse: collapse;\n",
       "  }\n",
       "  th, td {\n",
       "    padding: 5px;\n",
       "  }\n",
       "  th {\n",
       "    text-align: left;\n",
       "  }\n",
       "</style><div class='table-result-container'><table class='table-result'><thead style='background-color: white'><tr><th>AgeGroup</th><th>AttritionCount</th></tr></thead><tbody><tr><td>30-40</td><td>94</td></tr><tr><td>Under 30</td><td>91</td></tr><tr><td>Over 40</td><td>52</td></tr></tbody></table></div>"
      ]
     },
     "metadata": {
      "application/vnd.databricks.v1+output": {
       "addedWidgets": {},
       "aggData": [],
       "aggError": "",
       "aggOverflow": false,
       "aggSchema": [],
       "aggSeriesLimitReached": false,
       "aggType": "",
       "arguments": {},
       "columnCustomDisplayInfos": {},
       "data": [
        [
         "30-40",
         94
        ],
        [
         "Under 30",
         91
        ],
        [
         "Over 40",
         52
        ]
       ],
       "datasetInfos": [
        {
         "name": "_sqldf",
         "schema": {
          "fields": [
           {
            "metadata": {},
            "name": "AgeGroup",
            "nullable": false,
            "type": "string"
           },
           {
            "metadata": {},
            "name": "AttritionCount",
            "nullable": false,
            "type": "long"
           }
          ],
          "type": "struct"
         },
         "tableIdentifier": null,
         "typeStr": "pyspark.sql.connect.dataframe.DataFrame"
        }
       ],
       "dbfsResultPath": null,
       "isJsonSchema": true,
       "metadata": {
        "createTempViewForImplicitDf": true,
        "dataframeName": "_sqldf",
        "executionCount": 28
       },
       "overflow": false,
       "plotOptions": {
        "customPlotOptions": {},
        "displayType": "table",
        "pivotAggregation": null,
        "pivotColumns": null,
        "xColumns": null,
        "yColumns": null
       },
       "removedWidgets": [],
       "schema": [
        {
         "metadata": "{}",
         "name": "AgeGroup",
         "type": "\"string\""
        },
        {
         "metadata": "{}",
         "name": "AttritionCount",
         "type": "\"long\""
        }
       ],
       "type": "table"
      }
     },
     "output_type": "display_data"
    }
   ],
   "source": [
    "%sql\n",
    "--Attrition by Age Group\n",
    "select \n",
    "    case \n",
    "        when Age < 30 then 'Under 30'\n",
    "        when Age between 30 and 40 then '30-40'\n",
    "        else 'Over 40'\n",
    "    end as AgeGroup,\n",
    "    count(*) as AttritionCount\n",
    "from ibm_employees\n",
    "where Attrition = 'Yes'\n",
    "group by AgeGroup\n",
    "order by AttritionCount DESC;\n"
   ]
  },
  {
   "cell_type": "code",
   "execution_count": 0,
   "metadata": {
    "application/vnd.databricks.v1+cell": {
     "cellMetadata": {
      "byteLimit": 2048000,
      "implicitDf": true,
      "rowLimit": 10000
     },
     "inputWidgets": {},
     "nuid": "52bd2fe5-db57-462c-8885-7a6d1b4f883b",
     "showTitle": false,
     "tableResultSettingsMap": {},
     "title": ""
    }
   },
   "outputs": [
    {
     "output_type": "display_data",
     "data": {
      "text/html": [
       "<style scoped>\n",
       "  .table-result-container {\n",
       "    max-height: 300px;\n",
       "    overflow: auto;\n",
       "  }\n",
       "  table, th, td {\n",
       "    border: 1px solid black;\n",
       "    border-collapse: collapse;\n",
       "  }\n",
       "  th, td {\n",
       "    padding: 5px;\n",
       "  }\n",
       "  th {\n",
       "    text-align: left;\n",
       "  }\n",
       "</style><div class='table-result-container'><table class='table-result'><thead style='background-color: white'><tr><th>JobRole</th><th>AvgIncomeLeft</th><th>AvgIncomeStayed</th></tr></thead><tbody><tr><td>Sales Executive</td><td>7489.0</td><td>6804.617100371747</td></tr><tr><td>Manufacturing Director</td><td>7365.5</td><td>7289.925925925926</td></tr><tr><td>Laboratory Technician</td><td>2919.2580645161293</td><td>3337.223350253807</td></tr><tr><td>Sales Representative</td><td>2364.7272727272725</td><td>2798.44</td></tr><tr><td>Healthcare Representative</td><td>8548.222222222223</td><td>7453.55737704918</td></tr><tr><td>Research Scientist</td><td>2780.468085106383</td><td>3328.122448979592</td></tr><tr><td>Manager</td><td>16797.4</td><td>17201.484536082473</td></tr><tr><td>Research Director</td><td>19395.5</td><td>15947.346153846154</td></tr><tr><td>Human Resources</td><td>3715.75</td><td>4391.75</td></tr></tbody></table></div>"
      ]
     },
     "metadata": {
      "application/vnd.databricks.v1+output": {
       "addedWidgets": {},
       "aggData": [],
       "aggError": "",
       "aggOverflow": false,
       "aggSchema": [],
       "aggSeriesLimitReached": false,
       "aggType": "",
       "arguments": {},
       "columnCustomDisplayInfos": {},
       "data": [
        [
         "Sales Executive",
         7489.0,
         6804.617100371747
        ],
        [
         "Manufacturing Director",
         7365.5,
         7289.925925925926
        ],
        [
         "Laboratory Technician",
         2919.2580645161293,
         3337.223350253807
        ],
        [
         "Sales Representative",
         2364.7272727272725,
         2798.44
        ],
        [
         "Healthcare Representative",
         8548.222222222223,
         7453.55737704918
        ],
        [
         "Research Scientist",
         2780.468085106383,
         3328.122448979592
        ],
        [
         "Manager",
         16797.4,
         17201.484536082473
        ],
        [
         "Research Director",
         19395.5,
         15947.346153846154
        ],
        [
         "Human Resources",
         3715.75,
         4391.75
        ]
       ],
       "datasetInfos": [
        {
         "name": "_sqldf",
         "schema": {
          "fields": [
           {
            "metadata": {},
            "name": "JobRole",
            "nullable": true,
            "type": "string"
           },
           {
            "metadata": {},
            "name": "AvgIncomeLeft",
            "nullable": true,
            "type": "double"
           },
           {
            "metadata": {},
            "name": "AvgIncomeStayed",
            "nullable": true,
            "type": "double"
           }
          ],
          "type": "struct"
         },
         "tableIdentifier": null,
         "typeStr": "pyspark.sql.connect.dataframe.DataFrame"
        }
       ],
       "dbfsResultPath": null,
       "isJsonSchema": true,
       "metadata": {
        "createTempViewForImplicitDf": true,
        "dataframeName": "_sqldf",
        "executionCount": 31
       },
       "overflow": false,
       "plotOptions": {
        "customPlotOptions": {},
        "displayType": "table",
        "pivotAggregation": null,
        "pivotColumns": null,
        "xColumns": null,
        "yColumns": null
       },
       "removedWidgets": [],
       "schema": [
        {
         "metadata": "{}",
         "name": "JobRole",
         "type": "\"string\""
        },
        {
         "metadata": "{}",
         "name": "AvgIncomeLeft",
         "type": "\"double\""
        },
        {
         "metadata": "{}",
         "name": "AvgIncomeStayed",
         "type": "\"double\""
        }
       ],
       "type": "table"
      }
     },
     "output_type": "display_data"
    }
   ],
   "source": [
    "%sql\n",
    "--Compare the monthly income of employees with attrition vs. without\n",
    "select JobRole,\n",
    "       avg(case when Attrition = 'Yes' then MonthlyIncome end) as AvgIncomeLeft,\n",
    "       avg(case when Attrition = 'No' then MonthlyIncome end) as AvgIncomeStayed\n",
    "from ibm_employees\n",
    "group by JobRole;\n"
   ]
  },
  {
   "cell_type": "markdown",
   "metadata": {
    "application/vnd.databricks.v1+cell": {
     "cellMetadata": {
      "byteLimit": 2048000,
      "rowLimit": 10000
     },
     "inputWidgets": {},
     "nuid": "0ef4297a-38ca-462b-8904-641c70d5cd0b",
     "showTitle": false,
     "tableResultSettingsMap": {},
     "title": ""
    }
   },
   "source": [
    "### 3. Advanced SQL queries"
   ]
  },
  {
   "cell_type": "code",
   "execution_count": 0,
   "metadata": {
    "application/vnd.databricks.v1+cell": {
     "cellMetadata": {
      "byteLimit": 2048000,
      "implicitDf": true,
      "rowLimit": 10000
     },
     "inputWidgets": {},
     "nuid": "33724ba3-c181-48a1-beef-9f677ec03dab",
     "showTitle": false,
     "tableResultSettingsMap": {},
     "title": ""
    }
   },
   "outputs": [
    {
     "output_type": "display_data",
     "data": {
      "text/html": [
       "<style scoped>\n",
       "  .table-result-container {\n",
       "    max-height: 300px;\n",
       "    overflow: auto;\n",
       "  }\n",
       "  table, th, td {\n",
       "    border: 1px solid black;\n",
       "    border-collapse: collapse;\n",
       "  }\n",
       "  th, td {\n",
       "    padding: 5px;\n",
       "  }\n",
       "  th {\n",
       "    text-align: left;\n",
       "  }\n",
       "</style><div class='table-result-container'><table class='table-result'><thead style='background-color: white'><tr><th>EmployeeNumber</th><th>JobRole</th><th>PerformanceRating</th></tr></thead><tbody><tr><td>2</td><td>Research Scientist</td><td>4</td></tr><tr><td>10</td><td>Laboratory Technician</td><td>4</td></tr><tr><td>11</td><td>Laboratory Technician</td><td>4</td></tr><tr><td>12</td><td>Manufacturing Director</td><td>4</td></tr><tr><td>27</td><td>Sales Representative</td><td>4</td></tr><tr><td>33</td><td>Research Scientist</td><td>4</td></tr><tr><td>57</td><td>Laboratory Technician</td><td>4</td></tr><tr><td>60</td><td>Sales Executive</td><td>4</td></tr><tr><td>61</td><td>Research Scientist</td><td>4</td></tr><tr><td>62</td><td>Sales Executive</td><td>4</td></tr><tr><td>68</td><td>Sales Executive</td><td>4</td></tr><tr><td>74</td><td>Sales Executive</td><td>4</td></tr><tr><td>76</td><td>Laboratory Technician</td><td>4</td></tr><tr><td>78</td><td>Manufacturing Director</td><td>4</td></tr><tr><td>94</td><td>Research Scientist</td><td>4</td></tr><tr><td>98</td><td>Manufacturing Director</td><td>4</td></tr><tr><td>103</td><td>Human Resources</td><td>4</td></tr><tr><td>116</td><td>Laboratory Technician</td><td>4</td></tr><tr><td>119</td><td>Healthcare Representative</td><td>4</td></tr><tr><td>120</td><td>Sales Executive</td><td>4</td></tr></tbody></table></div>"
      ]
     },
     "metadata": {
      "application/vnd.databricks.v1+output": {
       "addedWidgets": {},
       "aggData": [],
       "aggError": "",
       "aggOverflow": false,
       "aggSchema": [],
       "aggSeriesLimitReached": false,
       "aggType": "",
       "arguments": {},
       "columnCustomDisplayInfos": {},
       "data": [
        [
         "2",
         "Research Scientist",
         "4"
        ],
        [
         "10",
         "Laboratory Technician",
         "4"
        ],
        [
         "11",
         "Laboratory Technician",
         "4"
        ],
        [
         "12",
         "Manufacturing Director",
         "4"
        ],
        [
         "27",
         "Sales Representative",
         "4"
        ],
        [
         "33",
         "Research Scientist",
         "4"
        ],
        [
         "57",
         "Laboratory Technician",
         "4"
        ],
        [
         "60",
         "Sales Executive",
         "4"
        ],
        [
         "61",
         "Research Scientist",
         "4"
        ],
        [
         "62",
         "Sales Executive",
         "4"
        ],
        [
         "68",
         "Sales Executive",
         "4"
        ],
        [
         "74",
         "Sales Executive",
         "4"
        ],
        [
         "76",
         "Laboratory Technician",
         "4"
        ],
        [
         "78",
         "Manufacturing Director",
         "4"
        ],
        [
         "94",
         "Research Scientist",
         "4"
        ],
        [
         "98",
         "Manufacturing Director",
         "4"
        ],
        [
         "103",
         "Human Resources",
         "4"
        ],
        [
         "116",
         "Laboratory Technician",
         "4"
        ],
        [
         "119",
         "Healthcare Representative",
         "4"
        ],
        [
         "120",
         "Sales Executive",
         "4"
        ]
       ],
       "datasetInfos": [
        {
         "name": "_sqldf",
         "schema": {
          "fields": [
           {
            "metadata": {},
            "name": "EmployeeNumber",
            "nullable": true,
            "type": "string"
           },
           {
            "metadata": {},
            "name": "JobRole",
            "nullable": true,
            "type": "string"
           },
           {
            "metadata": {},
            "name": "PerformanceRating",
            "nullable": true,
            "type": "string"
           }
          ],
          "type": "struct"
         },
         "tableIdentifier": null,
         "typeStr": "pyspark.sql.connect.dataframe.DataFrame"
        }
       ],
       "dbfsResultPath": null,
       "isJsonSchema": true,
       "metadata": {
        "createTempViewForImplicitDf": true,
        "dataframeName": "_sqldf",
        "executionCount": 32
       },
       "overflow": false,
       "plotOptions": {
        "customPlotOptions": {},
        "displayType": "table",
        "pivotAggregation": null,
        "pivotColumns": null,
        "xColumns": null,
        "yColumns": null
       },
       "removedWidgets": [],
       "schema": [
        {
         "metadata": "{}",
         "name": "EmployeeNumber",
         "type": "\"string\""
        },
        {
         "metadata": "{}",
         "name": "JobRole",
         "type": "\"string\""
        },
        {
         "metadata": "{}",
         "name": "PerformanceRating",
         "type": "\"string\""
        }
       ],
       "type": "table"
      }
     },
     "output_type": "display_data"
    }
   ],
   "source": [
    "%sql\n",
    "--Subquery example: find employees with above-average performance rating\n",
    "select EmployeeNumber, JobRole, PerformanceRating\n",
    "from ibm_employees\n",
    "where PerformanceRating > (\n",
    "  select avg(PerformanceRating)\n",
    "  from ibm_employees\n",
    ")\n",
    "limit (20);"
   ]
  },
  {
   "cell_type": "code",
   "execution_count": 0,
   "metadata": {
    "application/vnd.databricks.v1+cell": {
     "cellMetadata": {
      "byteLimit": 2048000,
      "implicitDf": true,
      "rowLimit": 10000
     },
     "inputWidgets": {},
     "nuid": "7432d5da-060a-424e-a9e2-a4d90f2fd4ac",
     "showTitle": false,
     "tableResultSettingsMap": {},
     "title": ""
    }
   },
   "outputs": [
    {
     "output_type": "display_data",
     "data": {
      "text/html": [
       "<style scoped>\n",
       "  .table-result-container {\n",
       "    max-height: 300px;\n",
       "    overflow: auto;\n",
       "  }\n",
       "  table, th, td {\n",
       "    border: 1px solid black;\n",
       "    border-collapse: collapse;\n",
       "  }\n",
       "  th, td {\n",
       "    padding: 5px;\n",
       "  }\n",
       "  th {\n",
       "    text-align: left;\n",
       "  }\n",
       "</style><div class='table-result-container'><table class='table-result'><thead style='background-color: white'><tr><th>EmployeeNumber</th><th>JobRole</th><th>Department</th><th>MonthlyIncome</th><th>IncomeRank</th></tr></thead><tbody><tr><td>590</td><td>Human Resources</td><td>Human Resources</td><td>9950</td><td>1</td></tr><tr><td>1744</td><td>Human Resources</td><td>Human Resources</td><td>9756</td><td>2</td></tr><tr><td>2040</td><td>Human Resources</td><td>Human Resources</td><td>8837</td><td>3</td></tr><tr><td>1419</td><td>Human Resources</td><td>Human Resources</td><td>7988</td><td>4</td></tr><tr><td>1722</td><td>Human Resources</td><td>Human Resources</td><td>6430</td><td>5</td></tr><tr><td>424</td><td>Human Resources</td><td>Human Resources</td><td>6410</td><td>6</td></tr><tr><td>760</td><td>Human Resources</td><td>Human Resources</td><td>6389</td><td>7</td></tr><tr><td>184</td><td>Human Resources</td><td>Human Resources</td><td>6347</td><td>8</td></tr><tr><td>1231</td><td>Human Resources</td><td>Human Resources</td><td>6272</td><td>9</td></tr><tr><td>1563</td><td>Human Resources</td><td>Human Resources</td><td>6077</td><td>10</td></tr><tr><td>665</td><td>Human Resources</td><td>Human Resources</td><td>5985</td><td>11</td></tr><tr><td>1642</td><td>Human Resources</td><td>Human Resources</td><td>5743</td><td>12</td></tr><tr><td>909</td><td>Human Resources</td><td>Human Resources</td><td>5204</td><td>13</td></tr><tr><td>103</td><td>Human Resources</td><td>Human Resources</td><td>5021</td><td>14</td></tr><tr><td>869</td><td>Human Resources</td><td>Human Resources</td><td>4936</td><td>15</td></tr><tr><td>1289</td><td>Human Resources</td><td>Human Resources</td><td>4490</td><td>16</td></tr><tr><td>1164</td><td>Human Resources</td><td>Human Resources</td><td>4323</td><td>17</td></tr><tr><td>1794</td><td>Human Resources</td><td>Human Resources</td><td>4071</td><td>18</td></tr><tr><td>1890</td><td>Human Resources</td><td>Human Resources</td><td>3886</td><td>19</td></tr><tr><td>847</td><td>Human Resources</td><td>Human Resources</td><td>3737</td><td>20</td></tr><tr><td>1207</td><td>Human Resources</td><td>Human Resources</td><td>3600</td><td>21</td></tr><tr><td>1778</td><td>Human Resources</td><td>Human Resources</td><td>3539</td><td>22</td></tr><tr><td>1314</td><td>Human Resources</td><td>Human Resources</td><td>3423</td><td>23</td></tr><tr><td>1683</td><td>Human Resources</td><td>Human Resources</td><td>3195</td><td>24</td></tr><tr><td>1972</td><td>Human Resources</td><td>Human Resources</td><td>2991</td><td>25</td></tr><tr><td>1842</td><td>Human Resources</td><td>Human Resources</td><td>2956</td><td>26</td></tr><tr><td>177</td><td>Human Resources</td><td>Human Resources</td><td>2942</td><td>27</td></tr><tr><td>1944</td><td>Human Resources</td><td>Human Resources</td><td>2863</td><td>28</td></tr><tr><td>1152</td><td>Human Resources</td><td>Human Resources</td><td>2844</td><td>29</td></tr><tr><td>1865</td><td>Human Resources</td><td>Human Resources</td><td>2804</td><td>30</td></tr><tr><td>1467</td><td>Human Resources</td><td>Human Resources</td><td>2742</td><td>31</td></tr><tr><td>608</td><td>Human Resources</td><td>Human Resources</td><td>2741</td><td>32</td></tr><tr><td>1858</td><td>Human Resources</td><td>Human Resources</td><td>2706</td><td>33</td></tr><tr><td>470</td><td>Human Resources</td><td>Human Resources</td><td>2696</td><td>34</td></tr><tr><td>1805</td><td>Human Resources</td><td>Human Resources</td><td>2592</td><td>35</td></tr><tr><td>566</td><td>Human Resources</td><td>Human Resources</td><td>2564</td><td>36</td></tr><tr><td>878</td><td>Human Resources</td><td>Human Resources</td><td>2342</td><td>37</td></tr><tr><td>1844</td><td>Human Resources</td><td>Human Resources</td><td>2335</td><td>38</td></tr><tr><td>910</td><td>Human Resources</td><td>Human Resources</td><td>2277</td><td>39</td></tr><tr><td>321</td><td>Human Resources</td><td>Human Resources</td><td>2267</td><td>40</td></tr><tr><td>1987</td><td>Human Resources</td><td>Human Resources</td><td>2187</td><td>41</td></tr><tr><td>1747</td><td>Human Resources</td><td>Human Resources</td><td>2180</td><td>42</td></tr><tr><td>1049</td><td>Human Resources</td><td>Human Resources</td><td>2177</td><td>43</td></tr><tr><td>1818</td><td>Human Resources</td><td>Human Resources</td><td>2148</td><td>44</td></tr><tr><td>1746</td><td>Human Resources</td><td>Human Resources</td><td>2145</td><td>45</td></tr><tr><td>829</td><td>Human Resources</td><td>Human Resources</td><td>2143</td><td>46</td></tr><tr><td>1461</td><td>Human Resources</td><td>Human Resources</td><td>2109</td><td>47</td></tr><tr><td>133</td><td>Human Resources</td><td>Human Resources</td><td>2073</td><td>48</td></tr><tr><td>1499</td><td>Human Resources</td><td>Human Resources</td><td>2064</td><td>49</td></tr><tr><td>1338</td><td>Manager</td><td>Human Resources</td><td>19717</td><td>50</td></tr><tr><td>1625</td><td>Manager</td><td>Human Resources</td><td>19658</td><td>51</td></tr><tr><td>1973</td><td>Manager</td><td>Human Resources</td><td>19636</td><td>52</td></tr><tr><td>734</td><td>Manager</td><td>Human Resources</td><td>19189</td><td>53</td></tr><tr><td>731</td><td>Manager</td><td>Human Resources</td><td>19141</td><td>54</td></tr><tr><td>140</td><td>Manager</td><td>Human Resources</td><td>18844</td><td>55</td></tr><tr><td>644</td><td>Manager</td><td>Human Resources</td><td>18200</td><td>56</td></tr><tr><td>148</td><td>Manager</td><td>Human Resources</td><td>17328</td><td>57</td></tr><tr><td>1408</td><td>Manager</td><td>Human Resources</td><td>16799</td><td>58</td></tr><tr><td>1550</td><td>Manager</td><td>Human Resources</td><td>16437</td><td>59</td></tr><tr><td>1714</td><td>Human Resources</td><td>Human Resources</td><td>1555</td><td>60</td></tr><tr><td>1352</td><td>Manager</td><td>Human Resources</td><td>14026</td><td>61</td></tr><tr><td>698</td><td>Human Resources</td><td>Human Resources</td><td>10725</td><td>62</td></tr><tr><td>1098</td><td>Human Resources</td><td>Human Resources</td><td>10482</td><td>63</td></tr><tr><td>2062</td><td>Healthcare Representative</td><td>Research & Development</td><td>9991</td><td>1</td></tr><tr><td>451</td><td>Healthcare Representative</td><td>Research & Development</td><td>9985</td><td>2</td></tr><tr><td>20</td><td>Manufacturing Director</td><td>Research & Development</td><td>9980</td><td>3</td></tr><tr><td>1084</td><td>Manufacturing Director</td><td>Research & Development</td><td>9957</td><td>4</td></tr><tr><td>2057</td><td>Manufacturing Director</td><td>Research & Development</td><td>9936</td><td>5</td></tr><tr><td>70</td><td>Healthcare Representative</td><td>Research & Development</td><td>9884</td><td>6</td></tr><tr><td>587</td><td>Healthcare Representative</td><td>Research & Development</td><td>9824</td><td>7</td></tr><tr><td>634</td><td>Healthcare Representative</td><td>Research & Development</td><td>9824</td><td>7</td></tr><tr><td>86</td><td>Research Scientist</td><td>Research & Development</td><td>9724</td><td>9</td></tr><tr><td>1544</td><td>Healthcare Representative</td><td>Research & Development</td><td>9715</td><td>10</td></tr><tr><td>1966</td><td>Manufacturing Director</td><td>Research & Development</td><td>9679</td><td>11</td></tr><tr><td>1816</td><td>Manufacturing Director</td><td>Research & Development</td><td>9667</td><td>12</td></tr><tr><td>417</td><td>Healthcare Representative</td><td>Research & Development</td><td>9613</td><td>13</td></tr><tr><td>256</td><td>Manufacturing Director</td><td>Research & Development</td><td>9547</td><td>14</td></tr><tr><td>12</td><td>Manufacturing Director</td><td>Research & Development</td><td>9526</td><td>15</td></tr><tr><td>223</td><td>Healthcare Representative</td><td>Research & Development</td><td>9439</td><td>16</td></tr><tr><td>689</td><td>Manufacturing Director</td><td>Research & Development</td><td>9434</td><td>17</td></tr><tr><td>288</td><td>Healthcare Representative</td><td>Research & Development</td><td>9396</td><td>18</td></tr><tr><td>1465</td><td>Manufacturing Director</td><td>Research & Development</td><td>9380</td><td>19</td></tr><tr><td>1412</td><td>Manufacturing Director</td><td>Research & Development</td><td>9362</td><td>20</td></tr><tr><td>442</td><td>Manufacturing Director</td><td>Research & Development</td><td>8943</td><td>21</td></tr><tr><td>1821</td><td>Healthcare Representative</td><td>Research & Development</td><td>8926</td><td>22</td></tr><tr><td>1073</td><td>Manufacturing Director</td><td>Research & Development</td><td>8858</td><td>23</td></tr><tr><td>1590</td><td>Healthcare Representative</td><td>Research & Development</td><td>8853</td><td>24</td></tr><tr><td>699</td><td>Manufacturing Director</td><td>Research & Development</td><td>8847</td><td>25</td></tr><tr><td>1088</td><td>Healthcare Representative</td><td>Research & Development</td><td>8823</td><td>26</td></tr><tr><td>733</td><td>Manufacturing Director</td><td>Research & Development</td><td>8793</td><td>27</td></tr><tr><td>1082</td><td>Healthcare Representative</td><td>Research & Development</td><td>8722</td><td>28</td></tr><tr><td>1993</td><td>Healthcare Representative</td><td>Research & Development</td><td>8633</td><td>29</td></tr><tr><td>717</td><td>Healthcare Representative</td><td>Research & Development</td><td>8621</td><td>30</td></tr><tr><td>1529</td><td>Healthcare Representative</td><td>Research & Development</td><td>8606</td><td>31</td></tr><tr><td>1857</td><td>Manufacturing Director</td><td>Research & Development</td><td>8578</td><td>32</td></tr><tr><td>1344</td><td>Healthcare Representative</td><td>Research & Development</td><td>8500</td><td>33</td></tr><tr><td>292</td><td>Manufacturing Director</td><td>Research & Development</td><td>8474</td><td>34</td></tr><tr><td>1525</td><td>Manufacturing Director</td><td>Research & Development</td><td>8376</td><td>35</td></tr><tr><td>1790</td><td>Healthcare Representative</td><td>Research & Development</td><td>8321</td><td>36</td></tr><tr><td>464</td><td>Manufacturing Director</td><td>Research & Development</td><td>8095</td><td>37</td></tr><tr><td>1651</td><td>Healthcare Representative</td><td>Research & Development</td><td>8008</td><td>38</td></tr><tr><td>1295</td><td>Healthcare Representative</td><td>Research & Development</td><td>7978</td><td>39</td></tr><tr><td>543</td><td>Manufacturing Director</td><td>Research & Development</td><td>7969</td><td>40</td></tr><tr><td>1641</td><td>Manufacturing Director</td><td>Research & Development</td><td>7945</td><td>41</td></tr><tr><td>1363</td><td>Manufacturing Director</td><td>Research & Development</td><td>7898</td><td>42</td></tr><tr><td>1703</td><td>Healthcare Representative</td><td>Research & Development</td><td>7879</td><td>43</td></tr><tr><td>743</td><td>Manufacturing Director</td><td>Research & Development</td><td>7861</td><td>44</td></tr><tr><td>1133</td><td>Manufacturing Director</td><td>Research & Development</td><td>7779</td><td>45</td></tr><tr><td>1103</td><td>Healthcare Representative</td><td>Research & Development</td><td>7756</td><td>46</td></tr><tr><td>1638</td><td>Manufacturing Director</td><td>Research & Development</td><td>7756</td><td>46</td></tr><tr><td>692</td><td>Healthcare Representative</td><td>Research & Development</td><td>7725</td><td>48</td></tr><tr><td>1121</td><td>Manufacturing Director</td><td>Research & Development</td><td>7655</td><td>49</td></tr><tr><td>586</td><td>Healthcare Representative</td><td>Research & Development</td><td>7632</td><td>50</td></tr><tr><td>724</td><td>Healthcare Representative</td><td>Research & Development</td><td>7625</td><td>51</td></tr><tr><td>1421</td><td>Healthcare Representative</td><td>Research & Development</td><td>7553</td><td>52</td></tr><tr><td>1971</td><td>Healthcare Representative</td><td>Research & Development</td><td>7510</td><td>53</td></tr><tr><td>623</td><td>Manufacturing Director</td><td>Research & Development</td><td>7491</td><td>54</td></tr><tr><td>145</td><td>Healthcare Representative</td><td>Research & Development</td><td>7484</td><td>55</td></tr><tr><td>1459</td><td>Manufacturing Director</td><td>Research & Development</td><td>7446</td><td>56</td></tr><tr><td>1553</td><td>Healthcare Representative</td><td>Research & Development</td><td>7441</td><td>57</td></tr><tr><td>725</td><td>Manufacturing Director</td><td>Research & Development</td><td>7412</td><td>58</td></tr><tr><td>605</td><td>Manufacturing Director</td><td>Research & Development</td><td>7406</td><td>59</td></tr><tr><td>944</td><td>Laboratory Technician</td><td>Research & Development</td><td>7403</td><td>60</td></tr><tr><td>1228</td><td>Manufacturing Director</td><td>Research & Development</td><td>7379</td><td>61</td></tr><tr><td>112</td><td>Manufacturing Director</td><td>Research & Development</td><td>7260</td><td>62</td></tr><tr><td>462</td><td>Manufacturing Director</td><td>Research & Development</td><td>7143</td><td>63</td></tr><tr><td>1099</td><td>Healthcare Representative</td><td>Research & Development</td><td>7119</td><td>64</td></tr><tr><td>1312</td><td>Healthcare Representative</td><td>Research & Development</td><td>7094</td><td>65</td></tr><tr><td>1689</td><td>Healthcare Representative</td><td>Research & Development</td><td>7005</td><td>66</td></tr><tr><td>1847</td><td>Research Scientist</td><td>Research & Development</td><td>6962</td><td>67</td></tr><tr><td>969</td><td>Healthcare Representative</td><td>Research & Development</td><td>6949</td><td>68</td></tr><tr><td>1728</td><td>Manufacturing Director</td><td>Research & Development</td><td>6883</td><td>69</td></tr><tr><td>833</td><td>Manufacturing Director</td><td>Research & Development</td><td>6877</td><td>70</td></tr><tr><td>1814</td><td>Healthcare Representative</td><td>Research & Development</td><td>6870</td><td>71</td></tr><tr><td>1830</td><td>Research Scientist</td><td>Research & Development</td><td>6854</td><td>72</td></tr><tr><td>1664</td><td>Healthcare Representative</td><td>Research & Development</td><td>6842</td><td>73</td></tr><tr><td>1251</td><td>Healthcare Representative</td><td>Research & Development</td><td>6833</td><td>74</td></tr><tr><td>1252</td><td>Healthcare Representative</td><td>Research & Development</td><td>6812</td><td>75</td></tr><tr><td>616</td><td>Healthcare Representative</td><td>Research & Development</td><td>6811</td><td>76</td></tr><tr><td>764</td><td>Healthcare Representative</td><td>Research & Development</td><td>6811</td><td>76</td></tr><tr><td>275</td><td>Manufacturing Director</td><td>Research & Development</td><td>6804</td><td>78</td></tr><tr><td>1132</td><td>Laboratory Technician</td><td>Research & Development</td><td>6782</td><td>79</td></tr><tr><td>477</td><td>Healthcare Representative</td><td>Research & Development</td><td>6781</td><td>80</td></tr><tr><td>482</td><td>Healthcare Representative</td><td>Research & Development</td><td>6755</td><td>81</td></tr><tr><td>966</td><td>Manufacturing Director</td><td>Research & Development</td><td>6725</td><td>82</td></tr><tr><td>1383</td><td>Healthcare Representative</td><td>Research & Development</td><td>6687</td><td>83</td></tr><tr><td>1315</td><td>Laboratory Technician</td><td>Research & Development</td><td>6674</td><td>84</td></tr><tr><td>282</td><td>Healthcare Representative</td><td>Research & Development</td><td>6673</td><td>85</td></tr><tr><td>1955</td><td>Healthcare Representative</td><td>Research & Development</td><td>6667</td><td>86</td></tr><tr><td>1473</td><td>Healthcare Representative</td><td>Research & Development</td><td>6651</td><td>87</td></tr><tr><td>691</td><td>Research Scientist</td><td>Research & Development</td><td>6646</td><td>88</td></tr><tr><td>1260</td><td>Healthcare Representative</td><td>Research & Development</td><td>6623</td><td>89</td></tr><tr><td>924</td><td>Healthcare Representative</td><td>Research & Development</td><td>6586</td><td>90</td></tr><tr><td>170</td><td>Manufacturing Director</td><td>Research & Development</td><td>6567</td><td>91</td></tr><tr><td>271</td><td>Manufacturing Director</td><td>Research & Development</td><td>6553</td><td>92</td></tr><tr><td>1514</td><td>Manufacturing Director</td><td>Research & Development</td><td>6549</td><td>93</td></tr><tr><td>347</td><td>Research Scientist</td><td>Research & Development</td><td>6545</td><td>94</td></tr><tr><td>496</td><td>Healthcare Representative</td><td>Research & Development</td><td>6540</td><td>95</td></tr><tr><td>1724</td><td>Manufacturing Director</td><td>Research & Development</td><td>6516</td><td>96</td></tr><tr><td>1822</td><td>Healthcare Representative</td><td>Research & Development</td><td>6513</td><td>97</td></tr><tr><td>85</td><td>Manufacturing Director</td><td>Research & Development</td><td>6499</td><td>98</td></tr><tr><td>1196</td><td>Manufacturing Director</td><td>Research & Development</td><td>6474</td><td>99</td></tr><tr><td>1737</td><td>Laboratory Technician</td><td>Research & Development</td><td>6472</td><td>100</td></tr><tr><td>40</td><td>Healthcare Representative</td><td>Research & Development</td><td>6465</td><td>101</td></tr><tr><td>635</td><td>Manufacturing Director</td><td>Research & Development</td><td>6447</td><td>102</td></tr><tr><td>341</td><td>Manufacturing Director</td><td>Research & Development</td><td>6434</td><td>103</td></tr><tr><td>384</td><td>Manufacturing Director</td><td>Research & Development</td><td>6397</td><td>104</td></tr><tr><td>1515</td><td>Healthcare Representative</td><td>Research & Development</td><td>6388</td><td>105</td></tr><tr><td>1034</td><td>Healthcare Representative</td><td>Research & Development</td><td>6385</td><td>106</td></tr><tr><td>1859</td><td>Healthcare Representative</td><td>Research & Development</td><td>6384</td><td>107</td></tr><tr><td>1375</td><td>Healthcare Representative</td><td>Research & Development</td><td>6377</td><td>108</td></tr><tr><td>460</td><td>Manufacturing Director</td><td>Research & Development</td><td>6347</td><td>109</td></tr><tr><td>1985</td><td>Laboratory Technician</td><td>Research & Development</td><td>6323</td><td>110</td></tr><tr><td>679</td><td>Research Scientist</td><td>Research & Development</td><td>6322</td><td>111</td></tr><tr><td>2026</td><td>Healthcare Representative</td><td>Research & Development</td><td>6306</td><td>112</td></tr><tr><td>1753</td><td>Healthcare Representative</td><td>Research & Development</td><td>6294</td><td>113</td></tr><tr><td>837</td><td>Healthcare Representative</td><td>Research & Development</td><td>6288</td><td>114</td></tr><tr><td>273</td><td>Manufacturing Director</td><td>Research & Development</td><td>6261</td><td>115</td></tr><tr><td>96</td><td>Research Scientist</td><td>Research & Development</td><td>6220</td><td>116</td></tr><tr><td>1389</td><td>Manufacturing Director</td><td>Research & Development</td><td>6179</td><td>117</td></tr><tr><td>78</td><td>Manufacturing Director</td><td>Research & Development</td><td>6162</td><td>118</td></tr><tr><td>830</td><td>Manufacturing Director</td><td>Research & Development</td><td>6162</td><td>118</td></tr><tr><td>757</td><td>Healthcare Representative</td><td>Research & Development</td><td>6142</td><td>120</td></tr><tr><td>1587</td><td>Healthcare Representative</td><td>Research & Development</td><td>6142</td><td>120</td></tr><tr><td>2064</td><td>Manufacturing Director</td><td>Research & Development</td><td>6142</td><td>120</td></tr><tr><td>211</td><td>Manufacturing Director</td><td>Research & Development</td><td>6132</td><td>123</td></tr><tr><td>548</td><td>Manufacturing Director</td><td>Research & Development</td><td>6091</td><td>124</td></tr><tr><td>147</td><td>Laboratory Technician</td><td>Research & Development</td><td>6074</td><td>125</td></tr><tr><td>827</td><td>Manufacturing Director</td><td>Research & Development</td><td>6062</td><td>126</td></tr><tr><td>466</td><td>Manufacturing Director</td><td>Research & Development</td><td>6032</td><td>127</td></tr><tr><td>77</td><td>Manufacturing Director</td><td>Research & Development</td><td>5993</td><td>128</td></tr><tr><td>803</td><td>Manufacturing Director</td><td>Research & Development</td><td>5980</td><td>129</td></tr><tr><td>474</td><td>Research Scientist</td><td>Research & Development</td><td>5974</td><td>130</td></tr><tr><td>1970</td><td>Healthcare Representative</td><td>Research & Development</td><td>5968</td><td>131</td></tr><tr><td>339</td><td>Manufacturing Director</td><td>Research & Development</td><td>5957</td><td>132</td></tr><tr><td>852</td><td>Healthcare Representative</td><td>Research & Development</td><td>5933</td><td>133</td></tr><tr><td>261</td><td>Manufacturing Director</td><td>Research & Development</td><td>5916</td><td>134</td></tr><tr><td>76</td><td>Laboratory Technician</td><td>Research & Development</td><td>5915</td><td>135</td></tr><tr><td>304</td><td>Laboratory Technician</td><td>Research & Development</td><td>5914</td><td>136</td></tr><tr><td>1888</td><td>Manufacturing Director</td><td>Research & Development</td><td>5906</td><td>137</td></tr><tr><td>1555</td><td>Research Scientist</td><td>Research & Development</td><td>5878</td><td>138</td></tr><tr><td>961</td><td>Healthcare Representative</td><td>Research & Development</td><td>5855</td><td>139</td></tr><tr><td>1766</td><td>Healthcare Representative</td><td>Research & Development</td><td>5811</td><td>140</td></tr><tr><td>1435</td><td>Laboratory Technician</td><td>Research & Development</td><td>5810</td><td>141</td></tr><tr><td>441</td><td>Research Scientist</td><td>Research & Development</td><td>5775</td><td>142</td></tr><tr><td>1635</td><td>Manufacturing Director</td><td>Research & Development</td><td>5770</td><td>143</td></tr><tr><td>1611</td><td>Laboratory Technician</td><td>Research & Development</td><td>5769</td><td>144</td></tr><tr><td>1631</td><td>Manufacturing Director</td><td>Research & Development</td><td>5768</td><td>145</td></tr><tr><td>1804</td><td>Manufacturing Director</td><td>Research & Development</td><td>5762</td><td>146</td></tr><tr><td>1932</td><td>Research Scientist</td><td>Research & Development</td><td>5747</td><td>147</td></tr><tr><td>393</td><td>Healthcare Representative</td><td>Research & Development</td><td>5745</td><td>148</td></tr><tr><td>1161</td><td>Healthcare Representative</td><td>Research & Development</td><td>5731</td><td>149</td></tr><tr><td>2049</td><td>Healthcare Representative</td><td>Research & Development</td><td>5689</td><td>150</td></tr><tr><td>663</td><td>Laboratory Technician</td><td>Research & Development</td><td>5679</td><td>151</td></tr><tr><td>419</td><td>Laboratory Technician</td><td>Research & Development</td><td>5674</td><td>152</td></tr><tr><td>412</td><td>Healthcare Representative</td><td>Research & Development</td><td>5661</td><td>153</td></tr><tr><td>422</td><td>Healthcare Representative</td><td>Research & Development</td><td>5660</td><td>154</td></tr><tr><td>202</td><td>Research Scientist</td><td>Research & Development</td><td>5605</td><td>155</td></tr><tr><td>367</td><td>Healthcare Representative</td><td>Research & Development</td><td>5582</td><td>156</td></tr><tr><td>630</td><td>Research Scientist</td><td>Research & Development</td><td>5577</td><td>157</td></tr><tr><td>902</td><td>Healthcare Representative</td><td>Research & Development</td><td>5562</td><td>158</td></tr><tr><td>1594</td><td>Laboratory Technician</td><td>Research & Development</td><td>5562</td><td>158</td></tr><tr><td>1727</td><td>Healthcare Representative</td><td>Research & Development</td><td>5562</td><td>158</td></tr><tr><td>1803</td><td>Healthcare Representative</td><td>Research & Development</td><td>5538</td><td>161</td></tr><tr><td>998</td><td>Healthcare Representative</td><td>Research & Development</td><td>5488</td><td>162</td></tr><tr><td>799</td><td>Manufacturing Director</td><td>Research & Development</td><td>5485</td><td>163</td></tr><tr><td>1580</td><td>Research Scientist</td><td>Research & Development</td><td>5484</td><td>164</td></tr><tr><td>408</td><td>Manufacturing Director</td><td>Research & Development</td><td>5482</td><td>165</td></tr><tr><td>1018</td><td>Manufacturing Director</td><td>Research & Development</td><td>5472</td><td>166</td></tr><tr><td>1671</td><td>Research Scientist</td><td>Research & Development</td><td>5470</td><td>167</td></tr><tr><td>1392</td><td>Research Scientist</td><td>Research & Development</td><td>5467</td><td>168</td></tr><tr><td>1934</td><td>Research Scientist</td><td>Research & Development</td><td>5467</td><td>168</td></tr><tr><td>1658</td><td>Research Scientist</td><td>Research & Development</td><td>5433</td><td>170</td></tr><tr><td>1377</td><td>Laboratory Technician</td><td>Research & Development</td><td>5429</td><td>171</td></tr><tr><td>389</td><td>Laboratory Technician</td><td>Research & Development</td><td>5415</td><td>172</td></tr><tr><td>1294</td><td>Manufacturing Director</td><td>Research & Development</td><td>5410</td><td>173</td></tr><tr><td>1998</td><td>Research Scientist</td><td>Research & Development</td><td>5410</td><td>173</td></tr><tr><td>1922</td><td>Healthcare Representative</td><td>Research & Development</td><td>5399</td><td>175</td></tr><tr><td>64</td><td>Laboratory Technician</td><td>Research & Development</td><td>5381</td><td>176</td></tr><tr><td>1618</td><td>Manufacturing Director</td><td>Research & Development</td><td>5377</td><td>177</td></tr><tr><td>1954</td><td>Healthcare Representative</td><td>Research & Development</td><td>5373</td><td>178</td></tr><tr><td>1369</td><td>Laboratory Technician</td><td>Research & Development</td><td>5363</td><td>179</td></tr><tr><td>1682</td><td>Healthcare Representative</td><td>Research & Development</td><td>5347</td><td>180</td></tr><tr><td>1807</td><td>Laboratory Technician</td><td>Research & Development</td><td>5346</td><td>181</td></tr><tr><td>1184</td><td>Healthcare Representative</td><td>Research & Development</td><td>5343</td><td>182</td></tr><tr><td>107</td><td>Research Scientist</td><td>Research & Development</td><td>5329</td><td>183</td></tr><tr><td>1997</td><td>Manufacturing Director</td><td>Research & Development</td><td>5321</td><td>184</td></tr><tr><td>772</td><td>Laboratory Technician</td><td>Research & Development</td><td>5309</td><td>185</td></tr><tr><td>1654</td><td>Manufacturing Director</td><td>Research & Development</td><td>5295</td><td>186</td></tr><tr><td>1763</td><td>Healthcare Representative</td><td>Research & Development</td><td>5294</td><td>187</td></tr><tr><td>270</td><td>Manufacturing Director</td><td>Research & Development</td><td>5265</td><td>188</td></tr><tr><td>487</td><td>Manufacturing Director</td><td>Research & Development</td><td>5258</td><td>189</td></tr><tr><td>448</td><td>Laboratory Technician</td><td>Research & Development</td><td>5257</td><td>190</td></tr><tr><td>1736</td><td>Manufacturing Director</td><td>Research & Development</td><td>5238</td><td>191</td></tr><tr><td>13</td><td>Healthcare Representative</td><td>Research & Development</td><td>5237</td><td>192</td></tr><tr><td>894</td><td>Laboratory Technician</td><td>Research & Development</td><td>5231</td><td>193</td></tr><tr><td>823</td><td>Manufacturing Director</td><td>Research & Development</td><td>5228</td><td>194</td></tr><tr><td>425</td><td>Laboratory Technician</td><td>Research & Development</td><td>5210</td><td>195</td></tr><tr><td>1621</td><td>Research Scientist</td><td>Research & Development</td><td>5208</td><td>196</td></tr><tr><td>1549</td><td>Laboratory Technician</td><td>Research & Development</td><td>5207</td><td>197</td></tr><tr><td>1653</td><td>Manufacturing Director</td><td>Research & Development</td><td>5206</td><td>198</td></tr><tr><td>865</td><td>Research Scientist</td><td>Research & Development</td><td>5175</td><td>199</td></tr><tr><td>139</td><td>Healthcare Representative</td><td>Research & Development</td><td>5163</td><td>200</td></tr><tr><td>1936</td><td>Manufacturing Director</td><td>Research & Development</td><td>5151</td><td>201</td></tr><tr><td>2025</td><td>Manufacturing Director</td><td>Research & Development</td><td>5131</td><td>202</td></tr><tr><td>2</td><td>Research Scientist</td><td>Research & Development</td><td>5130</td><td>203</td></tr><tr><td>104</td><td>Laboratory Technician</td><td>Research & Development</td><td>5126</td><td>204</td></tr><tr><td>775</td><td>Manufacturing Director</td><td>Research & Development</td><td>5121</td><td>205</td></tr><tr><td>2008</td><td>Research Scientist</td><td>Research & Development</td><td>5098</td><td>206</td></tr><tr><td>832</td><td>Laboratory Technician</td><td>Research & Development</td><td>5094</td><td>207</td></tr><tr><td>771</td><td>Healthcare Representative</td><td>Research & Development</td><td>5093</td><td>208</td></tr><tr><td>574</td><td>Manufacturing Director</td><td>Research & Development</td><td>5070</td><td>209</td></tr><tr><td>987</td><td>Manufacturing Director</td><td>Research & Development</td><td>5067</td><td>210</td></tr><tr><td>1597</td><td>Healthcare Representative</td><td>Research & Development</td><td>5063</td><td>211</td></tr><tr><td>1150</td><td>Manufacturing Director</td><td>Research & Development</td><td>5056</td><td>212</td></tr><tr><td>439</td><td>Research Scientist</td><td>Research & Development</td><td>5055</td><td>213</td></tr><tr><td>1633</td><td>Manufacturing Director</td><td>Research & Development</td><td>5042</td><td>214</td></tr><tr><td>1903</td><td>Healthcare Representative</td><td>Research & Development</td><td>5033</td><td>215</td></tr><tr><td>1025</td><td>Manufacturing Director</td><td>Research & Development</td><td>5003</td><td>216</td></tr><tr><td>1956</td><td>Research Scientist</td><td>Research & Development</td><td>5003</td><td>216</td></tr><tr><td>1235</td><td>Research Scientist</td><td>Research & Development</td><td>4998</td><td>218</td></tr><tr><td>1745</td><td>Research Scientist</td><td>Research & Development</td><td>4968</td><td>219</td></tr><tr><td>161</td><td>Research Scientist</td><td>Research & Development</td><td>4963</td><td>220</td></tr><tr><td>178</td><td>Manufacturing Director</td><td>Research & Development</td><td>4941</td><td>221</td></tr><tr><td>433</td><td>Research Scientist</td><td>Research & Development</td><td>4941</td><td>221</td></tr><tr><td>1704</td><td>Research Scientist</td><td>Research & Development</td><td>4930</td><td>223</td></tr><tr><td>1483</td><td>Research Scientist</td><td>Research & Development</td><td>4900</td><td>224</td></tr><tr><td>350</td><td>Manufacturing Director</td><td>Research & Development</td><td>4898</td><td>225</td></tr><tr><td>1309</td><td>Laboratory Technician</td><td>Research & Development</td><td>4883</td><td>226</td></tr><tr><td>2009</td><td>Healthcare Representative</td><td>Research & Development</td><td>4878</td><td>227</td></tr><tr><td>1622</td><td>Manufacturing Director</td><td>Research & Development</td><td>4877</td><td>228</td></tr><tr><td>287</td><td>Healthcare Representative</td><td>Research & Development</td><td>4876</td><td>229</td></tr><tr><td>1599</td><td>Laboratory Technician</td><td>Research & Development</td><td>4876</td><td>229</td></tr><tr><td>450</td><td>Research Scientist</td><td>Research & Development</td><td>4869</td><td>231</td></tr><tr><td>1573</td><td>Manufacturing Director</td><td>Research & Development</td><td>4855</td><td>232</td></tr><tr><td>1542</td><td>Laboratory Technician</td><td>Research & Development</td><td>4841</td><td>233</td></tr><tr><td>1052</td><td>Laboratory Technician</td><td>Research & Development</td><td>4834</td><td>234</td></tr><tr><td>423</td><td>Research Scientist</td><td>Research & Development</td><td>4821</td><td>235</td></tr><tr><td>550</td><td>Manufacturing Director</td><td>Research & Development</td><td>4810</td><td>236</td></tr><tr><td>138</td><td>Research Scientist</td><td>Research & Development</td><td>4809</td><td>237</td></tr><tr><td>1509</td><td>Laboratory Technician</td><td>Research & Development</td><td>4789</td><td>238</td></tr><tr><td>1886</td><td>Manufacturing Director</td><td>Research & Development</td><td>4788</td><td>239</td></tr><tr><td>2027</td><td>Research Scientist</td><td>Research & Development</td><td>4787</td><td>240</td></tr><tr><td>1033</td><td>Healthcare Representative</td><td>Research & Development</td><td>4777</td><td>241</td></tr><tr><td>872</td><td>Manufacturing Director</td><td>Research & Development</td><td>4775</td><td>242</td></tr><tr><td>1870</td><td>Research Scientist</td><td>Research & Development</td><td>4774</td><td>243</td></tr><tr><td>1940</td><td>Research Scientist</td><td>Research & Development</td><td>4771</td><td>244</td></tr><tr><td>1158</td><td>Laboratory Technician</td><td>Research & Development</td><td>4766</td><td>245</td></tr><tr><td>920</td><td>Manufacturing Director</td><td>Research & Development</td><td>4765</td><td>246</td></tr><tr><td>390</td><td>Healthcare Representative</td><td>Research & Development</td><td>4741</td><td>247</td></tr><tr><td>171</td><td>Research Scientist</td><td>Research & Development</td><td>4739</td><td>248</td></tr><tr><td>1668</td><td>Research Scientist</td><td>Research & Development</td><td>4735</td><td>249</td></tr><tr><td>1615</td><td>Manufacturing Director</td><td>Research & Development</td><td>4724</td><td>250</td></tr><tr><td>1586</td><td>Laboratory Technician</td><td>Research & Development</td><td>4723</td><td>251</td></tr><tr><td>957</td><td>Laboratory Technician</td><td>Research & Development</td><td>4721</td><td>252</td></tr><tr><td>1298</td><td>Manufacturing Director</td><td>Research & Development</td><td>4695</td><td>253</td></tr><tr><td>715</td><td>Research Scientist</td><td>Research & Development</td><td>4680</td><td>254</td></tr><tr><td>949</td><td>Research Scientist</td><td>Research & Development</td><td>4678</td><td>255</td></tr><tr><td>1614</td><td>Manufacturing Director</td><td>Research & Development</td><td>4663</td><td>256</td></tr><tr><td>1346</td><td>Research Scientist</td><td>Research & Development</td><td>4661</td><td>257</td></tr><tr><td>1311</td><td>Laboratory Technician</td><td>Research & Development</td><td>4627</td><td>258</td></tr><tr><td>1094</td><td>Laboratory Technician</td><td>Research & Development</td><td>4621</td><td>259</td></tr><tr><td>1981</td><td>Healthcare Representative</td><td>Research & Development</td><td>4617</td><td>260</td></tr><tr><td>1080</td><td>Research Scientist</td><td>Research & Development</td><td>4615</td><td>261</td></tr><tr><td>536</td><td>Laboratory Technician</td><td>Research & Development</td><td>4558</td><td>262</td></tr><tr><td>547</td><td>Research Scientist</td><td>Research & Development</td><td>4556</td><td>263</td></tr><tr><td>721</td><td>Healthcare Representative</td><td>Research & Development</td><td>4553</td><td>264</td></tr><tr><td>1225</td><td>Research Scientist</td><td>Research & Development</td><td>4541</td><td>265</td></tr><tr><td>1322</td><td>Manufacturing Director</td><td>Research & Development</td><td>4534</td><td>266</td></tr><tr><td>551</td><td>Healthcare Representative</td><td>Research & Development</td><td>4523</td><td>267</td></tr><tr><td>526</td><td>Healthcare Representative</td><td>Research & Development</td><td>4522</td><td>268</td></tr><tr><td>1101</td><td>Research Scientist</td><td>Research & Development</td><td>4508</td><td>269</td></tr><tr><td>151</td><td>Research Scientist</td><td>Research & Development</td><td>4505</td><td>270</td></tr><tr><td>397</td><td>Research Scientist</td><td>Research & Development</td><td>4485</td><td>271</td></tr><tr><td>1195</td><td>Research Scientist</td><td>Research & Development</td><td>4477</td><td>272</td></tr><tr><td>250</td><td>Manufacturing Director</td><td>Research & Development</td><td>4450</td><td>273</td></tr><tr><td>529</td><td>Research Scientist</td><td>Research & Development</td><td>4449</td><td>274</td></tr><tr><td>1829</td><td>Healthcare Representative</td><td>Research & Development</td><td>4448</td><td>275</td></tr><tr><td>972</td><td>Laboratory Technician</td><td>Research & Development</td><td>4447</td><td>276</td></tr><tr><td>1285</td><td>Laboratory Technician</td><td>Research & Development</td><td>4444</td><td>277</td></tr><tr><td>1980</td><td>Manufacturing Director</td><td>Research & Development</td><td>4440</td><td>278</td></tr><tr><td>836</td><td>Manufacturing Director</td><td>Research & Development</td><td>4434</td><td>279</td></tr><tr><td>269</td><td>Laboratory Technician</td><td>Research & Development</td><td>4425</td><td>280</td></tr><tr><td>98</td><td>Manufacturing Director</td><td>Research & Development</td><td>4424</td><td>281</td></tr><tr><td>1180</td><td>Research Scientist</td><td>Research & Development</td><td>4422</td><td>282</td></tr><tr><td>1177</td><td>Laboratory Technician</td><td>Research & Development</td><td>4420</td><td>283</td></tr><tr><td>2068</td><td>Laboratory Technician</td><td>Research & Development</td><td>4404</td><td>284</td></tr><tr><td>1707</td><td>Research Scientist</td><td>Research & Development</td><td>4401</td><td>285</td></tr><tr><td>828</td><td>Research Scientist</td><td>Research & Development</td><td>4382</td><td>286</td></tr><tr><td>804</td><td>Research Scientist</td><td>Research & Development</td><td>4381</td><td>287</td></tr><tr><td>1009</td><td>Manufacturing Director</td><td>Research & Development</td><td>4377</td><td>288</td></tr><tr><td>1662</td><td>Manufacturing Director</td><td>Research & Development</td><td>4374</td><td>289</td></tr><tr><td>792</td><td>Laboratory Technician</td><td>Research & Development</td><td>4364</td><td>290</td></tr><tr><td>308</td><td>Manufacturing Director</td><td>Research & Development</td><td>4345</td><td>291</td></tr><tr><td>793</td><td>Healthcare Representative</td><td>Research & Development</td><td>4335</td><td>292</td></tr><tr><td>1976</td><td>Research Scientist</td><td>Research & Development</td><td>4332</td><td>293</td></tr><tr><td>110</td><td>Manufacturing Director</td><td>Research & Development</td><td>4325</td><td>294</td></tr><tr><td>1545</td><td>Manufacturing Director</td><td>Research & Development</td><td>4320</td><td>295</td></tr><tr><td>208</td><td>Manufacturing Director</td><td>Research & Development</td><td>4319</td><td>296</td></tr><tr><td>193</td><td>Research Scientist</td><td>Research & Development</td><td>4317</td><td>297</td></tr><tr><td>524</td><td>Manufacturing Director</td><td>Research & Development</td><td>4306</td><td>298</td></tr><tr><td>274</td><td>Manufacturing Director</td><td>Research & Development</td><td>4298</td><td>299</td></tr><tr><td>1543</td><td>Research Scientist</td><td>Research & Development</td><td>4285</td><td>300</td></tr><tr><td>1420</td><td>Laboratory Technician</td><td>Research & Development</td><td>4284</td><td>301</td></tr><tr><td>1885</td><td>Research Scientist</td><td>Research & Development</td><td>4284</td><td>301</td></tr><tr><td>1148</td><td>Laboratory Technician</td><td>Research & Development</td><td>4272</td><td>303</td></tr><tr><td>611</td><td>Manufacturing Director</td><td>Research & Development</td><td>4262</td><td>304</td></tr><tr><td>791</td><td>Research Scientist</td><td>Research & Development</td><td>4258</td><td>305</td></tr><tr><td>241</td><td>Research Scientist</td><td>Research & Development</td><td>4257</td><td>306</td></tr><tr><td>1350</td><td>Research Scientist</td><td>Research & Development</td><td>4249</td><td>307</td></tr><tr><td>807</td><td>Healthcare Representative</td><td>Research & Development</td><td>4244</td><td>308</td></tr><tr><td>1022</td><td>Healthcare Representative</td><td>Research & Development</td><td>4240</td><td>309</td></tr><tr><td>577</td><td>Laboratory Technician</td><td>Research & Development</td><td>4230</td><td>310</td></tr><tr><td>1027</td><td>Manufacturing Director</td><td>Research & Development</td><td>4227</td><td>311</td></tr><tr><td>1809</td><td>Manufacturing Director</td><td>Research & Development</td><td>4213</td><td>312</td></tr><tr><td>190</td><td>Laboratory Technician</td><td>Research & Development</td><td>4200</td><td>313</td></tr><tr><td>518</td><td>Manufacturing Director</td><td>Research & Development</td><td>4197</td><td>314</td></tr><tr><td>1881</td><td>Laboratory Technician</td><td>Research & Development</td><td>4197</td><td>314</td></tr><tr><td>15</td><td>Laboratory Technician</td><td>Research & Development</td><td>4193</td><td>316</td></tr><tr><td>926</td><td>Manufacturing Director</td><td>Research & Development</td><td>4171</td><td>317</td></tr><tr><td>117</td><td>Healthcare Representative</td><td>Research & Development</td><td>4152</td><td>318</td></tr><tr><td>1011</td><td>Manufacturing Director</td><td>Research & Development</td><td>4148</td><td>319</td></tr><tr><td>1630</td><td>Healthcare Representative</td><td>Research & Development</td><td>4148</td><td>319</td></tr><tr><td>2014</td><td>Research Scientist</td><td>Research & Development</td><td>4108</td><td>321</td></tr><tr><td>1062</td><td>Healthcare Representative</td><td>Research & Development</td><td>4107</td><td>322</td></tr><tr><td>659</td><td>Healthcare Representative</td><td>Research & Development</td><td>4089</td><td>323</td></tr><tr><td>1574</td><td>Research Scientist</td><td>Research & Development</td><td>4087</td><td>324</td></tr><tr><td>1537</td><td>Research Scientist</td><td>Research & Development</td><td>4084</td><td>325</td></tr><tr><td>1402</td><td>Research Scientist</td><td>Research & Development</td><td>4081</td><td>326</td></tr><tr><td>1552</td><td>Healthcare Representative</td><td>Research & Development</td><td>4069</td><td>327</td></tr><tr><td>1619</td><td>Laboratory Technician</td><td>Research & Development</td><td>4066</td><td>328</td></tr><tr><td>1501</td><td>Healthcare Representative</td><td>Research & Development</td><td>4035</td><td>329</td></tr><tr><td>1140</td><td>Manufacturing Director</td><td>Research & Development</td><td>4033</td><td>330</td></tr><tr><td>538</td><td>Laboratory Technician</td><td>Research & Development</td><td>4031</td><td>331</td></tr><tr><td>1046</td><td>Laboratory Technician</td><td>Research & Development</td><td>4025</td><td>332</td></tr><tr><td>2053</td><td>Laboratory Technician</td><td>Research & Development</td><td>4025</td><td>332</td></tr><tr><td>75</td><td>Laboratory Technician</td><td>Research & Development</td><td>4014</td><td>334</td></tr><tr><td>942</td><td>Healthcare Representative</td><td>Research & Development</td><td>4014</td><td>334</td></tr><tr><td>26</td><td>Manufacturing Director</td><td>Research & Development</td><td>4011</td><td>336</td></tr><tr><td>57</td><td>Laboratory Technician</td><td>Research & Development</td><td>4011</td><td>336</td></tr><tr><td>369</td><td>Healthcare Representative</td><td>Research & Development</td><td>4000</td><td>338</td></tr><tr><td>1684</td><td>Laboratory Technician</td><td>Research & Development</td><td>3989</td><td>339</td></tr><tr><td>1696</td><td>Laboratory Technician</td><td>Research & Development</td><td>3986</td><td>340</td></tr><tr><td>455</td><td>Laboratory Technician</td><td>Research & Development</td><td>3983</td><td>341</td></tr><tr><td>1916</td><td>Laboratory Technician</td><td>Research & Development</td><td>3978</td><td>342</td></tr><tr><td>1992</td><td>Laboratory Technician</td><td>Research & Development</td><td>3977</td><td>343</td></tr><tr><td>1449</td><td>Laboratory Technician</td><td>Research & Development</td><td>3975</td><td>344</td></tr><tr><td>1860</td><td>Laboratory Technician</td><td>Research & Development</td><td>3968</td><td>345</td></tr><tr><td>1083</td><td>Laboratory Technician</td><td>Research & Development</td><td>3955</td><td>346</td></tr><tr><td>24</td><td>Research Scientist</td><td>Research & Development</td><td>3944</td><td>347</td></tr><tr><td>1640</td><td>Research Scientist</td><td>Research & Development</td><td>3936</td><td>348</td></tr><tr><td>246</td><td>Research Scientist</td><td>Research & Development</td><td>3929</td><td>349</td></tr><tr><td>340</td><td>Research Scientist</td><td>Research & Development</td><td>3920</td><td>350</td></tr><tr><td>33</td><td>Research Scientist</td><td>Research & Development</td><td>3919</td><td>351</td></tr><tr><td>1028</td><td>Laboratory Technician</td><td>Research & Development</td><td>3917</td><td>352</td></tr><tr><td>1725</td><td>Laboratory Technician</td><td>Research & Development</td><td>3907</td><td>353</td></tr><tr><td>1310</td><td>Research Scientist</td><td>Research & Development</td><td>3904</td><td>354</td></tr><tr><td>1407</td><td>Research Scientist</td><td>Research & Development</td><td>3904</td><td>354</td></tr><tr><td>1871</td><td>Research Scientist</td><td>Research & Development</td><td>3902</td><td>356</td></tr><tr><td>593</td><td>Laboratory Technician</td><td>Research & Development</td><td>3894</td><td>357</td></tr><tr><td>1296</td><td>Laboratory Technician</td><td>Research & Development</td><td>3867</td><td>358</td></tr><tr><td>1502</td><td>Laboratory Technician</td><td>Research & Development</td><td>3838</td><td>359</td></tr><tr><td>806</td><td>Laboratory Technician</td><td>Research & Development</td><td>3833</td><td>360</td></tr><tr><td>497</td><td>Laboratory Technician</td><td>Research & Development</td><td>3816</td><td>361</td></tr><tr><td>277</td><td>Research Scientist</td><td>Research & Development</td><td>3815</td><td>362</td></tr><tr><td>1852</td><td>Laboratory Technician</td><td>Research & Development</td><td>3812</td><td>363</td></tr><tr><td>2054</td><td>Research Scientist</td><td>Research & Development</td><td>3785</td><td>364</td></tr><tr><td>578</td><td>Laboratory Technician</td><td>Research & Development</td><td>3780</td><td>365</td></tr><tr><td>861</td><td>Research Scientist</td><td>Research & Development</td><td>3761</td><td>366</td></tr><tr><td>1249</td><td>Research Scientist</td><td>Research & Development</td><td>3760</td><td>367</td></tr><tr><td>1646</td><td>Research Scientist</td><td>Research & Development</td><td>3760</td><td>367</td></tr><tr><td>602</td><td>Laboratory Technician</td><td>Research & Development</td><td>3755</td><td>369</td></tr><tr><td>1989</td><td>Laboratory Technician</td><td>Research & Development</td><td>3748</td><td>370</td></tr><tr><td>1010</td><td>Laboratory Technician</td><td>Research & Development</td><td>3743</td><td>371</td></tr><tr><td>331</td><td>Laboratory Technician</td><td>Research & Development</td><td>3730</td><td>372</td></tr><tr><td>1464</td><td>Laboratory Technician</td><td>Research & Development</td><td>3722</td><td>373</td></tr><tr><td>744</td><td>Laboratory Technician</td><td>Research & Development</td><td>3708</td><td>374</td></tr><tr><td>1782</td><td>Laboratory Technician</td><td>Research & Development</td><td>3702</td><td>375</td></tr><tr><td>452</td><td>Research Scientist</td><td>Research & Development</td><td>3697</td><td>376</td></tr><tr><td>1257</td><td>Research Scientist</td><td>Research & Development</td><td>3692</td><td>377</td></tr><tr><td>1106</td><td>Laboratory Technician</td><td>Research & Development</td><td>3691</td><td>378</td></tr><tr><td>249</td><td>Laboratory Technician</td><td>Research & Development</td><td>3690</td><td>379</td></tr><tr><td>407</td><td>Laboratory Technician</td><td>Research & Development</td><td>3688</td><td>380</td></tr><tr><td>652</td><td>Laboratory Technician</td><td>Research & Development</td><td>3681</td><td>381</td></tr><tr><td>1480</td><td>Laboratory Technician</td><td>Research & Development</td><td>3673</td><td>382</td></tr><tr><td>1358</td><td>Laboratory Technician</td><td>Research & Development</td><td>3669</td><td>383</td></tr><tr><td>1097</td><td>Research Scientist</td><td>Research & Development</td><td>3660</td><td>384</td></tr><tr><td>1458</td><td>Laboratory Technician</td><td>Research & Development</td><td>3646</td><td>385</td></tr><tr><td>1002</td><td>Laboratory Technician</td><td>Research & Development</td><td>3633</td><td>386</td></tr><tr><td>1411</td><td>Laboratory Technician</td><td>Research & Development</td><td>3629</td><td>387</td></tr><tr><td>649</td><td>Research Scientist</td><td>Research & Development</td><td>3622</td><td>388</td></tr><tr><td>964</td><td>Research Scientist</td><td>Research & Development</td><td>3617</td><td>389</td></tr><tr><td>1173</td><td>Laboratory Technician</td><td>Research & Development</td><td>3597</td><td>390</td></tr><tr><td>1834</td><td>Research Scientist</td><td>Research & Development</td><td>3591</td><td>391</td></tr><tr><td>887</td><td>Research Scientist</td><td>Research & Development</td><td>3580</td><td>392</td></tr><tr><td>1241</td><td>Research Scientist</td><td>Research & Development</td><td>3579</td><td>393</td></tr><tr><td>1417</td><td>Laboratory Technician</td><td>Research & Development</td><td>3578</td><td>394</td></tr><tr><td>267</td><td>Research Scientist</td><td>Research & Development</td><td>3564</td><td>395</td></tr><tr><td>1340</td><td>Research Scientist</td><td>Research & Development</td><td>3544</td><td>396</td></tr><tr><td>1694</td><td>Research Scientist</td><td>Research & Development</td><td>3537</td><td>397</td></tr><tr><td>1647</td><td>Research Scientist</td><td>Research & Development</td><td>3517</td><td>398</td></tr><tr><td>1291</td><td>Research Scientist</td><td>Research & Development</td><td>3506</td><td>399</td></tr><tr><td>784</td><td>Research Scientist</td><td>Research & Development</td><td>3505</td><td>400</td></tr><tr><td>1440</td><td>Laboratory Technician</td><td>Research & Development</td><td>3500</td><td>401</td></tr><tr><td>1224</td><td>Laboratory Technician</td><td>Research & Development</td><td>3491</td><td>402</td></tr><tr><td>364</td><td>Laboratory Technician</td><td>Research & Development</td><td>3485</td><td>403</td></tr><tr><td>355</td><td>Laboratory Technician</td><td>Research & Development</td><td>3479</td><td>404</td></tr><tr><td>1721</td><td>Laboratory Technician</td><td>Research & Development</td><td>3477</td><td>405</td></tr><tr><td>7</td><td>Laboratory Technician</td><td>Research & Development</td><td>3468</td><td>406</td></tr><tr><td>440</td><td>Research Scientist</td><td>Research & Development</td><td>3464</td><td>407</td></tr><tr><td>192</td><td>Research Scientist</td><td>Research & Development</td><td>3452</td><td>408</td></tr><tr><td>486</td><td>Laboratory Technician</td><td>Research & Development</td><td>3452</td><td>408</td></tr><tr><td>995</td><td>Research Scientist</td><td>Research & Development</td><td>3452</td><td>408</td></tr><tr><td>521</td><td>Laboratory Technician</td><td>Research & Development</td><td>3448</td><td>411</td></tr><tr><td>1751</td><td>Research Scientist</td><td>Research & Development</td><td>3445</td><td>412</td></tr><tr><td>65</td><td>Laboratory Technician</td><td>Research & Development</td><td>3441</td><td>413</td></tr><tr><td>1720</td><td>Research Scientist</td><td>Research & Development</td><td>3433</td><td>414</td></tr><tr><td>854</td><td>Research Scientist</td><td>Research & Development</td><td>3424</td><td>415</td></tr><tr><td>1438</td><td>Research Scientist</td><td>Research & Development</td><td>3420</td><td>416</td></tr><tr><td>1475</td><td>Research Scientist</td><td>Research & Development</td><td>3420</td><td>416</td></tr><tr><td>51</td><td>Research Scientist</td><td>Research & Development</td><td>3419</td><td>418</td></tr><tr><td>584</td><td>Laboratory Technician</td><td>Research & Development</td><td>3408</td><td>419</td></tr><tr><td>1596</td><td>Laboratory Technician</td><td>Research & Development</td><td>3407</td><td>420</td></tr><tr><td>90</td><td>Research Scientist</td><td>Research & Development</td><td>3388</td><td>421</td></tr><tr><td>1802</td><td>Laboratory Technician</td><td>Research & Development</td><td>3377</td><td>422</td></tr><tr><td>1085</td><td>Research Scientist</td><td>Research & Development</td><td>3376</td><td>423</td></tr><tr><td>2007</td><td>Research Scientist</td><td>Research & Development</td><td>3375</td><td>424</td></tr><tr><td>702</td><td>Research Scientist</td><td>Research & Development</td><td>3348</td><td>425</td></tr><tr><td>214</td><td>Research Scientist</td><td>Research & Development</td><td>3346</td><td>426</td></tr><tr><td>1299</td><td>Laboratory Technician</td><td>Research & Development</td><td>3339</td><td>427</td></tr><tr><td>335</td><td>Research Scientist</td><td>Research & Development</td><td>3319</td><td>428</td></tr><tr><td>1607</td><td>Research Scientist</td><td>Research & Development</td><td>3312</td><td>429</td></tr><tr><td>395</td><td>Research Scientist</td><td>Research & Development</td><td>3310</td><td>430</td></tr><tr><td>1687</td><td>Laboratory Technician</td><td>Research & Development</td><td>3306</td><td>431</td></tr><tr><td>21</td><td>Research Scientist</td><td>Research & Development</td><td>3298</td><td>432</td></tr><tr><td>1735</td><td>Laboratory Technician</td><td>Research & Development</td><td>3295</td><td>433</td></tr><tr><td>1447</td><td>Laboratory Technician</td><td>Research & Development</td><td>3294</td><td>434</td></tr><tr><td>1143</td><td>Research Scientist</td><td>Research & Development</td><td>3291</td><td>435</td></tr><tr><td>797</td><td>Research Scientist</td><td>Research & Development</td><td>3280</td><td>436</td></tr><tr><td>379</td><td>Research Scientist</td><td>Research & Development</td><td>3230</td><td>437</td></tr><tr><td>1415</td><td>Laboratory Technician</td><td>Research & Development</td><td>3229</td><td>438</td></tr><tr><td>716</td><td>Laboratory Technician</td><td>Research & Development</td><td>3221</td><td>439</td></tr><tr><td>316</td><td>Laboratory Technician</td><td>Research & Development</td><td>3212</td><td>440</td></tr><tr><td>1617</td><td>Laboratory Technician</td><td>Research & Development</td><td>3211</td><td>441</td></tr><tr><td>373</td><td>Laboratory Technician</td><td>Research & Development</td><td>3210</td><td>442</td></tr><tr><td>197</td><td>Research Scientist</td><td>Research & Development</td><td>3204</td><td>443</td></tr><tr><td>1136</td><td>Research Scientist</td><td>Research & Development</td><td>3201</td><td>444</td></tr><tr><td>1216</td><td>Laboratory Technician</td><td>Research & Development</td><td>3196</td><td>445</td></tr><tr><td>1513</td><td>Laboratory Technician</td><td>Research & Development</td><td>3180</td><td>446</td></tr><tr><td>1494</td><td>Laboratory Technician</td><td>Research & Development</td><td>3172</td><td>447</td></tr><tr><td>888</td><td>Laboratory Technician</td><td>Research & Development</td><td>3162</td><td>448</td></tr><tr><td>1471</td><td>Laboratory Technician</td><td>Research & Development</td><td>3162</td><td>448</td></tr><tr><td>392</td><td>Laboratory Technician</td><td>Research & Development</td><td>3161</td><td>450</td></tr><tr><td>813</td><td>Laboratory Technician</td><td>Research & Development</td><td>3149</td><td>451</td></tr><tr><td>1798</td><td>Research Scientist</td><td>Research & Development</td><td>3143</td><td>452</td></tr><tr><td>1192</td><td>Laboratory Technician</td><td>Research & Development</td><td>3131</td><td>453</td></tr><tr><td>1623</td><td>Research Scientist</td><td>Research & Development</td><td>3117</td><td>454</td></tr><tr><td>510</td><td>Research Scientist</td><td>Research & Development</td><td>3102</td><td>455</td></tr><tr><td>239</td><td>Laboratory Technician</td><td>Research & Development</td><td>3072</td><td>456</td></tr><tr><td>334</td><td>Research Scientist</td><td>Research & Development</td><td>3072</td><td>456</td></tr><tr><td>1627</td><td>Laboratory Technician</td><td>Research & Development</td><td>3069</td><td>458</td></tr><tr><td>8</td><td>Laboratory Technician</td><td>Research & Development</td><td>3068</td><td>459</td></tr><tr><td>1948</td><td>Research Scientist</td><td>Research & Development</td><td>3065</td><td>460</td></tr><tr><td>233</td><td>Research Scientist</td><td>Research & Development</td><td>3058</td><td>461</td></tr><tr><td>773</td><td>Research Scientist</td><td>Research & Development</td><td>3057</td><td>462</td></tr><tr><td>1771</td><td>Research Scientist</td><td>Research & Development</td><td>3055</td><td>463</td></tr><tr><td>97</td><td>Laboratory Technician</td><td>Research & Development</td><td>3038</td><td>464</td></tr><tr><td>231</td><td>Research Scientist</td><td>Research & Development</td><td>3038</td><td>464</td></tr><tr><td>515</td><td>Laboratory Technician</td><td>Research & Development</td><td>3034</td><td>466</td></tr><tr><td>1198</td><td>Laboratory Technician</td><td>Research & Development</td><td>3033</td><td>467</td></tr><tr><td>61</td><td>Research Scientist</td><td>Research & Development</td><td>3022</td><td>468</td></tr><tr><td>1394</td><td>Research Scientist</td><td>Research & Development</td><td>2996</td><td>469</td></tr><tr><td>1431</td><td>Research Scientist</td><td>Research & Development</td><td>2996</td><td>469</td></tr><tr><td>1269</td><td>Research Scientist</td><td>Research & Development</td><td>2994</td><td>471</td></tr><tr><td>1115</td><td>Research Scientist</td><td>Research & Development</td><td>2979</td><td>472</td></tr><tr><td>2052</td><td>Research Scientist</td><td>Research & Development</td><td>2977</td><td>473</td></tr><tr><td>1709</td><td>Laboratory Technician</td><td>Research & Development</td><td>2974</td><td>474</td></tr><tr><td>960</td><td>Laboratory Technician</td><td>Research & Development</td><td>2973</td><td>475</td></tr><tr><td>1577</td><td>Research Scientist</td><td>Research & Development</td><td>2972</td><td>476</td></tr><tr><td>31</td><td>Research Scientist</td><td>Research & Development</td><td>2960</td><td>477</td></tr><tr><td>134</td><td>Research Scientist</td><td>Research & Development</td><td>2956</td><td>478</td></tr><tr><td>1409</td><td>Laboratory Technician</td><td>Research & Development</td><td>2950</td><td>479</td></tr><tr><td>1071</td><td>Research Scientist</td><td>Research & Development</td><td>2942</td><td>480</td></tr><tr><td>1200</td><td>Research Scientist</td><td>Research & Development</td><td>2936</td><td>481</td></tr><tr><td>1854</td><td>Research Scientist</td><td>Research & Development</td><td>2936</td><td>481</td></tr><tr><td>22</td><td>Laboratory Technician</td><td>Research & Development</td><td>2935</td><td>483</td></tr><tr><td>1893</td><td>Research Scientist</td><td>Research & Development</td><td>2933</td><td>484</td></tr><tr><td>1755</td><td>Research Scientist</td><td>Research & Development</td><td>2932</td><td>485</td></tr><tr><td>1701</td><td>Research Scientist</td><td>Research & Development</td><td>2929</td><td>486</td></tr><tr><td>137</td><td>Laboratory Technician</td><td>Research & Development</td><td>2926</td><td>487</td></tr><tr><td>16</td><td>Research Scientist</td><td>Research & Development</td><td>2911</td><td>488</td></tr><tr><td>338</td><td>Research Scientist</td><td>Research & Development</td><td>2911</td><td>488</td></tr><tr><td>5</td><td>Research Scientist</td><td>Research & Development</td><td>2909</td><td>490</td></tr><tr><td>465</td><td>Research Scientist</td><td>Research & Development</td><td>2904</td><td>491</td></tr><tr><td>1969</td><td>Research Scientist</td><td>Research & Development</td><td>2897</td><td>492</td></tr><tr><td>143</td><td>Research Scientist</td><td>Research & Development</td><td>2889</td><td>493</td></tr><tr><td>560</td><td>Research Scientist</td><td>Research & Development</td><td>2886</td><td>494</td></tr><tr><td>647</td><td>Laboratory Technician</td><td>Research & Development</td><td>2886</td><td>494</td></tr><tr><td>1275</td><td>Research Scientist</td><td>Research & Development</td><td>2875</td><td>496</td></tr><tr><td>144</td><td>Laboratory Technician</td><td>Research & Development</td><td>2871</td><td>497</td></tr><tr><td>1952</td><td>Laboratory Technician</td><td>Research & Development</td><td>2867</td><td>498</td></tr><tr><td>1729</td><td>Research Scientist</td><td>Research & Development</td><td>2862</td><td>499</td></tr><tr><td>105</td><td>Research Scientist</td><td>Research & Development</td><td>2859</td><td>500</td></tr><tr><td>1203</td><td>Research Scientist</td><td>Research & Development</td><td>2853</td><td>501</td></tr><tr><td>1297</td><td>Laboratory Technician</td><td>Research & Development</td><td>2838</td><td>502</td></tr><tr><td>2010</td><td>Laboratory Technician</td><td>Research & Development</td><td>2837</td><td>503</td></tr><tr><td>657</td><td>Research Scientist</td><td>Research & Development</td><td>2836</td><td>504</td></tr><tr><td>155</td><td>Laboratory Technician</td><td>Research & Development</td><td>2835</td><td>505</td></tr><tr><td>1060</td><td>Research Scientist</td><td>Research & Development</td><td>2821</td><td>506</td></tr><tr><td>705</td><td>Research Scientist</td><td>Research & Development</td><td>2819</td><td>507</td></tr><tr><td>874</td><td>Laboratory Technician</td><td>Research & Development</td><td>2818</td><td>508</td></tr><tr><td>1605</td><td>Research Scientist</td><td>Research & Development</td><td>2814</td><td>509</td></tr><tr><td>1001</td><td>Laboratory Technician</td><td>Research & Development</td><td>2811</td><td>510</td></tr><tr><td>1949</td><td>Laboratory Technician</td><td>Research & Development</td><td>2810</td><td>511</td></tr><tr><td>2048</td><td>Research Scientist</td><td>Research & Development</td><td>2809</td><td>512</td></tr><tr><td>939</td><td>Research Scientist</td><td>Research & Development</td><td>2799</td><td>513</td></tr><tr><td>911</td><td>Laboratory Technician</td><td>Research & Development</td><td>2795</td><td>514</td></tr><tr><td>359</td><td>Laboratory Technician</td><td>Research & Development</td><td>2794</td><td>515</td></tr><tr><td>802</td><td>Research Scientist</td><td>Research & Development</td><td>2782</td><td>516</td></tr><tr><td>1999</td><td>Research Scientist</td><td>Research & Development</td><td>2782</td><td>516</td></tr><tr><td>1238</td><td>Research Scientist</td><td>Research & Development</td><td>2781</td><td>518</td></tr><tr><td>927</td><td>Laboratory Technician</td><td>Research & Development</td><td>2778</td><td>519</td></tr><tr><td>150</td><td>Laboratory Technician</td><td>Research & Development</td><td>2774</td><td>520</td></tr><tr><td>675</td><td>Research Scientist</td><td>Research & Development</td><td>2773</td><td>521</td></tr><tr><td>579</td><td>Research Scientist</td><td>Research & Development</td><td>2768</td><td>522</td></tr><tr><td>1768</td><td>Laboratory Technician</td><td>Research & Development</td><td>2766</td><td>523</td></tr><tr><td>752</td><td>Research Scientist</td><td>Research & Development</td><td>2759</td><td>524</td></tr><tr><td>252</td><td>Research Scientist</td><td>Research & Development</td><td>2756</td><td>525</td></tr><tr><td>1042</td><td>Laboratory Technician</td><td>Research & Development</td><td>2743</td><td>526</td></tr><tr><td>1234</td><td>Laboratory Technician</td><td>Research & Development</td><td>2743</td><td>526</td></tr><tr><td>281</td><td>Laboratory Technician</td><td>Research & Development</td><td>2741</td><td>528</td></tr><tr><td>1221</td><td>Laboratory Technician</td><td>Research & Development</td><td>2741</td><td>528</td></tr><tr><td>639</td><td>Research Scientist</td><td>Research & Development</td><td>2725</td><td>530</td></tr><tr><td>353</td><td>Research Scientist</td><td>Research & Development</td><td>2723</td><td>531</td></tr><tr><td>198</td><td>Laboratory Technician</td><td>Research & Development</td><td>2720</td><td>532</td></tr><tr><td>710</td><td>Research Scientist</td><td>Research & Development</td><td>2720</td><td>532</td></tr><tr><td>1764</td><td>Research Scientist</td><td>Research & Development</td><td>2718</td><td>534</td></tr><tr><td>221</td><td>Research Scientist</td><td>Research & Development</td><td>2713</td><td>535</td></tr><tr><td>328</td><td>Laboratory Technician</td><td>Research & Development</td><td>2707</td><td>536</td></tr><tr><td>1826</td><td>Laboratory Technician</td><td>Research & Development</td><td>2705</td><td>537</td></tr><tr><td>94</td><td>Research Scientist</td><td>Research & Development</td><td>2703</td><td>538</td></tr><tr><td>1154</td><td>Research Scientist</td><td>Research & Development</td><td>2703</td><td>538</td></tr><tr><td>824</td><td>Research Scientist</td><td>Research & Development</td><td>2700</td><td>540</td></tr><tr><td>426</td><td>Research Scientist</td><td>Research & Development</td><td>2695</td><td>541</td></tr><tr><td>812</td><td>Laboratory Technician</td><td>Research & Development</td><td>2694</td><td>542</td></tr><tr><td>11</td><td>Laboratory Technician</td><td>Research & Development</td><td>2693</td><td>543</td></tr><tr><td>923</td><td>Research Scientist</td><td>Research & Development</td><td>2693</td><td>543</td></tr><tr><td>683</td><td>Research Scientist</td><td>Research & Development</td><td>2691</td><td>545</td></tr><tr><td>1601</td><td>Laboratory Technician</td><td>Research & Development</td><td>2690</td><td>546</td></tr><tr><td>780</td><td>Research Scientist</td><td>Research & Development</td><td>2686</td><td>547</td></tr><tr><td>1006</td><td>Research Scientist</td><td>Research & Development</td><td>2684</td><td>548</td></tr><tr><td>10</td><td>Laboratory Technician</td><td>Research & Development</td><td>2670</td><td>549</td></tr><tr><td>1873</td><td>Research Scientist</td><td>Research & Development</td><td>2662</td><td>550</td></tr><tr><td>18</td><td>Laboratory Technician</td><td>Research & Development</td><td>2661</td><td>551</td></tr><tr><td>2003</td><td>Laboratory Technician</td><td>Research & Development</td><td>2660</td><td>552</td></tr><tr><td>686</td><td>Laboratory Technician</td><td>Research & Development</td><td>2659</td><td>553</td></tr><tr><td>297</td><td>Research Scientist</td><td>Research & Development</td><td>2657</td><td>554</td></tr><tr><td>493</td><td>Research Scientist</td><td>Research & Development</td><td>2657</td><td>554</td></tr><tr><td>544</td><td>Research Scientist</td><td>Research & Development</td><td>2654</td><td>556</td></tr><tr><td>1982</td><td>Laboratory Technician</td><td>Research & Development</td><td>2647</td><td>557</td></tr><tr><td>46</td><td>Research Scientist</td><td>Research & Development</td><td>2645</td><td>558</td></tr><tr><td>194</td><td>Research Scientist</td><td>Research & Development</td><td>2632</td><td>559</td></tr><tr><td>1279</td><td>Laboratory Technician</td><td>Research & Development</td><td>2625</td><td>560</td></tr><tr><td>305</td><td>Research Scientist</td><td>Research & Development</td><td>2622</td><td>561</td></tr><tr><td>662</td><td>Research Scientist</td><td>Research & Development</td><td>2619</td><td>562</td></tr><tr><td>159</td><td>Research Scientist</td><td>Research & Development</td><td>2613</td><td>563</td></tr><tr><td>1160</td><td>Laboratory Technician</td><td>Research & Development</td><td>2610</td><td>564</td></tr><tr><td>1382</td><td>Research Scientist</td><td>Research & Development</td><td>2610</td><td>564</td></tr><tr><td>1016</td><td>Research Scientist</td><td>Research & Development</td><td>2600</td><td>566</td></tr><tr><td>1111</td><td>Laboratory Technician</td><td>Research & Development</td><td>2596</td><td>567</td></tr><tr><td>351</td><td>Laboratory Technician</td><td>Research & Development</td><td>2593</td><td>568</td></tr><tr><td>1674</td><td>Laboratory Technician</td><td>Research & Development</td><td>2587</td><td>569</td></tr><tr><td>1907</td><td>Laboratory Technician</td><td>Research & Development</td><td>2587</td><td>569</td></tr><tr><td>1265</td><td>Research Scientist</td><td>Research & Development</td><td>2585</td><td>571</td></tr><tr><td>1648</td><td>Research Scientist</td><td>Research & Development</td><td>2580</td><td>572</td></tr><tr><td>517</td><td>Laboratory Technician</td><td>Research & Development</td><td>2576</td><td>573</td></tr><tr><td>2061</td><td>Laboratory Technician</td><td>Research & Development</td><td>2571</td><td>574</td></tr><tr><td>1693</td><td>Laboratory Technician</td><td>Research & Development</td><td>2570</td><td>575</td></tr><tr><td>224</td><td>Research Scientist</td><td>Research & Development</td><td>2566</td><td>576</td></tr><tr><td>571</td><td>Laboratory Technician</td><td>Research & Development</td><td>2564</td><td>577</td></tr><tr><td>1504</td><td>Laboratory Technician</td><td>Research & Development</td><td>2561</td><td>578</td></tr><tr><td>856</td><td>Research Scientist</td><td>Research & Development</td><td>2559</td><td>579</td></tr><tr><td>913</td><td>Research Scientist</td><td>Research & Development</td><td>2559</td><td>579</td></tr><tr><td>1258</td><td>Laboratory Technician</td><td>Research & Development</td><td>2559</td><td>579</td></tr><tr><td>838</td><td>Research Scientist</td><td>Research & Development</td><td>2553</td><td>582</td></tr><tr><td>1193</td><td>Research Scientist</td><td>Research & Development</td><td>2552</td><td>583</td></tr><tr><td>565</td><td>Research Scientist</td><td>Research & Development</td><td>2546</td><td>584</td></tr><tr><td>1918</td><td>Laboratory Technician</td><td>Research & Development</td><td>2544</td><td>585</td></tr><tr><td>501</td><td>Research Scientist</td><td>Research & Development</td><td>2543</td><td>586</td></tr><tr><td>1162</td><td>Research Scientist</td><td>Research & Development</td><td>2539</td><td>587</td></tr><tr><td>912</td><td>Laboratory Technician</td><td>Research & Development</td><td>2532</td><td>588</td></tr><tr><td>169</td><td>Laboratory Technician</td><td>Research & Development</td><td>2523</td><td>589</td></tr><tr><td>958</td><td>Laboratory Technician</td><td>Research & Development</td><td>2519</td><td>590</td></tr><tr><td>1259</td><td>Research Scientist</td><td>Research & Development</td><td>2517</td><td>591</td></tr><tr><td>875</td><td>Research Scientist</td><td>Research & Development</td><td>2515</td><td>592</td></tr><tr><td>1175</td><td>Laboratory Technician</td><td>Research & Development</td><td>2515</td><td>592</td></tr><tr><td>1120</td><td>Research Scientist</td><td>Research & Development</td><td>2514</td><td>594</td></tr><tr><td>826</td><td>Research Scientist</td><td>Research & Development</td><td>2506</td><td>595</td></tr><tr><td>95</td><td>Research Scientist</td><td>Research & Development</td><td>2501</td><td>596</td></tr><tr><td>242</td><td>Research Scientist</td><td>Research & Development</td><td>2500</td><td>597</td></tr><tr><td>758</td><td>Laboratory Technician</td><td>Research & Development</td><td>2500</td><td>597</td></tr><tr><td>39</td><td>Laboratory Technician</td><td>Research & Development</td><td>2496</td><td>599</td></tr><tr><td>977</td><td>Research Scientist</td><td>Research & Development</td><td>2479</td><td>600</td></tr><tr><td>434</td><td>Research Scientist</td><td>Research & Development</td><td>2478</td><td>601</td></tr><tr><td>1878</td><td>Research Scientist</td><td>Research & Development</td><td>2472</td><td>602</td></tr><tr><td>1760</td><td>Laboratory Technician</td><td>Research & Development</td><td>2468</td><td>603</td></tr><tr><td>1081</td><td>Research Scientist</td><td>Research & Development</td><td>2461</td><td>604</td></tr><tr><td>430</td><td>Laboratory Technician</td><td>Research & Development</td><td>2455</td><td>605</td></tr><tr><td>227</td><td>Research Scientist</td><td>Research & Development</td><td>2451</td><td>606</td></tr><tr><td>1019</td><td>Laboratory Technician</td><td>Research & Development</td><td>2451</td><td>606</td></tr><tr><td>1558</td><td>Research Scientist</td><td>Research & Development</td><td>2451</td><td>606</td></tr><tr><td>769</td><td>Laboratory Technician</td><td>Research & Development</td><td>2450</td><td>609</td></tr><tr><td>1564</td><td>Laboratory Technician</td><td>Research & Development</td><td>2450</td><td>609</td></tr><tr><td>1675</td><td>Laboratory Technician</td><td>Research & Development</td><td>2440</td><td>611</td></tr><tr><td>1868</td><td>Research Scientist</td><td>Research & Development</td><td>2439</td><td>612</td></tr><tr><td>2038</td><td>Research Scientist</td><td>Research & Development</td><td>2439</td><td>612</td></tr><tr><td>1813</td><td>Research Scientist</td><td>Research & Development</td><td>2438</td><td>614</td></tr><tr><td>1767</td><td>Research Scientist</td><td>Research & Development</td><td>2437</td><td>615</td></tr><tr><td>325</td><td>Laboratory Technician</td><td>Research & Development</td><td>2436</td><td>616</td></tr><tr><td>2020</td><td>Research Scientist</td><td>Research & Development</td><td>2436</td><td>616</td></tr><tr><td>1939</td><td>Research Scientist</td><td>Research & Development</td><td>2432</td><td>618</td></tr><tr><td>14</td><td>Laboratory Technician</td><td>Research & Development</td><td>2426</td><td>619</td></tr><tr><td>1017</td><td>Laboratory Technician</td><td>Research & Development</td><td>2422</td><td>620</td></tr><tr><td>1604</td><td>Laboratory Technician</td><td>Research & Development</td><td>2408</td><td>621</td></tr><tr><td>79</td><td>Laboratory Technician</td><td>Research & Development</td><td>2406</td><td>622</td></tr><tr><td>2012</td><td>Laboratory Technician</td><td>Research & Development</td><td>2406</td><td>622</td></tr><tr><td>932</td><td>Laboratory Technician</td><td>Research & Development</td><td>2404</td><td>624</td></tr><tr><td>994</td><td>Research Scientist</td><td>Research & Development</td><td>2404</td><td>624</td></tr><tr><td>1783</td><td>Laboratory Technician</td><td>Research & Development</td><td>2398</td><td>626</td></tr><tr><td>1405</td><td>Research Scientist</td><td>Research & Development</td><td>2394</td><td>627</td></tr><tr><td>315</td><td>Research Scientist</td><td>Research & Development</td><td>2389</td><td>628</td></tr><tr><td>1361</td><td>Laboratory Technician</td><td>Research & Development</td><td>2387</td><td>629</td></tr><tr><td>918</td><td>Laboratory Technician</td><td>Research & Development</td><td>2380</td><td>630</td></tr><tr><td>1030</td><td>Laboratory Technician</td><td>Research & Development</td><td>2380</td><td>630</td></tr><tr><td>1850</td><td>Laboratory Technician</td><td>Research & Development</td><td>2379</td><td>632</td></tr><tr><td>930</td><td>Research Scientist</td><td>Research & Development</td><td>2377</td><td>633</td></tr><tr><td>1107</td><td>Laboratory Technician</td><td>Research & Development</td><td>2377</td><td>633</td></tr><tr><td>1185</td><td>Laboratory Technician</td><td>Research & Development</td><td>2376</td><td>635</td></tr><tr><td>394</td><td>Laboratory Technician</td><td>Research & Development</td><td>2373</td><td>636</td></tr><tr><td>1292</td><td>Research Scientist</td><td>Research & Development</td><td>2372</td><td>637</td></tr><tr><td>1308</td><td>Research Scientist</td><td>Research & Development</td><td>2372</td><td>637</td></tr><tr><td>471</td><td>Laboratory Technician</td><td>Research & Development</td><td>2370</td><td>639</td></tr><tr><td>164</td><td>Research Scientist</td><td>Research & Development</td><td>2368</td><td>640</td></tr><tr><td>1576</td><td>Research Scientist</td><td>Research & Development</td><td>2367</td><td>641</td></tr><tr><td>1960</td><td>Laboratory Technician</td><td>Research & Development</td><td>2367</td><td>641</td></tr><tr><td>848</td><td>Research Scientist</td><td>Research & Development</td><td>2366</td><td>643</td></tr><tr><td>1333</td><td>Laboratory Technician</td><td>Research & Development</td><td>2362</td><td>644</td></tr><tr><td>1522</td><td>Research Scientist</td><td>Research & Development</td><td>2362</td><td>644</td></tr><tr><td>895</td><td>Research Scientist</td><td>Research & Development</td><td>2356</td><td>646</td></tr><tr><td>206</td><td>Laboratory Technician</td><td>Research & Development</td><td>2348</td><td>647</td></tr><tr><td>1474</td><td>Research Scientist</td><td>Research & Development</td><td>2345</td><td>648</td></tr><tr><td>763</td><td>Research Scientist</td><td>Research & Development</td><td>2342</td><td>649</td></tr><tr><td>1792</td><td>Research Scientist</td><td>Research & Development</td><td>2342</td><td>649</td></tr><tr><td>54</td><td>Laboratory Technician</td><td>Research & Development</td><td>2341</td><td>651</td></tr><tr><td>346</td><td>Research Scientist</td><td>Research & Development</td><td>2340</td><td>652</td></tr><tr><td>622</td><td>Laboratory Technician</td><td>Research & Development</td><td>2340</td><td>652</td></tr><tr><td>2032</td><td>Laboratory Technician</td><td>Research & Development</td><td>2339</td><td>654</td></tr><tr><td>951</td><td>Laboratory Technician</td><td>Research & Development</td><td>2332</td><td>655</td></tr><tr><td>284</td><td>Research Scientist</td><td>Research & Development</td><td>2328</td><td>656</td></tr><tr><td>403</td><td>Research Scientist</td><td>Research & Development</td><td>2326</td><td>657</td></tr><tr><td>217</td><td>Research Scientist</td><td>Research & Development</td><td>2323</td><td>658</td></tr><tr><td>991</td><td>Research Scientist</td><td>Research & Development</td><td>2321</td><td>659</td></tr><tr><td>816</td><td>Laboratory Technician</td><td>Research & Development</td><td>2319</td><td>660</td></tr><tr><td>933</td><td>Research Scientist</td><td>Research & Development</td><td>2318</td><td>661</td></tr><tr><td>882</td><td>Laboratory Technician</td><td>Research & Development</td><td>2314</td><td>662</td></tr><tr><td>1108</td><td>Research Scientist</td><td>Research & Development</td><td>2313</td><td>663</td></tr><tr><td>247</td><td>Research Scientist</td><td>Research & Development</td><td>2311</td><td>664</td></tr><tr><td>1905</td><td>Research Scientist</td><td>Research & Development</td><td>2307</td><td>665</td></tr><tr><td>1718</td><td>Laboratory Technician</td><td>Research & Development</td><td>2305</td><td>666</td></tr><tr><td>1551</td><td>Laboratory Technician</td><td>Research & Development</td><td>2296</td><td>667</td></tr><tr><td>45</td><td>Research Scientist</td><td>Research & Development</td><td>2293</td><td>668</td></tr><tr><td>55</td><td>Laboratory Technician</td><td>Research & Development</td><td>2293</td><td>668</td></tr><tr><td>1206</td><td>Research Scientist</td><td>Research & Development</td><td>2290</td><td>670</td></tr><tr><td>1772</td><td>Laboratory Technician</td><td>Research & Development</td><td>2289</td><td>671</td></tr><tr><td>245</td><td>Laboratory Technician</td><td>Research & Development</td><td>2288</td><td>672</td></tr><tr><td>514</td><td>Research Scientist</td><td>Research & Development</td><td>2285</td><td>673</td></tr><tr><td>260</td><td>Research Scientist</td><td>Research & Development</td><td>2279</td><td>674</td></tr><tr><td>834</td><td>Research Scientist</td><td>Research & Development</td><td>2274</td><td>675</td></tr><tr><td>1533</td><td>Laboratory Technician</td><td>Research & Development</td><td>2272</td><td>676</td></tr><tr><td>996</td><td>Laboratory Technician</td><td>Research & Development</td><td>2270</td><td>677</td></tr><tr><td>63</td><td>Laboratory Technician</td><td>Research & Development</td><td>2269</td><td>678</td></tr><tr><td>945</td><td>Research Scientist</td><td>Research & Development</td><td>2259</td><td>679</td></tr><tr><td>525</td><td>Laboratory Technician</td><td>Research & Development</td><td>2258</td><td>680</td></tr><tr><td>1172</td><td>Laboratory Technician</td><td>Research & Development</td><td>2258</td><td>680</td></tr><tr><td>511</td><td>Research Scientist</td><td>Research & Development</td><td>2244</td><td>682</td></tr><tr><td>200</td><td>Laboratory Technician</td><td>Research & Development</td><td>2238</td><td>683</td></tr><tr><td>1244</td><td>Research Scientist</td><td>Research & Development</td><td>2235</td><td>684</td></tr><tr><td>332</td><td>Laboratory Technician</td><td>Research & Development</td><td>2232</td><td>685</td></tr><tr><td>1931</td><td>Research Scientist</td><td>Research & Development</td><td>2226</td><td>686</td></tr><tr><td>530</td><td>Laboratory Technician</td><td>Research & Development</td><td>2218</td><td>687</td></tr><tr><td>741</td><td>Research Scientist</td><td>Research & Development</td><td>2216</td><td>688</td></tr><tr><td>483</td><td>Laboratory Technician</td><td>Research & Development</td><td>2213</td><td>689</td></tr><tr><td>1219</td><td>Laboratory Technician</td><td>Research & Development</td><td>2210</td><td>690</td></tr><tr><td>1102</td><td>Laboratory Technician</td><td>Research & Development</td><td>2207</td><td>691</td></tr><tr><td>41</td><td>Laboratory Technician</td><td>Research & Development</td><td>2206</td><td>692</td></tr><tr><td>495</td><td>Research Scientist</td><td>Research & Development</td><td>2201</td><td>693</td></tr><tr><td>88</td><td>Research Scientist</td><td>Research & Development</td><td>2194</td><td>694</td></tr><tr><td>655</td><td>Research Scientist</td><td>Research & Development</td><td>2187</td><td>695</td></tr><tr><td>309</td><td>Research Scientist</td><td>Research & Development</td><td>2177</td><td>696</td></tr><tr><td>362</td><td>Laboratory Technician</td><td>Research & Development</td><td>2176</td><td>697</td></tr><tr><td>1202</td><td>Research Scientist</td><td>Research & Development</td><td>2168</td><td>698</td></tr><tr><td>1649</td><td>Laboratory Technician</td><td>Research & Development</td><td>2166</td><td>699</td></tr><tr><td>1286</td><td>Laboratory Technician</td><td>Research & Development</td><td>2154</td><td>700</td></tr><tr><td>286</td><td>Laboratory Technician</td><td>Research & Development</td><td>2153</td><td>701</td></tr><tr><td>1947</td><td>Research Scientist</td><td>Research & Development</td><td>2144</td><td>702</td></tr><tr><td>1609</td><td>Research Scientist</td><td>Research & Development</td><td>2141</td><td>703</td></tr><tr><td>1937</td><td>Research Scientist</td><td>Research & Development</td><td>2133</td><td>704</td></tr><tr><td>1004</td><td>Research Scientist</td><td>Research & Development</td><td>2132</td><td>705</td></tr><tr><td>1546</td><td>Research Scientist</td><td>Research & Development</td><td>2132</td><td>705</td></tr><tr><td>643</td><td>Laboratory Technician</td><td>Research & Development</td><td>2127</td><td>707</td></tr><tr><td>1448</td><td>Research Scientist</td><td>Research & Development</td><td>2127</td><td>707</td></tr><tr><td>454</td><td>Laboratory Technician</td><td>Research & Development</td><td>2119</td><td>709</td></tr><tr><td>391</td><td>Research Scientist</td><td>Research & Development</td><td>2115</td><td>710</td></tr><tr><td>1762</td><td>Research Scientist</td><td>Research & Development</td><td>2109</td><td>711</td></tr><tr><td>1210</td><td>Research Scientist</td><td>Research & Development</td><td>2107</td><td>712</td></tr><tr><td>1856</td><td>Laboratory Technician</td><td>Research & Development</td><td>2105</td><td>713</td></tr><tr><td>1434</td><td>Laboratory Technician</td><td>Research & Development</td><td>2099</td><td>714</td></tr><tr><td>562</td><td>Laboratory Technician</td><td>Research & Development</td><td>2097</td><td>715</td></tr><tr><td>1303</td><td>Research Scientist</td><td>Research & Development</td><td>2096</td><td>716</td></tr><tr><td>591</td><td>Laboratory Technician</td><td>Research & Development</td><td>2093</td><td>717</td></tr><tr><td>4</td><td>Laboratory Technician</td><td>Research & Development</td><td>2090</td><td>718</td></tr><tr><td>262</td><td>Research Scientist</td><td>Research & Development</td><td>2089</td><td>719</td></tr><tr><td>238</td><td>Laboratory Technician</td><td>Research & Development</td><td>2088</td><td>720</td></tr><tr><td>680</td><td>Research Scientist</td><td>Research & Development</td><td>2083</td><td>721</td></tr><tr><td>1301</td><td>Research Scientist</td><td>Research & Development</td><td>2080</td><td>722</td></tr><tr><td>116</td><td>Laboratory Technician</td><td>Research & Development</td><td>2075</td><td>723</td></tr><tr><td>1569</td><td>Laboratory Technician</td><td>Research & Development</td><td>2074</td><td>724</td></tr><tr><td>1592</td><td>Research Scientist</td><td>Research & Development</td><td>2073</td><td>725</td></tr><tr><td>377</td><td>Research Scientist</td><td>Research & Development</td><td>2070</td><td>726</td></tr><tr><td>1131</td><td>Research Scientist</td><td>Research & Development</td><td>2070</td><td>726</td></tr><tr><td>1441</td><td>Research Scientist</td><td>Research & Development</td><td>2066</td><td>728</td></tr><tr><td>1883</td><td>Laboratory Technician</td><td>Research & Development</td><td>2062</td><td>729</td></tr><tr><td>1581</td><td>Research Scientist</td><td>Research & Development</td><td>2061</td><td>730</td></tr><tr><td>300</td><td>Research Scientist</td><td>Research & Development</td><td>2058</td><td>731</td></tr><tr><td>700</td><td>Research Scientist</td><td>Research & Development</td><td>2045</td><td>732</td></tr><tr><td>1799</td><td>Research Scientist</td><td>Research & Development</td><td>2044</td><td>733</td></tr><tr><td>132</td><td>Laboratory Technician</td><td>Research & Development</td><td>2042</td><td>734</td></tr><tr><td>1053</td><td>Research Scientist</td><td>Research & Development</td><td>2042</td><td>734</td></tr><tr><td>1374</td><td>Research Scientist</td><td>Research & Development</td><td>2029</td><td>736</td></tr><tr><td>19</td><td>Laboratory Technician</td><td>Research & Development</td><td>2028</td><td>737</td></tr><tr><td>1698</td><td>Laboratory Technician</td><td>Research & Development</td><td>2028</td><td>737</td></tr><tr><td>218</td><td>Research Scientist</td><td>Research & Development</td><td>2024</td><td>739</td></tr><tr><td>881</td><td>Research Scientist</td><td>Research & Development</td><td>2022</td><td>740</td></tr><tr><td>1534</td><td>Laboratory Technician</td><td>Research & Development</td><td>2018</td><td>741</td></tr><tr><td>1659</td><td>Laboratory Technician</td><td>Research & Development</td><td>2013</td><td>742</td></tr><tr><td>1246</td><td>Research Scientist</td><td>Research & Development</td><td>2011</td><td>743</td></tr><tr><td>934</td><td>Laboratory Technician</td><td>Research & Development</td><td>2008</td><td>744</td></tr><tr><td>1994</td><td>Laboratory Technician</td><td>Research & Development</td><td>2008</td><td>744</td></tr><tr><td>1068</td><td>Research Scientist</td><td>Research & Development</td><td>2007</td><td>746</td></tr><tr><td>2051</td><td>Research Scientist</td><td>Research & Development</td><td>2001</td><td>747</td></tr><tr><td>259</td><td>Manager</td><td>Research & Development</td><td>19999</td><td>748</td></tr><tr><td>1035</td><td>Research Director</td><td>Research & Development</td><td>19973</td><td>749</td></tr><tr><td>1191</td><td>Manager</td><td>Research & Development</td><td>19943</td><td>750</td></tr><tr><td>226</td><td>Manager</td><td>Research & Development</td><td>19926</td><td>751</td></tr><tr><td>787</td><td>Manager</td><td>Research & Development</td><td>19859</td><td>752</td></tr><tr><td>1255</td><td>Research Director</td><td>Research & Development</td><td>19740</td><td>753</td></tr><tr><td>1423</td><td>Research Director</td><td>Research & Development</td><td>19701</td><td>754</td></tr><tr><td>1867</td><td>Research Director</td><td>Research & Development</td><td>19665</td><td>755</td></tr><tr><td>1069</td><td>Research Director</td><td>Research & Development</td><td>19627</td><td>756</td></tr><tr><td>1128</td><td>Research Director</td><td>Research & Development</td><td>19626</td><td>757</td></tr><tr><td>1595</td><td>Manager</td><td>Research & Development</td><td>19613</td><td>758</td></tr><tr><td>549</td><td>Manager</td><td>Research & Development</td><td>19566</td><td>759</td></tr><tr><td>58</td><td>Research Director</td><td>Research & Development</td><td>19545</td><td>760</td></tr><tr><td>162</td><td>Research Director</td><td>Research & Development</td><td>19537</td><td>761</td></tr><tr><td>671</td><td>Manager</td><td>Research & Development</td><td>19513</td><td>762</td></tr><tr><td>53</td><td>Laboratory Technician</td><td>Research & Development</td><td>1951</td><td>763</td></tr><tr><td>638</td><td>Research Director</td><td>Research & Development</td><td>19502</td><td>764</td></tr><tr><td>352</td><td>Research Director</td><td>Research & Development</td><td>19436</td><td>765</td></tr><tr><td>2022</td><td>Manager</td><td>Research & Development</td><td>19431</td><td>766</td></tr><tr><td>999</td><td>Research Director</td><td>Research & Development</td><td>19419</td><td>767</td></tr><tr><td>522</td><td>Research Director</td><td>Research & Development</td><td>19406</td><td>768</td></tr><tr><td>1866</td><td>Manager</td><td>Research & Development</td><td>19392</td><td>769</td></tr><tr><td>1789</td><td>Research Director</td><td>Research & Development</td><td>19328</td><td>770</td></tr><tr><td>444</td><td>Manager</td><td>Research & Development</td><td>19272</td><td>771</td></tr><tr><td>825</td><td>Research Director</td><td>Research & Development</td><td>19246</td><td>772</td></tr><tr><td>1061</td><td>Research Director</td><td>Research & Development</td><td>19237</td><td>773</td></tr><tr><td>319</td><td>Manager</td><td>Research & Development</td><td>19232</td><td>774</td></tr><tr><td>336</td><td>Manager</td><td>Research & Development</td><td>19202</td><td>775</td></tr><tr><td>531</td><td>Manager</td><td>Research & Development</td><td>19197</td><td>776</td></tr><tr><td>1288</td><td>Manager</td><td>Research & Development</td><td>19190</td><td>777</td></tr><tr><td>1336</td><td>Manager</td><td>Research & Development</td><td>19187</td><td>778</td></tr><tr><td>1941</td><td>Research Director</td><td>Research & Development</td><td>19161</td><td>779</td></tr><tr><td>385</td><td>Research Director</td><td>Research & Development</td><td>19144</td><td>780</td></tr><tr><td>32</td><td>Manager</td><td>Research & Development</td><td>19094</td><td>781</td></tr><tr><td>1217</td><td>Research Director</td><td>Research & Development</td><td>19081</td><td>782</td></tr><tr><td>1608</td><td>Research Director</td><td>Research & Development</td><td>19049</td><td>783</td></tr><tr><td>374</td><td>Manager</td><td>Research & Development</td><td>19045</td><td>784</td></tr><tr><td>1156</td><td>Laboratory Technician</td><td>Research & Development</td><td>1904</td><td>785</td></tr><tr><td>1770</td><td>Research Director</td><td>Research & Development</td><td>19038</td><td>786</td></tr><tr><td>253</td><td>Manager</td><td>Research & Development</td><td>19033</td><td>787</td></tr><tr><td>2031</td><td>Manager</td><td>Research & Development</td><td>18880</td><td>788</td></tr><tr><td>80</td><td>Research Director</td><td>Research & Development</td><td>18740</td><td>789</td></tr><tr><td>254</td><td>Research Director</td><td>Research & Development</td><td>18722</td><td>790</td></tr><tr><td>1256</td><td>Manager</td><td>Research & Development</td><td>18711</td><td>791</td></tr><tr><td>396</td><td>Research Director</td><td>Research & Development</td><td>18665</td><td>792</td></tr><tr><td>1201</td><td>Manager</td><td>Research & Development</td><td>18606</td><td>793</td></tr><tr><td>1248</td><td>Research Scientist</td><td>Research & Development</td><td>1859</td><td>794</td></tr><tr><td>809</td><td>Manager</td><td>Research & Development</td><td>18430</td><td>795</td></tr><tr><td>447</td><td>Research Director</td><td>Research & Development</td><td>18300</td><td>796</td></tr><tr><td>1263</td><td>Research Director</td><td>Research & Development</td><td>18265</td><td>797</td></tr><tr><td>141</td><td>Research Director</td><td>Research & Development</td><td>18172</td><td>798</td></tr><tr><td>1306</td><td>Manager</td><td>Research & Development</td><td>18061</td><td>799</td></tr><tr><td>905</td><td>Manager</td><td>Research & Development</td><td>17924</td><td>800</td></tr><tr><td>575</td><td>Research Director</td><td>Research & Development</td><td>17861</td><td>801</td></tr><tr><td>1334</td><td>Manager</td><td>Research & Development</td><td>17861</td><td>801</td></tr><tr><td>1215</td><td>Manager</td><td>Research & Development</td><td>17856</td><td>803</td></tr><tr><td>1250</td><td>Research Director</td><td>Research & Development</td><td>17779</td><td>804</td></tr><tr><td>1109</td><td>Manager</td><td>Research & Development</td><td>17665</td><td>805</td></tr><tr><td>815</td><td>Research Director</td><td>Research & Development</td><td>17639</td><td>806</td></tr><tr><td>1666</td><td>Research Director</td><td>Research & Development</td><td>17603</td><td>807</td></tr><tr><td>386</td><td>Research Director</td><td>Research & Development</td><td>17584</td><td>808</td></tr><tr><td>1665</td><td>Manager</td><td>Research & Development</td><td>17426</td><td>809</td></tr><tr><td>997</td><td>Research Director</td><td>Research & Development</td><td>17399</td><td>810</td></tr><tr><td>1422</td><td>Research Director</td><td>Research & Development</td><td>17328</td><td>811</td></tr><tr><td>199</td><td>Manager</td><td>Research & Development</td><td>17181</td><td>812</td></tr><tr><td>1900</td><td>Manager</td><td>Research & Development</td><td>17174</td><td>813</td></tr><tr><td>1443</td><td>Research Director</td><td>Research & Development</td><td>17169</td><td>814</td></tr><tr><td>843</td><td>Research Director</td><td>Research & Development</td><td>17159</td><td>815</td></tr><tr><td>1307</td><td>Manager</td><td>Research & Development</td><td>17123</td><td>816</td></tr><tr><td>976</td><td>Manager</td><td>Research & Development</td><td>17099</td><td>817</td></tr><tr><td>429</td><td>Manager</td><td>Research & Development</td><td>17068</td><td>818</td></tr><tr><td>850</td><td>Research Scientist</td><td>Research & Development</td><td>1706</td><td>819</td></tr><tr><td>569</td><td>Manager</td><td>Research & Development</td><td>17046</td><td>820</td></tr><tr><td>556</td><td>Laboratory Technician</td><td>Research & Development</td><td>1702</td><td>821</td></tr><tr><td>1485</td><td>Research Director</td><td>Research & Development</td><td>17007</td><td>822</td></tr><tr><td>1116</td><td>Manager</td><td>Research & Development</td><td>16885</td><td>823</td></tr><tr><td>1317</td><td>Research Director</td><td>Research & Development</td><td>16880</td><td>824</td></tr><tr><td>1892</td><td>Manager</td><td>Research & Development</td><td>16823</td><td>825</td></tr><tr><td>264</td><td>Manager</td><td>Research & Development</td><td>16792</td><td>826</td></tr><tr><td>1074</td><td>Manager</td><td>Research & Development</td><td>16756</td><td>827</td></tr><tr><td>820</td><td>Manager</td><td>Research & Development</td><td>16752</td><td>828</td></tr><tr><td>1719</td><td>Research Director</td><td>Research & Development</td><td>16704</td><td>829</td></tr><tr><td>505</td><td>Manager</td><td>Research & Development</td><td>16659</td><td>830</td></tr><tr><td>661</td><td>Research Director</td><td>Research & Development</td><td>16627</td><td>831</td></tr><tr><td>1472</td><td>Research Director</td><td>Research & Development</td><td>16598</td><td>832</td></tr><tr><td>546</td><td>Manager</td><td>Research & Development</td><td>16555</td><td>833</td></tr><tr><td>1430</td><td>Research Director</td><td>Research & Development</td><td>16422</td><td>834</td></tr><tr><td>1655</td><td>Research Director</td><td>Research & Development</td><td>16413</td><td>835</td></tr><tr><td>1523</td><td>Research Director</td><td>Research & Development</td><td>16328</td><td>836</td></tr><tr><td>612</td><td>Research Director</td><td>Research & Development</td><td>16184</td><td>837</td></tr><tr><td>1264</td><td>Research Director</td><td>Research & Development</td><td>16124</td><td>838</td></tr><tr><td>1368</td><td>Laboratory Technician</td><td>Research & Development</td><td>1611</td><td>839</td></tr><tr><td>1520</td><td>Manager</td><td>Research & Development</td><td>16032</td><td>840</td></tr><tr><td>811</td><td>Laboratory Technician</td><td>Research & Development</td><td>1601</td><td>841</td></tr><tr><td>468</td><td>Research Director</td><td>Research & Development</td><td>15992</td><td>842</td></tr><tr><td>1837</td><td>Research Director</td><td>Research & Development</td><td>15787</td><td>843</td></tr><tr><td>1506</td><td>Research Scientist</td><td>Research & Development</td><td>1563</td><td>844</td></tr><tr><td>664</td><td>Manager</td><td>Research & Development</td><td>15402</td><td>845</td></tr><tr><td>1677</td><td>Manager</td><td>Research & Development</td><td>15379</td><td>846</td></tr><tr><td>1644</td><td>Manager</td><td>Research & Development</td><td>15202</td><td>847</td></tr><tr><td>1839</td><td>Research Scientist</td><td>Research & Development</td><td>1514</td><td>848</td></tr><tr><td>201</td><td>Laboratory Technician</td><td>Research & Development</td><td>1483</td><td>849</td></tr><tr><td>730</td><td>Research Director</td><td>Research & Development</td><td>14814</td><td>850</td></tr><tr><td>84</td><td>Manager</td><td>Research & Development</td><td>14756</td><td>851</td></tr><tr><td>1424</td><td>Research Director</td><td>Research & Development</td><td>14732</td><td>852</td></tr><tr><td>1539</td><td>Research Director</td><td>Research & Development</td><td>14411</td><td>853</td></tr><tr><td>520</td><td>Research Director</td><td>Research & Development</td><td>14336</td><td>854</td></tr><tr><td>901</td><td>Research Director</td><td>Research & Development</td><td>14275</td><td>855</td></tr><tr><td>405</td><td>Laboratory Technician</td><td>Research & Development</td><td>1420</td><td>856</td></tr><tr><td>1079</td><td>Laboratory Technician</td><td>Research & Development</td><td>1416</td><td>857</td></tr><tr><td>1005</td><td>Manufacturing Director</td><td>Research & Development</td><td>13973</td><td>858</td></tr><tr><td>1661</td><td>Healthcare Representative</td><td>Research & Development</td><td>13966</td><td>859</td></tr><tr><td>431</td><td>Healthcare Representative</td><td>Research & Development</td><td>13964</td><td>860</td></tr><tr><td>1692</td><td>Laboratory Technician</td><td>Research & Development</td><td>1393</td><td>861</td></tr><tr><td>867</td><td>Manufacturing Director</td><td>Research & Development</td><td>13826</td><td>862</td></tr><tr><td>1468</td><td>Research Director</td><td>Research & Development</td><td>13757</td><td>863</td></tr><tr><td>2017</td><td>Research Director</td><td>Research & Development</td><td>13744</td><td>864</td></tr><tr><td>258</td><td>Healthcare Representative</td><td>Research & Development</td><td>13734</td><td>865</td></tr><tr><td>1032</td><td>Manufacturing Director</td><td>Research & Development</td><td>13726</td><td>866</td></tr><tr><td>337</td><td>Research Director</td><td>Research & Development</td><td>13675</td><td>867</td></tr><tr><td>102</td><td>Research Director</td><td>Research & Development</td><td>13664</td><td>868</td></tr><tr><td>582</td><td>Manager</td><td>Research & Development</td><td>13610</td><td>869</td></tr><tr><td>380</td><td>Research Director</td><td>Research & Development</td><td>13603</td><td>870</td></tr><tr><td>950</td><td>Research Director</td><td>Research & Development</td><td>13582</td><td>871</td></tr><tr><td>1278</td><td>Healthcare Representative</td><td>Research & Development</td><td>13577</td><td>872</td></tr><tr><td>2034</td><td>Manufacturing Director</td><td>Research & Development</td><td>13570</td><td>873</td></tr><tr><td>126</td><td>Research Director</td><td>Research & Development</td><td>13549</td><td>874</td></tr><tr><td>119</td><td>Healthcare Representative</td><td>Research & Development</td><td>13503</td><td>875</td></tr><tr><td>1166</td><td>Research Director</td><td>Research & Development</td><td>13499</td><td>876</td></tr><tr><td>372</td><td>Healthcare Representative</td><td>Research & Development</td><td>13496</td><td>877</td></tr><tr><td>1800</td><td>Research Director</td><td>Research & Development</td><td>13464</td><td>878</td></tr><tr><td>73</td><td>Research Director</td><td>Research & Development</td><td>13458</td><td>879</td></tr><tr><td>1373</td><td>Manufacturing Director</td><td>Research & Development</td><td>13402</td><td>880</td></tr><tr><td>1911</td><td>Research Director</td><td>Research & Development</td><td>13348</td><td>881</td></tr><tr><td>1656</td><td>Research Director</td><td>Research & Development</td><td>13269</td><td>882</td></tr><tr><td>1401</td><td>Manufacturing Director</td><td>Research & Development</td><td>13247</td><td>883</td></tr><tr><td>101</td><td>Research Director</td><td>Research & Development</td><td>13245</td><td>884</td></tr><tr><td>601</td><td>Manufacturing Director</td><td>Research & Development</td><td>13237</td><td>885</td></tr><tr><td>2015</td><td>Research Director</td><td>Research & Development</td><td>13206</td><td>886</td></tr><tr><td>1242</td><td>Research Director</td><td>Research & Development</td><td>13191</td><td>887</td></tr><tr><td>1367</td><td>Manufacturing Director</td><td>Research & Development</td><td>13142</td><td>888</td></tr><tr><td>1786</td><td>Manager</td><td>Research & Development</td><td>13116</td><td>889</td></tr><tr><td>1775</td><td>Manufacturing Director</td><td>Research & Development</td><td>12965</td><td>890</td></tr><tr><td>704</td><td>Laboratory Technician</td><td>Research & Development</td><td>1281</td><td>891</td></tr><tr><td>844</td><td>Research Director</td><td>Research & Development</td><td>12808</td><td>892</td></tr><tr><td>1026</td><td>Manufacturing Director</td><td>Research & Development</td><td>12742</td><td>893</td></tr><tr><td>1482</td><td>Research Scientist</td><td>Research & Development</td><td>1274</td><td>894</td></tr><tr><td>1433</td><td>Research Scientist</td><td>Research & Development</td><td>1261</td><td>895</td></tr><tr><td>296</td><td>Research Director</td><td>Research & Development</td><td>12490</td><td>896</td></tr><tr><td>30</td><td>Research Scientist</td><td>Research & Development</td><td>1232</td><td>897</td></tr><tr><td>1270</td><td>Research Scientist</td><td>Research & Development</td><td>1223</td><td>898</td></tr><tr><td>306</td><td>Research Director</td><td>Research & Development</td><td>12185</td><td>899</td></tr><tr><td>1127</td><td>Healthcare Representative</td><td>Research & Development</td><td>12169</td><td>900</td></tr><tr><td>421</td><td>Research Director</td><td>Research & Development</td><td>12061</td><td>901</td></tr><tr><td>381</td><td>Manager</td><td>Research & Development</td><td>11996</td><td>902</td></tr><tr><td>28</td><td>Research Director</td><td>Research & Development</td><td>11994</td><td>903</td></tr><tr><td>2000</td><td>Research Director</td><td>Research & Development</td><td>11957</td><td>904</td></tr><tr><td>564</td><td>Research Director</td><td>Research & Development</td><td>11935</td><td>905</td></tr><tr><td>1321</td><td>Manager</td><td>Research & Development</td><td>11916</td><td>906</td></tr><tr><td>428</td><td>Manager</td><td>Research & Development</td><td>11878</td><td>907</td></tr><tr><td>376</td><td>Manager</td><td>Research & Development</td><td>11849</td><td>908</td></tr><tr><td>742</td><td>Research Director</td><td>Research & Development</td><td>11713</td><td>909</td></tr><tr><td>817</td><td>Research Director</td><td>Research & Development</td><td>11691</td><td>910</td></tr><tr><td>153</td><td>Manager</td><td>Research & Development</td><td>11631</td><td>911</td></tr><tr><td>461</td><td>Research Director</td><td>Research & Development</td><td>11510</td><td>912</td></tr><tr><td>1015</td><td>Research Director</td><td>Research & Development</td><td>11416</td><td>913</td></tr><tr><td>1974</td><td>Laboratory Technician</td><td>Research & Development</td><td>1129</td><td>914</td></tr><tr><td>1606</td><td>Healthcare Representative</td><td>Research & Development</td><td>11245</td><td>915</td></tr><tr><td>1516</td><td>Manager</td><td>Research & Development</td><td>11244</td><td>916</td></tr><tr><td>727</td><td>Research Director</td><td>Research & Development</td><td>11159</td><td>917</td></tr><tr><td>762</td><td>Healthcare Representative</td><td>Research & Development</td><td>11103</td><td>918</td></tr><tr><td>1979</td><td>Research Director</td><td>Research & Development</td><td>11031</td><td>919</td></tr><tr><td>243</td><td>Laboratory Technician</td><td>Research & Development</td><td>1102</td><td>920</td></tr><tr><td>1024</td><td>Healthcare Representative</td><td>Research & Development</td><td>10999</td><td>921</td></tr><tr><td>1096</td><td>Manufacturing Director</td><td>Research & Development</td><td>10976</td><td>922</td></tr><tr><td>499</td><td>Healthcare Representative</td><td>Research & Development</td><td>10965</td><td>923</td></tr><tr><td>343</td><td>Healthcare Representative</td><td>Research & Development</td><td>10938</td><td>924</td></tr><tr><td>1397</td><td>Healthcare Representative</td><td>Research & Development</td><td>10920</td><td>925</td></tr><tr><td>899</td><td>Manufacturing Director</td><td>Research & Development</td><td>10903</td><td>926</td></tr><tr><td>1697</td><td>Healthcare Representative</td><td>Research & Development</td><td>10883</td><td>927</td></tr><tr><td>1043</td><td>Manufacturing Director</td><td>Research & Development</td><td>10880</td><td>928</td></tr><tr><td>1460</td><td>Healthcare Representative</td><td>Research & Development</td><td>10851</td><td>929</td></tr><tr><td>1007</td><td>Manufacturing Director</td><td>Research & Development</td><td>10845</td><td>930</td></tr><tr><td>1126</td><td>Manufacturing Director</td><td>Research & Development</td><td>10820</td><td>931</td></tr><tr><td>1712</td><td>Healthcare Representative</td><td>Research & Development</td><td>10748</td><td>932</td></tr><tr><td>1013</td><td>Manufacturing Director</td><td>Research & Development</td><td>10739</td><td>933</td></tr><tr><td>880</td><td>Manufacturing Director</td><td>Research & Development</td><td>10685</td><td>934</td></tr><tr><td>124</td><td>Healthcare Representative</td><td>Research & Development</td><td>10673</td><td>935</td></tr><tr><td>179</td><td>Manufacturing Director</td><td>Research & Development</td><td>10650</td><td>936</td></tr><tr><td>581</td><td>Manufacturing Director</td><td>Research & Development</td><td>10648</td><td>937</td></tr><tr><td>940</td><td>Healthcare Representative</td><td>Research & Development</td><td>10552</td><td>938</td></tr><tr><td>624</td><td>Healthcare Representative</td><td>Research & Development</td><td>10527</td><td>939</td></tr><tr><td>1283</td><td>Manufacturing Director</td><td>Research & Development</td><td>10512</td><td>940</td></tr><tr><td>1012</td><td>Research Scientist</td><td>Research & Development</td><td>1051</td><td>941</td></tr><tr><td>1245</td><td>Manufacturing Director</td><td>Research & Development</td><td>10502</td><td>942</td></tr><tr><td>491</td><td>Healthcare Representative</td><td>Research & Development</td><td>10496</td><td>943</td></tr><tr><td>1484</td><td>Healthcare Representative</td><td>Research & Development</td><td>10466</td><td>944</td></tr><tr><td>1118</td><td>Healthcare Representative</td><td>Research & Development</td><td>10445</td><td>945</td></tr><tr><td>1628</td><td>Manufacturing Director</td><td>Research & Development</td><td>10435</td><td>946</td></tr><tr><td>1014</td><td>Healthcare Representative</td><td>Research & Development</td><td>10388</td><td>947</td></tr><tr><td>1827</td><td>Manufacturing Director</td><td>Research & Development</td><td>10333</td><td>948</td></tr><tr><td>1092</td><td>Healthcare Representative</td><td>Research & Development</td><td>10322</td><td>949</td></tr><tr><td>165</td><td>Healthcare Representative</td><td>Research & Development</td><td>10312</td><td>950</td></tr><tr><td>1182</td><td>Manufacturing Director</td><td>Research & Development</td><td>10274</td><td>951</td></tr><tr><td>1237</td><td>Manufacturing Director</td><td>Research & Development</td><td>10252</td><td>952</td></tr><tr><td>36</td><td>Healthcare Representative</td><td>Research & Development</td><td>10248</td><td>953</td></tr><tr><td>845</td><td>Manufacturing Director</td><td>Research & Development</td><td>10221</td><td>954</td></tr><tr><td>1496</td><td>Manufacturing Director</td><td>Research & Development</td><td>10209</td><td>955</td></tr><tr><td>1572</td><td>Manufacturing Director</td><td>Research & Development</td><td>10169</td><td>956</td></tr><tr><td>1547</td><td>Healthcare Representative</td><td>Research & Development</td><td>10124</td><td>957</td></tr><tr><td>83</td><td>Healthcare Representative</td><td>Research & Development</td><td>10096</td><td>958</td></tr><tr><td>701</td><td>Research Scientist</td><td>Research & Development</td><td>1009</td><td>959</td></tr><tr><td>342</td><td>Manufacturing Director</td><td>Research & Development</td><td>10048</td><td>960</td></tr><tr><td>1360</td><td>Manufacturing Director</td><td>Research & Development</td><td>10008</td><td>961</td></tr><tr><td>1395</td><td>Sales Executive</td><td>Sales</td><td>9998</td><td>1</td></tr><tr><td>293</td><td>Sales Executive</td><td>Sales</td><td>9981</td><td>2</td></tr><tr><td>592</td><td>Sales Executive</td><td>Sales</td><td>9980</td><td>3</td></tr><tr><td>1582</td><td>Sales Executive</td><td>Sales</td><td>9924</td><td>4</td></tr><tr><td>1862</td><td>Sales Executive</td><td>Sales</td><td>9907</td><td>5</td></tr><tr><td>1950</td><td>Sales Executive</td><td>Sales</td><td>9888</td><td>6</td></tr><tr><td>1933</td><td>Sales Executive</td><td>Sales</td><td>9854</td><td>7</td></tr><tr><td>1324</td><td>Sales Executive</td><td>Sales</td><td>9852</td><td>8</td></tr><tr><td>154</td><td>Sales Executive</td><td>Sales</td><td>9738</td><td>9</td></tr><tr><td>1047</td><td>Sales Executive</td><td>Sales</td><td>9725</td><td>10</td></tr><tr><td>1562</td><td>Sales Executive</td><td>Sales</td><td>9714</td><td>11</td></tr><tr><td>1882</td><td>Sales Executive</td><td>Sales</td><td>9713</td><td>12</td></tr><tr><td>954</td><td>Sales Executive</td><td>Sales</td><td>9705</td><td>13</td></tr><tr><td>481</td><td>Sales Executive</td><td>Sales</td><td>9699</td><td>14</td></tr><tr><td>1833</td><td>Sales Executive</td><td>Sales</td><td>9637</td><td>15</td></tr><tr><td>118</td><td>Sales Executive</td><td>Sales</td><td>9619</td><td>16</td></tr><tr><td>1739</td><td>Sales Executive</td><td>Sales</td><td>9610</td><td>17</td></tr><tr><td>656</td><td>Sales Executive</td><td>Sales</td><td>9602</td><td>18</td></tr><tr><td>1100</td><td>Sales Executive</td><td>Sales</td><td>9582</td><td>19</td></tr><tr><td>1700</td><td>Sales Executive</td><td>Sales</td><td>9525</td><td>20</td></tr><tr><td>228</td><td>Sales Executive</td><td>Sales</td><td>9419</td><td>21</td></tr><tr><td>488</td><td>Sales Executive</td><td>Sales</td><td>9355</td><td>22</td></tr><tr><td>1425</td><td>Sales Executive</td><td>Sales</td><td>9278</td><td>23</td></tr><tr><td>1568</td><td>Sales Executive</td><td>Sales</td><td>9250</td><td>24</td></tr><tr><td>1708</td><td>Sales Executive</td><td>Sales</td><td>9241</td><td>25</td></tr><tr><td>174</td><td>Sales Executive</td><td>Sales</td><td>9208</td><td>26</td></tr><tr><td>1446</td><td>Sales Executive</td><td>Sales</td><td>9204</td><td>27</td></tr><tr><td>1318</td><td>Sales Executive</td><td>Sales</td><td>9094</td><td>28</td></tr><tr><td>580</td><td>Sales Executive</td><td>Sales</td><td>9071</td><td>29</td></tr><tr><td>74</td><td>Sales Executive</td><td>Sales</td><td>9069</td><td>30</td></tr><tr><td>207</td><td>Sales Executive</td><td>Sales</td><td>8998</td><td>31</td></tr><tr><td>1218</td><td>Sales Executive</td><td>Sales</td><td>8966</td><td>32</td></tr><tr><td>2037</td><td>Sales Executive</td><td>Sales</td><td>8938</td><td>33</td></tr><tr><td>302</td><td>Sales Executive</td><td>Sales</td><td>8865</td><td>34</td></tr><tr><td>626</td><td>Sales Executive</td><td>Sales</td><td>8834</td><td>35</td></tr><tr><td>314</td><td>Sales Executive</td><td>Sales</td><td>8789</td><td>36</td></tr><tr><td>1119</td><td>Sales Executive</td><td>Sales</td><td>8740</td><td>37</td></tr><tr><td>56</td><td>Sales Executive</td><td>Sales</td><td>8726</td><td>38</td></tr><tr><td>230</td><td>Sales Executive</td><td>Sales</td><td>8686</td><td>39</td></tr><tr><td>183</td><td>Sales Executive</td><td>Sales</td><td>8639</td><td>40</td></tr><tr><td>1951</td><td>Sales Executive</td><td>Sales</td><td>8628</td><td>41</td></tr><tr><td>1497</td><td>Sales Executive</td><td>Sales</td><td>8620</td><td>42</td></tr><tr><td>1758</td><td>Sales Executive</td><td>Sales</td><td>8564</td><td>43</td></tr><tr><td>1469</td><td>Sales Executive</td><td>Sales</td><td>8463</td><td>44</td></tr><tr><td>1319</td><td>Sales Executive</td><td>Sales</td><td>8446</td><td>45</td></tr><tr><td>567</td><td>Sales Executive</td><td>Sales</td><td>8412</td><td>46</td></tr><tr><td>1066</td><td>Sales Executive</td><td>Sales</td><td>8396</td><td>47</td></tr><tr><td>534</td><td>Sales Executive</td><td>Sales</td><td>8392</td><td>48</td></tr><tr><td>682</td><td>Sales Executive</td><td>Sales</td><td>8381</td><td>49</td></tr><tr><td>1268</td><td>Sales Executive</td><td>Sales</td><td>8380</td><td>50</td></tr><tr><td>1749</td><td>Sales Executive</td><td>Sales</td><td>8346</td><td>51</td></tr><tr><td>463</td><td>Sales Executive</td><td>Sales</td><td>8268</td><td>52</td></tr><tr><td>1588</td><td>Sales Executive</td><td>Sales</td><td>8237</td><td>53</td></tr><tr><td>1157</td><td>Sales Executive</td><td>Sales</td><td>8224</td><td>54</td></tr><tr><td>176</td><td>Sales Executive</td><td>Sales</td><td>8189</td><td>55</td></tr><tr><td>1761</td><td>Sales Executive</td><td>Sales</td><td>8161</td><td>56</td></tr><tr><td>712</td><td>Sales Executive</td><td>Sales</td><td>8120</td><td>57</td></tr><tr><td>1915</td><td>Sales Executive</td><td>Sales</td><td>8103</td><td>58</td></tr><tr><td>406</td><td>Sales Executive</td><td>Sales</td><td>8020</td><td>59</td></tr><tr><td>1801</td><td>Sales Executive</td><td>Sales</td><td>7991</td><td>60</td></tr><tr><td>312</td><td>Sales Executive</td><td>Sales</td><td>7918</td><td>61</td></tr><tr><td>985</td><td>Sales Executive</td><td>Sales</td><td>7880</td><td>62</td></tr><tr><td>1706</td><td>Sales Executive</td><td>Sales</td><td>7847</td><td>63</td></tr><tr><td>984</td><td>Sales Executive</td><td>Sales</td><td>7823</td><td>64</td></tr><tr><td>840</td><td>Sales Executive</td><td>Sales</td><td>7654</td><td>65</td></tr><tr><td>2024</td><td>Sales Executive</td><td>Sales</td><td>7644</td><td>66</td></tr><tr><td>904</td><td>Sales Executive</td><td>Sales</td><td>7642</td><td>67</td></tr><tr><td>283</td><td>Sales Executive</td><td>Sales</td><td>7639</td><td>68</td></tr><tr><td>81</td><td>Sales Executive</td><td>Sales</td><td>7637</td><td>69</td></tr><tr><td>513</td><td>Sales Executive</td><td>Sales</td><td>7596</td><td>70</td></tr><tr><td>789</td><td>Sales Executive</td><td>Sales</td><td>7587</td><td>71</td></tr><tr><td>438</td><td>Sales Executive</td><td>Sales</td><td>7547</td><td>72</td></tr><tr><td>1050</td><td>Sales Executive</td><td>Sales</td><td>7525</td><td>73</td></tr><tr><td>453</td><td>Sales Executive</td><td>Sales</td><td>7457</td><td>74</td></tr><tr><td>152</td><td>Sales Executive</td><td>Sales</td><td>7428</td><td>75</td></tr><tr><td>1125</td><td>Sales Executive</td><td>Sales</td><td>7351</td><td>76</td></tr><tr><td>1165</td><td>Sales Executive</td><td>Sales</td><td>7336</td><td>77</td></tr><tr><td>1869</td><td>Sales Executive</td><td>Sales</td><td>7314</td><td>78</td></tr><tr><td>204</td><td>Sales Executive</td><td>Sales</td><td>7295</td><td>79</td></tr><tr><td>982</td><td>Sales Executive</td><td>Sales</td><td>7264</td><td>80</td></tr><tr><td>1754</td><td>Sales Executive</td><td>Sales</td><td>7140</td><td>81</td></tr><tr><td>677</td><td>Sales Executive</td><td>Sales</td><td>7104</td><td>82</td></tr><tr><td>1535</td><td>Sales Executive</td><td>Sales</td><td>7083</td><td>83</td></tr><tr><td>1678</td><td>Sales Executive</td><td>Sales</td><td>7082</td><td>84</td></tr><tr><td>947</td><td>Sales Executive</td><td>Sales</td><td>6932</td><td>85</td></tr><tr><td>349</td><td>Sales Executive</td><td>Sales</td><td>6931</td><td>86</td></tr><tr><td>416</td><td>Sales Executive</td><td>Sales</td><td>6929</td><td>87</td></tr><tr><td>1355</td><td>Sales Executive</td><td>Sales</td><td>6893</td><td>88</td></tr><tr><td>1036</td><td>Sales Executive</td><td>Sales</td><td>6861</td><td>89</td></tr><tr><td>1239</td><td>Sales Executive</td><td>Sales</td><td>6852</td><td>90</td></tr><tr><td>1927</td><td>Sales Executive</td><td>Sales</td><td>6834</td><td>91</td></tr><tr><td>35</td><td>Sales Executive</td><td>Sales</td><td>6825</td><td>92</td></tr><tr><td>1585</td><td>Sales Executive</td><td>Sales</td><td>6815</td><td>93</td></tr><tr><td>754</td><td>Sales Executive</td><td>Sales</td><td>6804</td><td>94</td></tr><tr><td>1823</td><td>Sales Executive</td><td>Sales</td><td>6799</td><td>95</td></tr><tr><td>723</td><td>Sales Executive</td><td>Sales</td><td>6796</td><td>96</td></tr><tr><td>1734</td><td>Sales Executive</td><td>Sales</td><td>6735</td><td>97</td></tr><tr><td>2044</td><td>Sales Executive</td><td>Sales</td><td>6728</td><td>98</td></tr><tr><td>2035</td><td>Sales Executive</td><td>Sales</td><td>6712</td><td>99</td></tr><tr><td>299</td><td>Sales Executive</td><td>Sales</td><td>6696</td><td>100</td></tr><tr><td>1105</td><td>Sales Executive</td><td>Sales</td><td>6694</td><td>101</td></tr><tr><td>479</td><td>Sales Executive</td><td>Sales</td><td>6653</td><td>102</td></tr><tr><td>2045</td><td>Sales Executive</td><td>Sales</td><td>6652</td><td>103</td></tr><tr><td>366</td><td>Sales Executive</td><td>Sales</td><td>6644</td><td>104</td></tr><tr><td>783</td><td>Sales Representative</td><td>Sales</td><td>6632</td><td>105</td></tr><tr><td>1912</td><td>Sales Executive</td><td>Sales</td><td>6583</td><td>106</td></tr><tr><td>604</td><td>Sales Executive</td><td>Sales</td><td>6582</td><td>107</td></tr><tr><td>1179</td><td>Sales Executive</td><td>Sales</td><td>6578</td><td>108</td></tr><tr><td>533</td><td>Sales Executive</td><td>Sales</td><td>6577</td><td>109</td></tr><tr><td>523</td><td>Sales Executive</td><td>Sales</td><td>6538</td><td>110</td></tr><tr><td>889</td><td>Sales Executive</td><td>Sales</td><td>6524</td><td>111</td></tr><tr><td>378</td><td>Sales Executive</td><td>Sales</td><td>6502</td><td>112</td></tr><tr><td>808</td><td>Sales Executive</td><td>Sales</td><td>6500</td><td>113</td></tr><tr><td>1898</td><td>Sales Executive</td><td>Sales</td><td>6500</td><td>113</td></tr><tr><td>1557</td><td>Sales Executive</td><td>Sales</td><td>6439</td><td>115</td></tr><tr><td>785</td><td>Sales Executive</td><td>Sales</td><td>6397</td><td>116</td></tr><tr><td>1560</td><td>Sales Executive</td><td>Sales</td><td>6392</td><td>117</td></tr><tr><td>492</td><td>Sales Executive</td><td>Sales</td><td>6380</td><td>118</td></tr><tr><td>449</td><td>Sales Executive</td><td>Sales</td><td>6349</td><td>119</td></tr><tr><td>1040</td><td>Sales Executive</td><td>Sales</td><td>6347</td><td>120</td></tr><tr><td>868</td><td>Sales Executive</td><td>Sales</td><td>6334</td><td>121</td></tr><tr><td>786</td><td>Sales Executive</td><td>Sales</td><td>6274</td><td>122</td></tr><tr><td>641</td><td>Sales Executive</td><td>Sales</td><td>6272</td><td>123</td></tr><tr><td>936</td><td>Sales Executive</td><td>Sales</td><td>6244</td><td>124</td></tr><tr><td>1399</td><td>Sales Executive</td><td>Sales</td><td>6232</td><td>125</td></tr><tr><td>599</td><td>Sales Executive</td><td>Sales</td><td>6230</td><td>126</td></tr><tr><td>458</td><td>Sales Executive</td><td>Sales</td><td>6214</td><td>127</td></tr><tr><td>1304</td><td>Sales Executive</td><td>Sales</td><td>6209</td><td>128</td></tr><tr><td>857</td><td>Sales Executive</td><td>Sales</td><td>6201</td><td>129</td></tr><tr><td>781</td><td>Sales Executive</td><td>Sales</td><td>6180</td><td>130</td></tr><tr><td>163</td><td>Sales Executive</td><td>Sales</td><td>6172</td><td>131</td></tr><tr><td>1329</td><td>Sales Executive</td><td>Sales</td><td>6151</td><td>132</td></tr><tr><td>160</td><td>Sales Executive</td><td>Sales</td><td>6146</td><td>133</td></tr><tr><td>1733</td><td>Sales Executive</td><td>Sales</td><td>6134</td><td>134</td></tr><tr><td>1356</td><td>Sales Executive</td><td>Sales</td><td>6125</td><td>135</td></tr><tr><td>1390</td><td>Sales Executive</td><td>Sales</td><td>6120</td><td>136</td></tr><tr><td>456</td><td>Sales Executive</td><td>Sales</td><td>6118</td><td>137</td></tr><tr><td>1779</td><td>Sales Executive</td><td>Sales</td><td>6029</td><td>138</td></tr><tr><td>1</td><td>Sales Executive</td><td>Sales</td><td>5993</td><td>139</td></tr><tr><td>303</td><td>Sales Executive</td><td>Sales</td><td>5940</td><td>140</td></tr><tr><td>182</td><td>Sales Executive</td><td>Sales</td><td>5902</td><td>141</td></tr><tr><td>1650</td><td>Sales Executive</td><td>Sales</td><td>5869</td><td>142</td></tr><tr><td>401</td><td>Sales Executive</td><td>Sales</td><td>5828</td><td>143</td></tr><tr><td>1797</td><td>Sales Executive</td><td>Sales</td><td>5813</td><td>144</td></tr><tr><td>62</td><td>Sales Executive</td><td>Sales</td><td>5772</td><td>145</td></tr><tr><td>1403</td><td>Sales Executive</td><td>Sales</td><td>5769</td><td>146</td></tr><tr><td>1487</td><td>Sales Executive</td><td>Sales</td><td>5765</td><td>147</td></tr><tr><td>142</td><td>Sales Executive</td><td>Sales</td><td>5744</td><td>148</td></tr><tr><td>1929</td><td>Sales Executive</td><td>Sales</td><td>5736</td><td>149</td></tr><tr><td>516</td><td>Sales Executive</td><td>Sales</td><td>5715</td><td>150</td></tr><tr><td>1163</td><td>Sales Executive</td><td>Sales</td><td>5714</td><td>151</td></tr><tr><td>1986</td><td>Sales Executive</td><td>Sales</td><td>5677</td><td>152</td></tr><tr><td>1849</td><td>Sales Executive</td><td>Sales</td><td>5675</td><td>153</td></tr><tr><td>1880</td><td>Sales Executive</td><td>Sales</td><td>5673</td><td>154</td></tr><tr><td>983</td><td>Sales Executive</td><td>Sales</td><td>5666</td><td>155</td></tr><tr><td>1436</td><td>Sales Executive</td><td>Sales</td><td>5647</td><td>156</td></tr><tr><td>1967</td><td>Sales Executive</td><td>Sales</td><td>5617</td><td>157</td></tr><tr><td>382</td><td>Sales Executive</td><td>Sales</td><td>5605</td><td>158</td></tr><tr><td>1117</td><td>Sales Executive</td><td>Sales</td><td>5593</td><td>159</td></tr><tr><td>690</td><td>Sales Executive</td><td>Sales</td><td>5561</td><td>160</td></tr><tr><td>1945</td><td>Sales Executive</td><td>Sales</td><td>5561</td><td>160</td></tr><tr><td>1908</td><td>Sales Executive</td><td>Sales</td><td>5507</td><td>162</td></tr><tr><td>1670</td><td>Sales Executive</td><td>Sales</td><td>5505</td><td>163</td></tr><tr><td>1924</td><td>Sales Executive</td><td>Sales</td><td>5487</td><td>164</td></tr><tr><td>1466</td><td>Sales Executive</td><td>Sales</td><td>5486</td><td>165</td></tr><tr><td>420</td><td>Sales Executive</td><td>Sales</td><td>5484</td><td>166</td></tr><tr><td>1673</td><td>Sales Executive</td><td>Sales</td><td>5476</td><td>167</td></tr><tr><td>91</td><td>Sales Executive</td><td>Sales</td><td>5473</td><td>168</td></tr><tr><td>1548</td><td>Sales Executive</td><td>Sales</td><td>5473</td><td>168</td></tr><tr><td>1784</td><td>Sales Executive</td><td>Sales</td><td>5468</td><td>170</td></tr><tr><td>653</td><td>Sales Executive</td><td>Sales</td><td>5460</td><td>171</td></tr><tr><td>68</td><td>Sales Executive</td><td>Sales</td><td>5454</td><td>172</td></tr><tr><td>120</td><td>Sales Executive</td><td>Sales</td><td>5441</td><td>173</td></tr><tr><td>1645</td><td>Sales Executive</td><td>Sales</td><td>5440</td><td>174</td></tr><tr><td>2036</td><td>Sales Executive</td><td>Sales</td><td>5406</td><td>175</td></tr><tr><td>732</td><td>Sales Executive</td><td>Sales</td><td>5405</td><td>176</td></tr><tr><td>1835</td><td>Sales Representative</td><td>Sales</td><td>5405</td><td>176</td></tr><tr><td>722</td><td>Sales Executive</td><td>Sales</td><td>5396</td><td>178</td></tr><tr><td>2065</td><td>Sales Executive</td><td>Sales</td><td>5390</td><td>179</td></tr><tr><td>1935</td><td>Sales Executive</td><td>Sales</td><td>5380</td><td>180</td></tr><tr><td>52</td><td>Sales Executive</td><td>Sales</td><td>5376</td><td>181</td></tr><tr><td>1681</td><td>Sales Executive</td><td>Sales</td><td>5368</td><td>182</td></tr><tr><td>1188</td><td>Sales Executive</td><td>Sales</td><td>5346</td><td>183</td></tr><tr><td>2041</td><td>Sales Executive</td><td>Sales</td><td>5343</td><td>184</td></tr><tr><td>621</td><td>Sales Executive</td><td>Sales</td><td>5337</td><td>185</td></tr><tr><td>1613</td><td>Sales Executive</td><td>Sales</td><td>5332</td><td>186</td></tr><tr><td>796</td><td>Sales Executive</td><td>Sales</td><td>5326</td><td>187</td></tr><tr><td>819</td><td>Sales Executive</td><td>Sales</td><td>5324</td><td>188</td></tr><tr><td>502</td><td>Sales Executive</td><td>Sales</td><td>5304</td><td>189</td></tr><tr><td>747</td><td>Sales Executive</td><td>Sales</td><td>5304</td><td>189</td></tr><tr><td>1479</td><td>Sales Executive</td><td>Sales</td><td>5301</td><td>191</td></tr><tr><td>476</td><td>Sales Executive</td><td>Sales</td><td>5296</td><td>192</td></tr><tr><td>498</td><td>Sales Executive</td><td>Sales</td><td>5253</td><td>193</td></tr><tr><td>361</td><td>Sales Executive</td><td>Sales</td><td>5249</td><td>194</td></tr><tr><td>445</td><td>Sales Executive</td><td>Sales</td><td>5238</td><td>195</td></tr><tr><td>436</td><td>Sales Executive</td><td>Sales</td><td>5228</td><td>196</td></tr><tr><td>1233</td><td>Sales Executive</td><td>Sales</td><td>5220</td><td>197</td></tr><tr><td>121</td><td>Sales Executive</td><td>Sales</td><td>5209</td><td>198</td></tr><tr><td>1962</td><td>Sales Executive</td><td>Sales</td><td>5204</td><td>199</td></tr><tr><td>1254</td><td>Sales Executive</td><td>Sales</td><td>5171</td><td>200</td></tr><tr><td>842</td><td>Sales Executive</td><td>Sales</td><td>5160</td><td>201</td></tr><tr><td>1171</td><td>Sales Executive</td><td>Sales</td><td>5155</td><td>202</td></tr><tr><td>1845</td><td>Sales Executive</td><td>Sales</td><td>5154</td><td>203</td></tr><tr><td>1756</td><td>Sales Executive</td><td>Sales</td><td>5147</td><td>204</td></tr><tr><td>1943</td><td>Sales Executive</td><td>Sales</td><td>5087</td><td>205</td></tr><tr><td>990</td><td>Sales Executive</td><td>Sales</td><td>5079</td><td>206</td></tr><tr><td>1371</td><td>Sales Executive</td><td>Sales</td><td>5071</td><td>207</td></tr><tr><td>125</td><td>Sales Executive</td><td>Sales</td><td>5010</td><td>208</td></tr><tr><td>240</td><td>Sales Executive</td><td>Sales</td><td>5006</td><td>209</td></tr><tr><td>128</td><td>Sales Executive</td><td>Sales</td><td>4999</td><td>210</td></tr><tr><td>1731</td><td>Sales Executive</td><td>Sales</td><td>4978</td><td>211</td></tr><tr><td>1037</td><td>Sales Executive</td><td>Sales</td><td>4969</td><td>212</td></tr><tr><td>1137</td><td>Sales Executive</td><td>Sales</td><td>4968</td><td>213</td></tr><tr><td>728</td><td>Sales Executive</td><td>Sales</td><td>4960</td><td>214</td></tr><tr><td>1240</td><td>Sales Executive</td><td>Sales</td><td>4950</td><td>215</td></tr><tr><td>500</td><td>Sales Executive</td><td>Sales</td><td>4936</td><td>216</td></tr><tr><td>916</td><td>Sales Executive</td><td>Sales</td><td>4908</td><td>217</td></tr><tr><td>387</td><td>Sales Executive</td><td>Sales</td><td>4907</td><td>218</td></tr><tr><td>2018</td><td>Sales Executive</td><td>Sales</td><td>4907</td><td>218</td></tr><tr><td>1507</td><td>Sales Executive</td><td>Sales</td><td>4898</td><td>220</td></tr><tr><td>620</td><td>Sales Executive</td><td>Sales</td><td>4859</td><td>221</td></tr><tr><td>707</td><td>Sales Executive</td><td>Sales</td><td>4851</td><td>222</td></tr><tr><td>2046</td><td>Sales Executive</td><td>Sales</td><td>4850</td><td>223</td></tr><tr><td>606</td><td>Sales Executive</td><td>Sales</td><td>4805</td><td>224</td></tr><tr><td>846</td><td>Sales Executive</td><td>Sales</td><td>4779</td><td>225</td></tr><tr><td>1428</td><td>Sales Executive</td><td>Sales</td><td>4779</td><td>225</td></tr><tr><td>1481</td><td>Sales Executive</td><td>Sales</td><td>4768</td><td>227</td></tr><tr><td>1478</td><td>Sales Executive</td><td>Sales</td><td>4759</td><td>228</td></tr><tr><td>475</td><td>Sales Executive</td><td>Sales</td><td>4736</td><td>229</td></tr><tr><td>1113</td><td>Sales Executive</td><td>Sales</td><td>4728</td><td>230</td></tr><tr><td>1387</td><td>Sales Executive</td><td>Sales</td><td>4724</td><td>231</td></tr><tr><td>600</td><td>Sales Executive</td><td>Sales</td><td>4717</td><td>232</td></tr><tr><td>631</td><td>Sales Executive</td><td>Sales</td><td>4707</td><td>233</td></tr><tr><td>1836</td><td>Sales Executive</td><td>Sales</td><td>4684</td><td>234</td></tr><tr><td>446</td><td>Sales Executive</td><td>Sales</td><td>4682</td><td>235</td></tr><tr><td>195</td><td>Sales Executive</td><td>Sales</td><td>4668</td><td>236</td></tr><tr><td>469</td><td>Sales Executive</td><td>Sales</td><td>4649</td><td>237</td></tr><tr><td>1853</td><td>Sales Executive</td><td>Sales</td><td>4648</td><td>238</td></tr><tr><td>714</td><td>Sales Executive</td><td>Sales</td><td>4647</td><td>239</td></tr><tr><td>1362</td><td>Sales Executive</td><td>Sales</td><td>4639</td><td>240</td></tr><tr><td>1598</td><td>Sales Executive</td><td>Sales</td><td>4639</td><td>240</td></tr><tr><td>1380</td><td>Sales Executive</td><td>Sales</td><td>4614</td><td>242</td></tr><tr><td>975</td><td>Sales Executive</td><td>Sales</td><td>4601</td><td>243</td></tr><tr><td>1489</td><td>Sales Executive</td><td>Sales</td><td>4599</td><td>244</td></tr><tr><td>1503</td><td>Sales Executive</td><td>Sales</td><td>4591</td><td>245</td></tr><tr><td>1667</td><td>Sales Executive</td><td>Sales</td><td>4581</td><td>246</td></tr><tr><td>720</td><td>Sales Executive</td><td>Sales</td><td>4577</td><td>247</td></tr><tr><td>60</td><td>Sales Executive</td><td>Sales</td><td>4568</td><td>248</td></tr><tr><td>175</td><td>Sales Executive</td><td>Sales</td><td>4559</td><td>249</td></tr><tr><td>388</td><td>Sales Executive</td><td>Sales</td><td>4554</td><td>250</td></tr><tr><td>1220</td><td>Sales Executive</td><td>Sales</td><td>4539</td><td>251</td></tr><tr><td>1281</td><td>Sales Executive</td><td>Sales</td><td>4538</td><td>252</td></tr><tr><td>903</td><td>Sales Executive</td><td>Sales</td><td>4537</td><td>253</td></tr><tr><td>1757</td><td>Sales Executive</td><td>Sales</td><td>4507</td><td>254</td></tr><tr><td>1710</td><td>Sales Representative</td><td>Sales</td><td>4502</td><td>255</td></tr><tr><td>527</td><td>Sales Executive</td><td>Sales</td><td>4487</td><td>256</td></tr><tr><td>437</td><td>Sales Executive</td><td>Sales</td><td>4478</td><td>257</td></tr><tr><td>333</td><td>Sales Executive</td><td>Sales</td><td>4465</td><td>258</td></tr><tr><td>1995</td><td>Sales Executive</td><td>Sales</td><td>4440</td><td>259</td></tr><tr><td>859</td><td>Sales Executive</td><td>Sales</td><td>4403</td><td>260</td></tr><tr><td>1439</td><td>Sales Representative</td><td>Sales</td><td>4400</td><td>261</td></tr><tr><td>1909</td><td>Sales Executive</td><td>Sales</td><td>4393</td><td>262</td></tr><tr><td>1612</td><td>Sales Executive</td><td>Sales</td><td>4385</td><td>263</td></tr><tr><td>1477</td><td>Sales Executive</td><td>Sales</td><td>4373</td><td>264</td></tr><tr><td>800</td><td>Sales Executive</td><td>Sales</td><td>4342</td><td>265</td></tr><tr><td>1212</td><td>Sales Executive</td><td>Sales</td><td>4327</td><td>266</td></tr><tr><td>100</td><td>Sales Executive</td><td>Sales</td><td>4312</td><td>267</td></tr><tr><td>618</td><td>Sales Executive</td><td>Sales</td><td>4306</td><td>268</td></tr><tr><td>1114</td><td>Sales Executive</td><td>Sales</td><td>4302</td><td>269</td></tr><tr><td>956</td><td>Sales Executive</td><td>Sales</td><td>4294</td><td>270</td></tr><tr><td>684</td><td>Sales Executive</td><td>Sales</td><td>4286</td><td>271</td></tr><tr><td>507</td><td>Sales Executive</td><td>Sales</td><td>4260</td><td>272</td></tr><tr><td>885</td><td>Sales Executive</td><td>Sales</td><td>4256</td><td>273</td></tr><tr><td>650</td><td>Sales Executive</td><td>Sales</td><td>4233</td><td>274</td></tr><tr><td>129</td><td>Sales Executive</td><td>Sales</td><td>4221</td><td>275</td></tr><tr><td>1583</td><td>Sales Executive</td><td>Sales</td><td>4198</td><td>276</td></tr><tr><td>879</td><td>Sales Executive</td><td>Sales</td><td>4194</td><td>277</td></tr><tr><td>1787</td><td>Sales Executive</td><td>Sales</td><td>4189</td><td>278</td></tr><tr><td>1669</td><td>Sales Executive</td><td>Sales</td><td>4187</td><td>279</td></tr><tr><td>1003</td><td>Sales Executive</td><td>Sales</td><td>4163</td><td>280</td></tr><tr><td>1445</td><td>Sales Executive</td><td>Sales</td><td>4162</td><td>281</td></tr><tr><td>72</td><td>Sales Executive</td><td>Sales</td><td>4157</td><td>282</td></tr><tr><td>1812</td><td>Sales Executive</td><td>Sales</td><td>4127</td><td>283</td></tr><tr><td>1211</td><td>Sales Executive</td><td>Sales</td><td>4115</td><td>284</td></tr><tr><td>1965</td><td>Sales Executive</td><td>Sales</td><td>4105</td><td>285</td></tr><tr><td>1349</td><td>Sales Executive</td><td>Sales</td><td>4103</td><td>286</td></tr><tr><td>1396</td><td>Sales Executive</td><td>Sales</td><td>4078</td><td>287</td></tr><tr><td>595</td><td>Sales Executive</td><td>Sales</td><td>4051</td><td>288</td></tr><tr><td>855</td><td>Sales Executive</td><td>Sales</td><td>4037</td><td>289</td></tr><tr><td>709</td><td>Sales Executive</td><td>Sales</td><td>4028</td><td>290</td></tr><tr><td>1774</td><td>Sales Executive</td><td>Sales</td><td>4001</td><td>291</td></tr><tr><td>330</td><td>Sales Representative</td><td>Sales</td><td>3931</td><td>292</td></tr><tr><td>738</td><td>Sales Representative</td><td>Sales</td><td>3875</td><td>293</td></tr><tr><td>1864</td><td>Sales Representative</td><td>Sales</td><td>3540</td><td>294</td></tr><tr><td>2019</td><td>Sales Representative</td><td>Sales</td><td>3482</td><td>295</td></tr><tr><td>669</td><td>Sales Representative</td><td>Sales</td><td>3447</td><td>296</td></tr><tr><td>27</td><td>Sales Representative</td><td>Sales</td><td>3407</td><td>297</td></tr><tr><td>925</td><td>Sales Representative</td><td>Sales</td><td>3294</td><td>298</td></tr><tr><td>554</td><td>Sales Representative</td><td>Sales</td><td>3202</td><td>299</td></tr><tr><td>248</td><td>Sales Representative</td><td>Sales</td><td>3140</td><td>300</td></tr><tr><td>1996</td><td>Sales Representative</td><td>Sales</td><td>3067</td><td>301</td></tr><tr><td>667</td><td>Sales Representative</td><td>Sales</td><td>3041</td><td>302</td></tr><tr><td>585</td><td>Sales Representative</td><td>Sales</td><td>2983</td><td>303</td></tr><tr><td>467</td><td>Sales Representative</td><td>Sales</td><td>2976</td><td>304</td></tr><tr><td>900</td><td>Sales Representative</td><td>Sales</td><td>2973</td><td>305</td></tr><tr><td>2060</td><td>Sales Representative</td><td>Sales</td><td>2966</td><td>306</td></tr><tr><td>1486</td><td>Sales Representative</td><td>Sales</td><td>2909</td><td>307</td></tr><tr><td>893</td><td>Sales Representative</td><td>Sales</td><td>2899</td><td>308</td></tr><tr><td>1961</td><td>Sales Representative</td><td>Sales</td><td>2858</td><td>309</td></tr><tr><td>1875</td><td>Sales Representative</td><td>Sales</td><td>2856</td><td>310</td></tr><tr><td>485</td><td>Sales Representative</td><td>Sales</td><td>2851</td><td>311</td></tr><tr><td>1190</td><td>Sales Representative</td><td>Sales</td><td>2827</td><td>312</td></tr><tr><td>896</td><td>Sales Representative</td><td>Sales</td><td>2800</td><td>313</td></tr><tr><td>311</td><td>Sales Representative</td><td>Sales</td><td>2793</td><td>314</td></tr><tr><td>1135</td><td>Sales Representative</td><td>Sales</td><td>2791</td><td>315</td></tr><tr><td>399</td><td>Sales Representative</td><td>Sales</td><td>2789</td><td>316</td></tr><tr><td>1379</td><td>Sales Representative</td><td>Sales</td><td>2785</td><td>317</td></tr><tr><td>1657</td><td>Sales Representative</td><td>Sales</td><td>2783</td><td>318</td></tr><tr><td>1752</td><td>Sales Representative</td><td>Sales</td><td>2760</td><td>319</td></tr><tr><td>1680</td><td>Sales Representative</td><td>Sales</td><td>2728</td><td>320</td></tr><tr><td>494</td><td>Sales Representative</td><td>Sales</td><td>2716</td><td>321</td></tr><tr><td>47</td><td>Sales Representative</td><td>Sales</td><td>2683</td><td>322</td></tr><tr><td>1780</td><td>Sales Representative</td><td>Sales</td><td>2679</td><td>323</td></tr><tr><td>1226</td><td>Sales Representative</td><td>Sales</td><td>2678</td><td>324</td></tr><tr><td>1691</td><td>Sales Representative</td><td>Sales</td><td>2655</td><td>325</td></tr><tr><td>1556</td><td>Sales Representative</td><td>Sales</td><td>2644</td><td>326</td></tr><tr><td>749</td><td>Sales Representative</td><td>Sales</td><td>2642</td><td>327</td></tr><tr><td>484</td><td>Sales Representative</td><td>Sales</td><td>2610</td><td>328</td></tr><tr><td>666</td><td>Sales Representative</td><td>Sales</td><td>2579</td><td>329</td></tr><tr><td>805</td><td>Sales Representative</td><td>Sales</td><td>2572</td><td>330</td></tr><tr><td>1364</td><td>Sales Representative</td><td>Sales</td><td>2534</td><td>331</td></tr><tr><td>508</td><td>Sales Representative</td><td>Sales</td><td>2476</td><td>332</td></tr><tr><td>1554</td><td>Sales Representative</td><td>Sales</td><td>2430</td><td>333</td></tr><tr><td>952</td><td>Sales Representative</td><td>Sales</td><td>2413</td><td>334</td></tr><tr><td>1492</td><td>Sales Representative</td><td>Sales</td><td>2404</td><td>335</td></tr><tr><td>632</td><td>Sales Representative</td><td>Sales</td><td>2400</td><td>336</td></tr><tr><td>2021</td><td>Sales Representative</td><td>Sales</td><td>2380</td><td>337</td></tr><tr><td>555</td><td>Sales Representative</td><td>Sales</td><td>2351</td><td>338</td></tr><tr><td>1044</td><td>Sales Representative</td><td>Sales</td><td>2342</td><td>339</td></tr><tr><td>941</td><td>Sales Representative</td><td>Sales</td><td>2329</td><td>340</td></tr><tr><td>235</td><td>Sales Representative</td><td>Sales</td><td>2325</td><td>341</td></tr><tr><td>1077</td><td>Sales Representative</td><td>Sales</td><td>2323</td><td>342</td></tr><tr><td>113</td><td>Sales Representative</td><td>Sales</td><td>2322</td><td>343</td></tr><tr><td>1541</td><td>Sales Representative</td><td>Sales</td><td>2308</td><td>344</td></tr><tr><td>205</td><td>Sales Representative</td><td>Sales</td><td>2306</td><td>345</td></tr><tr><td>1331</td><td>Sales Representative</td><td>Sales</td><td>2302</td><td>346</td></tr><tr><td>766</td><td>Sales Representative</td><td>Sales</td><td>2297</td><td>347</td></tr><tr><td>1702</td><td>Sales Representative</td><td>Sales</td><td>2275</td><td>348</td></tr><tr><td>2013</td><td>Sales Representative</td><td>Sales</td><td>2269</td><td>349</td></tr><tr><td>216</td><td>Sales Representative</td><td>Sales</td><td>2231</td><td>350</td></tr><tr><td>1055</td><td>Sales Representative</td><td>Sales</td><td>2220</td><td>351</td></tr><tr><td>478</td><td>Sales Representative</td><td>Sales</td><td>2174</td><td>352</td></tr><tr><td>974</td><td>Sales Representative</td><td>Sales</td><td>2157</td><td>353</td></tr><tr><td>959</td><td>Sales Representative</td><td>Sales</td><td>2121</td><td>354</td></tr><tr><td>645</td><td>Sales Representative</td><td>Sales</td><td>2096</td><td>355</td></tr><tr><td>42</td><td>Sales Representative</td><td>Sales</td><td>2086</td><td>356</td></tr><tr><td>922</td><td>Sales Representative</td><td>Sales</td><td>2044</td><td>357</td></tr><tr><td>648</td><td>Sales Representative</td><td>Sales</td><td>2033</td><td>358</td></tr><tr><td>1495</td><td>Sales Representative</td><td>Sales</td><td>2033</td><td>358</td></tr><tr><td>49</td><td>Sales Representative</td><td>Sales</td><td>2014</td><td>360</td></tr><tr><td>1282</td><td>Manager</td><td>Sales</td><td>19847</td><td>361</td></tr><tr><td>1038</td><td>Manager</td><td>Sales</td><td>19845</td><td>362</td></tr><tr><td>1740</td><td>Manager</td><td>Sales</td><td>19833</td><td>363</td></tr><tr><td>1578</td><td>Manager</td><td>Sales</td><td>19586</td><td>364</td></tr><tr><td>323</td><td>Manager</td><td>Sales</td><td>19517</td><td>365</td></tr><tr><td>1591</td><td>Manager</td><td>Sales</td><td>19331</td><td>366</td></tr><tr><td>329</td><td>Manager</td><td>Sales</td><td>19068</td><td>367</td></tr><tr><td>38</td><td>Manager</td><td>Sales</td><td>18947</td><td>368</td></tr><tr><td>1277</td><td>Manager</td><td>Sales</td><td>18824</td><td>369</td></tr><tr><td>1280</td><td>Manager</td><td>Sales</td><td>18789</td><td>370</td></tr><tr><td>614</td><td>Sales Representative</td><td>Sales</td><td>1878</td><td>371</td></tr><tr><td>1029</td><td>Manager</td><td>Sales</td><td>18303</td><td>372</td></tr><tr><td>1267</td><td>Manager</td><td>Sales</td><td>18213</td><td>373</td></tr><tr><td>558</td><td>Manager</td><td>Sales</td><td>18041</td><td>374</td></tr><tr><td>2023</td><td>Sales Representative</td><td>Sales</td><td>1790</td><td>375</td></tr><tr><td>1938</td><td>Manager</td><td>Sales</td><td>17875</td><td>376</td></tr><tr><td>1045</td><td>Manager</td><td>Sales</td><td>17650</td><td>377</td></tr><tr><td>1602</td><td>Manager</td><td>Sales</td><td>17567</td><td>378</td></tr><tr><td>1124</td><td>Manager</td><td>Sales</td><td>17465</td><td>379</td></tr><tr><td>992</td><td>Manager</td><td>Sales</td><td>17444</td><td>380</td></tr><tr><td>1204</td><td>Manager</td><td>Sales</td><td>17048</td><td>381</td></tr><tr><td>158</td><td>Manager</td><td>Sales</td><td>16959</td><td>382</td></tr><tr><td>363</td><td>Manager</td><td>Sales</td><td>16872</td><td>383</td></tr><tr><td>776</td><td>Manager</td><td>Sales</td><td>16856</td><td>384</td></tr><tr><td>597</td><td>Manager</td><td>Sales</td><td>16835</td><td>385</td></tr><tr><td>167</td><td>Sales Representative</td><td>Sales</td><td>1675</td><td>386</td></tr><tr><td>1527</td><td>Manager</td><td>Sales</td><td>16606</td><td>387</td></tr><tr><td>625</td><td>Manager</td><td>Sales</td><td>16595</td><td>388</td></tr><tr><td>851</td><td>Manager</td><td>Sales</td><td>16307</td><td>389</td></tr><tr><td>1824</td><td>Manager</td><td>Sales</td><td>16291</td><td>390</td></tr><tr><td>327</td><td>Manager</td><td>Sales</td><td>16064</td><td>391</td></tr><tr><td>410</td><td>Manager</td><td>Sales</td><td>16015</td><td>392</td></tr><tr><td>1676</td><td>Manager</td><td>Sales</td><td>15972</td><td>393</td></tr><tr><td>1624</td><td>Sales Representative</td><td>Sales</td><td>1569</td><td>394</td></tr><tr><td>23</td><td>Manager</td><td>Sales</td><td>15427</td><td>395</td></tr><tr><td>981</td><td>Manager</td><td>Sales</td><td>14852</td><td>396</td></tr><tr><td>568</td><td>Manager</td><td>Sales</td><td>14118</td><td>397</td></tr><tr><td>131</td><td>Sales Executive</td><td>Sales</td><td>13872</td><td>398</td></tr><tr><td>746</td><td>Sales Executive</td><td>Sales</td><td>13770</td><td>399</td></tr><tr><td>1167</td><td>Sales Executive</td><td>Sales</td><td>13758</td><td>400</td></tr><tr><td>1372</td><td>Sales Executive</td><td>Sales</td><td>13695</td><td>401</td></tr><tr><td>298</td><td>Manager</td><td>Sales</td><td>13591</td><td>402</td></tr><tr><td>1427</td><td>Sales Representative</td><td>Sales</td><td>1359</td><td>403</td></tr><tr><td>404</td><td>Sales Executive</td><td>Sales</td><td>13525</td><td>404</td></tr><tr><td>1975</td><td>Sales Executive</td><td>Sales</td><td>13341</td><td>405</td></tr><tr><td>1039</td><td>Sales Executive</td><td>Sales</td><td>13320</td><td>406</td></tr><tr><td>1863</td><td>Sales Executive</td><td>Sales</td><td>13225</td><td>407</td></tr><tr><td>532</td><td>Sales Executive</td><td>Sales</td><td>13212</td><td>408</td></tr><tr><td>986</td><td>Sales Executive</td><td>Sales</td><td>13194</td><td>409</td></tr><tr><td>1138</td><td>Sales Executive</td><td>Sales</td><td>13120</td><td>410</td></tr><tr><td>1716</td><td>Sales Executive</td><td>Sales</td><td>12936</td><td>411</td></tr><tr><td>473</td><td>Manager</td><td>Sales</td><td>12504</td><td>412</td></tr><tr><td>2056</td><td>Sales Executive</td><td>Sales</td><td>12031</td><td>413</td></tr><tr><td>411</td><td>Sales Representative</td><td>Sales</td><td>1200</td><td>414</td></tr><tr><td>1048</td><td>Manager</td><td>Sales</td><td>11904</td><td>415</td></tr><tr><td>897</td><td>Sales Executive</td><td>Sales</td><td>11836</td><td>416</td></tr><tr><td>613</td><td>Manager</td><td>Sales</td><td>11557</td><td>417</td></tr><tr><td>1273</td><td>Sales Representative</td><td>Sales</td><td>1118</td><td>418</td></tr><tr><td>862</td><td>Sales Executive</td><td>Sales</td><td>10934</td><td>419</td></tr><tr><td>615</td><td>Sales Executive</td><td>Sales</td><td>10932</td><td>420</td></tr><tr><td>1928</td><td>Sales Representative</td><td>Sales</td><td>1091</td><td>421</td></tr><tr><td>215</td><td>Sales Executive</td><td>Sales</td><td>10855</td><td>422</td></tr><tr><td>2055</td><td>Sales Executive</td><td>Sales</td><td>10854</td><td>423</td></tr><tr><td>1876</td><td>Sales Representative</td><td>Sales</td><td>1081</td><td>424</td></tr><tr><td>1076</td><td>Sales Executive</td><td>Sales</td><td>10798</td><td>425</td></tr><tr><td>1453</td><td>Sales Executive</td><td>Sales</td><td>10793</td><td>426</td></tr><tr><td>864</td><td>Sales Executive</td><td>Sales</td><td>10761</td><td>427</td></tr><tr><td>1070</td><td>Sales Executive</td><td>Sales</td><td>10686</td><td>428</td></tr><tr><td>307</td><td>Sales Executive</td><td>Sales</td><td>10609</td><td>429</td></tr><tr><td>970</td><td>Sales Executive</td><td>Sales</td><td>10609</td><td>429</td></tr><tr><td>1391</td><td>Sales Executive</td><td>Sales</td><td>10596</td><td>431</td></tr><tr><td>1056</td><td>Sales Representative</td><td>Sales</td><td>1052</td><td>432</td></tr><tr><td>729</td><td>Sales Executive</td><td>Sales</td><td>10475</td><td>433</td></tr><tr><td>244</td><td>Sales Executive</td><td>Sales</td><td>10453</td><td>434</td></tr><tr><td>1968</td><td>Sales Executive</td><td>Sales</td><td>10448</td><td>435</td></tr><tr><td>1815</td><td>Sales Executive</td><td>Sales</td><td>10447</td><td>436</td></tr><tr><td>2016</td><td>Sales Executive</td><td>Sales</td><td>10422</td><td>437</td></tr><tr><td>291</td><td>Sales Executive</td><td>Sales</td><td>10400</td><td>438</td></tr><tr><td>1243</td><td>Sales Executive</td><td>Sales</td><td>10377</td><td>439</td></tr><tr><td>1732</td><td>Sales Executive</td><td>Sales</td><td>10368</td><td>440</td></tr><tr><td>967</td><td>Sales Executive</td><td>Sales</td><td>10325</td><td>441</td></tr><tr><td>1639</td><td>Sales Executive</td><td>Sales</td><td>10306</td><td>442</td></tr><tr><td>573</td><td>Sales Executive</td><td>Sales</td><td>10266</td><td>443</td></tr><tr><td>106</td><td>Sales Executive</td><td>Sales</td><td>10239</td><td>444</td></tr><tr><td>1293</td><td>Sales Executive</td><td>Sales</td><td>10231</td><td>445</td></tr><tr><td>1457</td><td>Sales Executive</td><td>Sales</td><td>10096</td><td>446</td></tr></tbody></table></div>"
      ]
     },
     "metadata": {
      "application/vnd.databricks.v1+output": {
       "addedWidgets": {},
       "aggData": [],
       "aggError": "",
       "aggOverflow": false,
       "aggSchema": [],
       "aggSeriesLimitReached": false,
       "aggType": "",
       "arguments": {},
       "columnCustomDisplayInfos": {},
       "data": [
        [
         "590",
         "Human Resources",
         "Human Resources",
         "9950",
         1
        ],
        [
         "1744",
         "Human Resources",
         "Human Resources",
         "9756",
         2
        ],
        [
         "2040",
         "Human Resources",
         "Human Resources",
         "8837",
         3
        ],
        [
         "1419",
         "Human Resources",
         "Human Resources",
         "7988",
         4
        ],
        [
         "1722",
         "Human Resources",
         "Human Resources",
         "6430",
         5
        ],
        [
         "424",
         "Human Resources",
         "Human Resources",
         "6410",
         6
        ],
        [
         "760",
         "Human Resources",
         "Human Resources",
         "6389",
         7
        ],
        [
         "184",
         "Human Resources",
         "Human Resources",
         "6347",
         8
        ],
        [
         "1231",
         "Human Resources",
         "Human Resources",
         "6272",
         9
        ],
        [
         "1563",
         "Human Resources",
         "Human Resources",
         "6077",
         10
        ],
        [
         "665",
         "Human Resources",
         "Human Resources",
         "5985",
         11
        ],
        [
         "1642",
         "Human Resources",
         "Human Resources",
         "5743",
         12
        ],
        [
         "909",
         "Human Resources",
         "Human Resources",
         "5204",
         13
        ],
        [
         "103",
         "Human Resources",
         "Human Resources",
         "5021",
         14
        ],
        [
         "869",
         "Human Resources",
         "Human Resources",
         "4936",
         15
        ],
        [
         "1289",
         "Human Resources",
         "Human Resources",
         "4490",
         16
        ],
        [
         "1164",
         "Human Resources",
         "Human Resources",
         "4323",
         17
        ],
        [
         "1794",
         "Human Resources",
         "Human Resources",
         "4071",
         18
        ],
        [
         "1890",
         "Human Resources",
         "Human Resources",
         "3886",
         19
        ],
        [
         "847",
         "Human Resources",
         "Human Resources",
         "3737",
         20
        ],
        [
         "1207",
         "Human Resources",
         "Human Resources",
         "3600",
         21
        ],
        [
         "1778",
         "Human Resources",
         "Human Resources",
         "3539",
         22
        ],
        [
         "1314",
         "Human Resources",
         "Human Resources",
         "3423",
         23
        ],
        [
         "1683",
         "Human Resources",
         "Human Resources",
         "3195",
         24
        ],
        [
         "1972",
         "Human Resources",
         "Human Resources",
         "2991",
         25
        ],
        [
         "1842",
         "Human Resources",
         "Human Resources",
         "2956",
         26
        ],
        [
         "177",
         "Human Resources",
         "Human Resources",
         "2942",
         27
        ],
        [
         "1944",
         "Human Resources",
         "Human Resources",
         "2863",
         28
        ],
        [
         "1152",
         "Human Resources",
         "Human Resources",
         "2844",
         29
        ],
        [
         "1865",
         "Human Resources",
         "Human Resources",
         "2804",
         30
        ],
        [
         "1467",
         "Human Resources",
         "Human Resources",
         "2742",
         31
        ],
        [
         "608",
         "Human Resources",
         "Human Resources",
         "2741",
         32
        ],
        [
         "1858",
         "Human Resources",
         "Human Resources",
         "2706",
         33
        ],
        [
         "470",
         "Human Resources",
         "Human Resources",
         "2696",
         34
        ],
        [
         "1805",
         "Human Resources",
         "Human Resources",
         "2592",
         35
        ],
        [
         "566",
         "Human Resources",
         "Human Resources",
         "2564",
         36
        ],
        [
         "878",
         "Human Resources",
         "Human Resources",
         "2342",
         37
        ],
        [
         "1844",
         "Human Resources",
         "Human Resources",
         "2335",
         38
        ],
        [
         "910",
         "Human Resources",
         "Human Resources",
         "2277",
         39
        ],
        [
         "321",
         "Human Resources",
         "Human Resources",
         "2267",
         40
        ],
        [
         "1987",
         "Human Resources",
         "Human Resources",
         "2187",
         41
        ],
        [
         "1747",
         "Human Resources",
         "Human Resources",
         "2180",
         42
        ],
        [
         "1049",
         "Human Resources",
         "Human Resources",
         "2177",
         43
        ],
        [
         "1818",
         "Human Resources",
         "Human Resources",
         "2148",
         44
        ],
        [
         "1746",
         "Human Resources",
         "Human Resources",
         "2145",
         45
        ],
        [
         "829",
         "Human Resources",
         "Human Resources",
         "2143",
         46
        ],
        [
         "1461",
         "Human Resources",
         "Human Resources",
         "2109",
         47
        ],
        [
         "133",
         "Human Resources",
         "Human Resources",
         "2073",
         48
        ],
        [
         "1499",
         "Human Resources",
         "Human Resources",
         "2064",
         49
        ],
        [
         "1338",
         "Manager",
         "Human Resources",
         "19717",
         50
        ],
        [
         "1625",
         "Manager",
         "Human Resources",
         "19658",
         51
        ],
        [
         "1973",
         "Manager",
         "Human Resources",
         "19636",
         52
        ],
        [
         "734",
         "Manager",
         "Human Resources",
         "19189",
         53
        ],
        [
         "731",
         "Manager",
         "Human Resources",
         "19141",
         54
        ],
        [
         "140",
         "Manager",
         "Human Resources",
         "18844",
         55
        ],
        [
         "644",
         "Manager",
         "Human Resources",
         "18200",
         56
        ],
        [
         "148",
         "Manager",
         "Human Resources",
         "17328",
         57
        ],
        [
         "1408",
         "Manager",
         "Human Resources",
         "16799",
         58
        ],
        [
         "1550",
         "Manager",
         "Human Resources",
         "16437",
         59
        ],
        [
         "1714",
         "Human Resources",
         "Human Resources",
         "1555",
         60
        ],
        [
         "1352",
         "Manager",
         "Human Resources",
         "14026",
         61
        ],
        [
         "698",
         "Human Resources",
         "Human Resources",
         "10725",
         62
        ],
        [
         "1098",
         "Human Resources",
         "Human Resources",
         "10482",
         63
        ],
        [
         "2062",
         "Healthcare Representative",
         "Research & Development",
         "9991",
         1
        ],
        [
         "451",
         "Healthcare Representative",
         "Research & Development",
         "9985",
         2
        ],
        [
         "20",
         "Manufacturing Director",
         "Research & Development",
         "9980",
         3
        ],
        [
         "1084",
         "Manufacturing Director",
         "Research & Development",
         "9957",
         4
        ],
        [
         "2057",
         "Manufacturing Director",
         "Research & Development",
         "9936",
         5
        ],
        [
         "70",
         "Healthcare Representative",
         "Research & Development",
         "9884",
         6
        ],
        [
         "587",
         "Healthcare Representative",
         "Research & Development",
         "9824",
         7
        ],
        [
         "634",
         "Healthcare Representative",
         "Research & Development",
         "9824",
         7
        ],
        [
         "86",
         "Research Scientist",
         "Research & Development",
         "9724",
         9
        ],
        [
         "1544",
         "Healthcare Representative",
         "Research & Development",
         "9715",
         10
        ],
        [
         "1966",
         "Manufacturing Director",
         "Research & Development",
         "9679",
         11
        ],
        [
         "1816",
         "Manufacturing Director",
         "Research & Development",
         "9667",
         12
        ],
        [
         "417",
         "Healthcare Representative",
         "Research & Development",
         "9613",
         13
        ],
        [
         "256",
         "Manufacturing Director",
         "Research & Development",
         "9547",
         14
        ],
        [
         "12",
         "Manufacturing Director",
         "Research & Development",
         "9526",
         15
        ],
        [
         "223",
         "Healthcare Representative",
         "Research & Development",
         "9439",
         16
        ],
        [
         "689",
         "Manufacturing Director",
         "Research & Development",
         "9434",
         17
        ],
        [
         "288",
         "Healthcare Representative",
         "Research & Development",
         "9396",
         18
        ],
        [
         "1465",
         "Manufacturing Director",
         "Research & Development",
         "9380",
         19
        ],
        [
         "1412",
         "Manufacturing Director",
         "Research & Development",
         "9362",
         20
        ],
        [
         "442",
         "Manufacturing Director",
         "Research & Development",
         "8943",
         21
        ],
        [
         "1821",
         "Healthcare Representative",
         "Research & Development",
         "8926",
         22
        ],
        [
         "1073",
         "Manufacturing Director",
         "Research & Development",
         "8858",
         23
        ],
        [
         "1590",
         "Healthcare Representative",
         "Research & Development",
         "8853",
         24
        ],
        [
         "699",
         "Manufacturing Director",
         "Research & Development",
         "8847",
         25
        ],
        [
         "1088",
         "Healthcare Representative",
         "Research & Development",
         "8823",
         26
        ],
        [
         "733",
         "Manufacturing Director",
         "Research & Development",
         "8793",
         27
        ],
        [
         "1082",
         "Healthcare Representative",
         "Research & Development",
         "8722",
         28
        ],
        [
         "1993",
         "Healthcare Representative",
         "Research & Development",
         "8633",
         29
        ],
        [
         "717",
         "Healthcare Representative",
         "Research & Development",
         "8621",
         30
        ],
        [
         "1529",
         "Healthcare Representative",
         "Research & Development",
         "8606",
         31
        ],
        [
         "1857",
         "Manufacturing Director",
         "Research & Development",
         "8578",
         32
        ],
        [
         "1344",
         "Healthcare Representative",
         "Research & Development",
         "8500",
         33
        ],
        [
         "292",
         "Manufacturing Director",
         "Research & Development",
         "8474",
         34
        ],
        [
         "1525",
         "Manufacturing Director",
         "Research & Development",
         "8376",
         35
        ],
        [
         "1790",
         "Healthcare Representative",
         "Research & Development",
         "8321",
         36
        ],
        [
         "464",
         "Manufacturing Director",
         "Research & Development",
         "8095",
         37
        ],
        [
         "1651",
         "Healthcare Representative",
         "Research & Development",
         "8008",
         38
        ],
        [
         "1295",
         "Healthcare Representative",
         "Research & Development",
         "7978",
         39
        ],
        [
         "543",
         "Manufacturing Director",
         "Research & Development",
         "7969",
         40
        ],
        [
         "1641",
         "Manufacturing Director",
         "Research & Development",
         "7945",
         41
        ],
        [
         "1363",
         "Manufacturing Director",
         "Research & Development",
         "7898",
         42
        ],
        [
         "1703",
         "Healthcare Representative",
         "Research & Development",
         "7879",
         43
        ],
        [
         "743",
         "Manufacturing Director",
         "Research & Development",
         "7861",
         44
        ],
        [
         "1133",
         "Manufacturing Director",
         "Research & Development",
         "7779",
         45
        ],
        [
         "1103",
         "Healthcare Representative",
         "Research & Development",
         "7756",
         46
        ],
        [
         "1638",
         "Manufacturing Director",
         "Research & Development",
         "7756",
         46
        ],
        [
         "692",
         "Healthcare Representative",
         "Research & Development",
         "7725",
         48
        ],
        [
         "1121",
         "Manufacturing Director",
         "Research & Development",
         "7655",
         49
        ],
        [
         "586",
         "Healthcare Representative",
         "Research & Development",
         "7632",
         50
        ],
        [
         "724",
         "Healthcare Representative",
         "Research & Development",
         "7625",
         51
        ],
        [
         "1421",
         "Healthcare Representative",
         "Research & Development",
         "7553",
         52
        ],
        [
         "1971",
         "Healthcare Representative",
         "Research & Development",
         "7510",
         53
        ],
        [
         "623",
         "Manufacturing Director",
         "Research & Development",
         "7491",
         54
        ],
        [
         "145",
         "Healthcare Representative",
         "Research & Development",
         "7484",
         55
        ],
        [
         "1459",
         "Manufacturing Director",
         "Research & Development",
         "7446",
         56
        ],
        [
         "1553",
         "Healthcare Representative",
         "Research & Development",
         "7441",
         57
        ],
        [
         "725",
         "Manufacturing Director",
         "Research & Development",
         "7412",
         58
        ],
        [
         "605",
         "Manufacturing Director",
         "Research & Development",
         "7406",
         59
        ],
        [
         "944",
         "Laboratory Technician",
         "Research & Development",
         "7403",
         60
        ],
        [
         "1228",
         "Manufacturing Director",
         "Research & Development",
         "7379",
         61
        ],
        [
         "112",
         "Manufacturing Director",
         "Research & Development",
         "7260",
         62
        ],
        [
         "462",
         "Manufacturing Director",
         "Research & Development",
         "7143",
         63
        ],
        [
         "1099",
         "Healthcare Representative",
         "Research & Development",
         "7119",
         64
        ],
        [
         "1312",
         "Healthcare Representative",
         "Research & Development",
         "7094",
         65
        ],
        [
         "1689",
         "Healthcare Representative",
         "Research & Development",
         "7005",
         66
        ],
        [
         "1847",
         "Research Scientist",
         "Research & Development",
         "6962",
         67
        ],
        [
         "969",
         "Healthcare Representative",
         "Research & Development",
         "6949",
         68
        ],
        [
         "1728",
         "Manufacturing Director",
         "Research & Development",
         "6883",
         69
        ],
        [
         "833",
         "Manufacturing Director",
         "Research & Development",
         "6877",
         70
        ],
        [
         "1814",
         "Healthcare Representative",
         "Research & Development",
         "6870",
         71
        ],
        [
         "1830",
         "Research Scientist",
         "Research & Development",
         "6854",
         72
        ],
        [
         "1664",
         "Healthcare Representative",
         "Research & Development",
         "6842",
         73
        ],
        [
         "1251",
         "Healthcare Representative",
         "Research & Development",
         "6833",
         74
        ],
        [
         "1252",
         "Healthcare Representative",
         "Research & Development",
         "6812",
         75
        ],
        [
         "616",
         "Healthcare Representative",
         "Research & Development",
         "6811",
         76
        ],
        [
         "764",
         "Healthcare Representative",
         "Research & Development",
         "6811",
         76
        ],
        [
         "275",
         "Manufacturing Director",
         "Research & Development",
         "6804",
         78
        ],
        [
         "1132",
         "Laboratory Technician",
         "Research & Development",
         "6782",
         79
        ],
        [
         "477",
         "Healthcare Representative",
         "Research & Development",
         "6781",
         80
        ],
        [
         "482",
         "Healthcare Representative",
         "Research & Development",
         "6755",
         81
        ],
        [
         "966",
         "Manufacturing Director",
         "Research & Development",
         "6725",
         82
        ],
        [
         "1383",
         "Healthcare Representative",
         "Research & Development",
         "6687",
         83
        ],
        [
         "1315",
         "Laboratory Technician",
         "Research & Development",
         "6674",
         84
        ],
        [
         "282",
         "Healthcare Representative",
         "Research & Development",
         "6673",
         85
        ],
        [
         "1955",
         "Healthcare Representative",
         "Research & Development",
         "6667",
         86
        ],
        [
         "1473",
         "Healthcare Representative",
         "Research & Development",
         "6651",
         87
        ],
        [
         "691",
         "Research Scientist",
         "Research & Development",
         "6646",
         88
        ],
        [
         "1260",
         "Healthcare Representative",
         "Research & Development",
         "6623",
         89
        ],
        [
         "924",
         "Healthcare Representative",
         "Research & Development",
         "6586",
         90
        ],
        [
         "170",
         "Manufacturing Director",
         "Research & Development",
         "6567",
         91
        ],
        [
         "271",
         "Manufacturing Director",
         "Research & Development",
         "6553",
         92
        ],
        [
         "1514",
         "Manufacturing Director",
         "Research & Development",
         "6549",
         93
        ],
        [
         "347",
         "Research Scientist",
         "Research & Development",
         "6545",
         94
        ],
        [
         "496",
         "Healthcare Representative",
         "Research & Development",
         "6540",
         95
        ],
        [
         "1724",
         "Manufacturing Director",
         "Research & Development",
         "6516",
         96
        ],
        [
         "1822",
         "Healthcare Representative",
         "Research & Development",
         "6513",
         97
        ],
        [
         "85",
         "Manufacturing Director",
         "Research & Development",
         "6499",
         98
        ],
        [
         "1196",
         "Manufacturing Director",
         "Research & Development",
         "6474",
         99
        ],
        [
         "1737",
         "Laboratory Technician",
         "Research & Development",
         "6472",
         100
        ],
        [
         "40",
         "Healthcare Representative",
         "Research & Development",
         "6465",
         101
        ],
        [
         "635",
         "Manufacturing Director",
         "Research & Development",
         "6447",
         102
        ],
        [
         "341",
         "Manufacturing Director",
         "Research & Development",
         "6434",
         103
        ],
        [
         "384",
         "Manufacturing Director",
         "Research & Development",
         "6397",
         104
        ],
        [
         "1515",
         "Healthcare Representative",
         "Research & Development",
         "6388",
         105
        ],
        [
         "1034",
         "Healthcare Representative",
         "Research & Development",
         "6385",
         106
        ],
        [
         "1859",
         "Healthcare Representative",
         "Research & Development",
         "6384",
         107
        ],
        [
         "1375",
         "Healthcare Representative",
         "Research & Development",
         "6377",
         108
        ],
        [
         "460",
         "Manufacturing Director",
         "Research & Development",
         "6347",
         109
        ],
        [
         "1985",
         "Laboratory Technician",
         "Research & Development",
         "6323",
         110
        ],
        [
         "679",
         "Research Scientist",
         "Research & Development",
         "6322",
         111
        ],
        [
         "2026",
         "Healthcare Representative",
         "Research & Development",
         "6306",
         112
        ],
        [
         "1753",
         "Healthcare Representative",
         "Research & Development",
         "6294",
         113
        ],
        [
         "837",
         "Healthcare Representative",
         "Research & Development",
         "6288",
         114
        ],
        [
         "273",
         "Manufacturing Director",
         "Research & Development",
         "6261",
         115
        ],
        [
         "96",
         "Research Scientist",
         "Research & Development",
         "6220",
         116
        ],
        [
         "1389",
         "Manufacturing Director",
         "Research & Development",
         "6179",
         117
        ],
        [
         "78",
         "Manufacturing Director",
         "Research & Development",
         "6162",
         118
        ],
        [
         "830",
         "Manufacturing Director",
         "Research & Development",
         "6162",
         118
        ],
        [
         "757",
         "Healthcare Representative",
         "Research & Development",
         "6142",
         120
        ],
        [
         "1587",
         "Healthcare Representative",
         "Research & Development",
         "6142",
         120
        ],
        [
         "2064",
         "Manufacturing Director",
         "Research & Development",
         "6142",
         120
        ],
        [
         "211",
         "Manufacturing Director",
         "Research & Development",
         "6132",
         123
        ],
        [
         "548",
         "Manufacturing Director",
         "Research & Development",
         "6091",
         124
        ],
        [
         "147",
         "Laboratory Technician",
         "Research & Development",
         "6074",
         125
        ],
        [
         "827",
         "Manufacturing Director",
         "Research & Development",
         "6062",
         126
        ],
        [
         "466",
         "Manufacturing Director",
         "Research & Development",
         "6032",
         127
        ],
        [
         "77",
         "Manufacturing Director",
         "Research & Development",
         "5993",
         128
        ],
        [
         "803",
         "Manufacturing Director",
         "Research & Development",
         "5980",
         129
        ],
        [
         "474",
         "Research Scientist",
         "Research & Development",
         "5974",
         130
        ],
        [
         "1970",
         "Healthcare Representative",
         "Research & Development",
         "5968",
         131
        ],
        [
         "339",
         "Manufacturing Director",
         "Research & Development",
         "5957",
         132
        ],
        [
         "852",
         "Healthcare Representative",
         "Research & Development",
         "5933",
         133
        ],
        [
         "261",
         "Manufacturing Director",
         "Research & Development",
         "5916",
         134
        ],
        [
         "76",
         "Laboratory Technician",
         "Research & Development",
         "5915",
         135
        ],
        [
         "304",
         "Laboratory Technician",
         "Research & Development",
         "5914",
         136
        ],
        [
         "1888",
         "Manufacturing Director",
         "Research & Development",
         "5906",
         137
        ],
        [
         "1555",
         "Research Scientist",
         "Research & Development",
         "5878",
         138
        ],
        [
         "961",
         "Healthcare Representative",
         "Research & Development",
         "5855",
         139
        ],
        [
         "1766",
         "Healthcare Representative",
         "Research & Development",
         "5811",
         140
        ],
        [
         "1435",
         "Laboratory Technician",
         "Research & Development",
         "5810",
         141
        ],
        [
         "441",
         "Research Scientist",
         "Research & Development",
         "5775",
         142
        ],
        [
         "1635",
         "Manufacturing Director",
         "Research & Development",
         "5770",
         143
        ],
        [
         "1611",
         "Laboratory Technician",
         "Research & Development",
         "5769",
         144
        ],
        [
         "1631",
         "Manufacturing Director",
         "Research & Development",
         "5768",
         145
        ],
        [
         "1804",
         "Manufacturing Director",
         "Research & Development",
         "5762",
         146
        ],
        [
         "1932",
         "Research Scientist",
         "Research & Development",
         "5747",
         147
        ],
        [
         "393",
         "Healthcare Representative",
         "Research & Development",
         "5745",
         148
        ],
        [
         "1161",
         "Healthcare Representative",
         "Research & Development",
         "5731",
         149
        ],
        [
         "2049",
         "Healthcare Representative",
         "Research & Development",
         "5689",
         150
        ],
        [
         "663",
         "Laboratory Technician",
         "Research & Development",
         "5679",
         151
        ],
        [
         "419",
         "Laboratory Technician",
         "Research & Development",
         "5674",
         152
        ],
        [
         "412",
         "Healthcare Representative",
         "Research & Development",
         "5661",
         153
        ],
        [
         "422",
         "Healthcare Representative",
         "Research & Development",
         "5660",
         154
        ],
        [
         "202",
         "Research Scientist",
         "Research & Development",
         "5605",
         155
        ],
        [
         "367",
         "Healthcare Representative",
         "Research & Development",
         "5582",
         156
        ],
        [
         "630",
         "Research Scientist",
         "Research & Development",
         "5577",
         157
        ],
        [
         "902",
         "Healthcare Representative",
         "Research & Development",
         "5562",
         158
        ],
        [
         "1594",
         "Laboratory Technician",
         "Research & Development",
         "5562",
         158
        ],
        [
         "1727",
         "Healthcare Representative",
         "Research & Development",
         "5562",
         158
        ],
        [
         "1803",
         "Healthcare Representative",
         "Research & Development",
         "5538",
         161
        ],
        [
         "998",
         "Healthcare Representative",
         "Research & Development",
         "5488",
         162
        ],
        [
         "799",
         "Manufacturing Director",
         "Research & Development",
         "5485",
         163
        ],
        [
         "1580",
         "Research Scientist",
         "Research & Development",
         "5484",
         164
        ],
        [
         "408",
         "Manufacturing Director",
         "Research & Development",
         "5482",
         165
        ],
        [
         "1018",
         "Manufacturing Director",
         "Research & Development",
         "5472",
         166
        ],
        [
         "1671",
         "Research Scientist",
         "Research & Development",
         "5470",
         167
        ],
        [
         "1392",
         "Research Scientist",
         "Research & Development",
         "5467",
         168
        ],
        [
         "1934",
         "Research Scientist",
         "Research & Development",
         "5467",
         168
        ],
        [
         "1658",
         "Research Scientist",
         "Research & Development",
         "5433",
         170
        ],
        [
         "1377",
         "Laboratory Technician",
         "Research & Development",
         "5429",
         171
        ],
        [
         "389",
         "Laboratory Technician",
         "Research & Development",
         "5415",
         172
        ],
        [
         "1294",
         "Manufacturing Director",
         "Research & Development",
         "5410",
         173
        ],
        [
         "1998",
         "Research Scientist",
         "Research & Development",
         "5410",
         173
        ],
        [
         "1922",
         "Healthcare Representative",
         "Research & Development",
         "5399",
         175
        ],
        [
         "64",
         "Laboratory Technician",
         "Research & Development",
         "5381",
         176
        ],
        [
         "1618",
         "Manufacturing Director",
         "Research & Development",
         "5377",
         177
        ],
        [
         "1954",
         "Healthcare Representative",
         "Research & Development",
         "5373",
         178
        ],
        [
         "1369",
         "Laboratory Technician",
         "Research & Development",
         "5363",
         179
        ],
        [
         "1682",
         "Healthcare Representative",
         "Research & Development",
         "5347",
         180
        ],
        [
         "1807",
         "Laboratory Technician",
         "Research & Development",
         "5346",
         181
        ],
        [
         "1184",
         "Healthcare Representative",
         "Research & Development",
         "5343",
         182
        ],
        [
         "107",
         "Research Scientist",
         "Research & Development",
         "5329",
         183
        ],
        [
         "1997",
         "Manufacturing Director",
         "Research & Development",
         "5321",
         184
        ],
        [
         "772",
         "Laboratory Technician",
         "Research & Development",
         "5309",
         185
        ],
        [
         "1654",
         "Manufacturing Director",
         "Research & Development",
         "5295",
         186
        ],
        [
         "1763",
         "Healthcare Representative",
         "Research & Development",
         "5294",
         187
        ],
        [
         "270",
         "Manufacturing Director",
         "Research & Development",
         "5265",
         188
        ],
        [
         "487",
         "Manufacturing Director",
         "Research & Development",
         "5258",
         189
        ],
        [
         "448",
         "Laboratory Technician",
         "Research & Development",
         "5257",
         190
        ],
        [
         "1736",
         "Manufacturing Director",
         "Research & Development",
         "5238",
         191
        ],
        [
         "13",
         "Healthcare Representative",
         "Research & Development",
         "5237",
         192
        ],
        [
         "894",
         "Laboratory Technician",
         "Research & Development",
         "5231",
         193
        ],
        [
         "823",
         "Manufacturing Director",
         "Research & Development",
         "5228",
         194
        ],
        [
         "425",
         "Laboratory Technician",
         "Research & Development",
         "5210",
         195
        ],
        [
         "1621",
         "Research Scientist",
         "Research & Development",
         "5208",
         196
        ],
        [
         "1549",
         "Laboratory Technician",
         "Research & Development",
         "5207",
         197
        ],
        [
         "1653",
         "Manufacturing Director",
         "Research & Development",
         "5206",
         198
        ],
        [
         "865",
         "Research Scientist",
         "Research & Development",
         "5175",
         199
        ],
        [
         "139",
         "Healthcare Representative",
         "Research & Development",
         "5163",
         200
        ],
        [
         "1936",
         "Manufacturing Director",
         "Research & Development",
         "5151",
         201
        ],
        [
         "2025",
         "Manufacturing Director",
         "Research & Development",
         "5131",
         202
        ],
        [
         "2",
         "Research Scientist",
         "Research & Development",
         "5130",
         203
        ],
        [
         "104",
         "Laboratory Technician",
         "Research & Development",
         "5126",
         204
        ],
        [
         "775",
         "Manufacturing Director",
         "Research & Development",
         "5121",
         205
        ],
        [
         "2008",
         "Research Scientist",
         "Research & Development",
         "5098",
         206
        ],
        [
         "832",
         "Laboratory Technician",
         "Research & Development",
         "5094",
         207
        ],
        [
         "771",
         "Healthcare Representative",
         "Research & Development",
         "5093",
         208
        ],
        [
         "574",
         "Manufacturing Director",
         "Research & Development",
         "5070",
         209
        ],
        [
         "987",
         "Manufacturing Director",
         "Research & Development",
         "5067",
         210
        ],
        [
         "1597",
         "Healthcare Representative",
         "Research & Development",
         "5063",
         211
        ],
        [
         "1150",
         "Manufacturing Director",
         "Research & Development",
         "5056",
         212
        ],
        [
         "439",
         "Research Scientist",
         "Research & Development",
         "5055",
         213
        ],
        [
         "1633",
         "Manufacturing Director",
         "Research & Development",
         "5042",
         214
        ],
        [
         "1903",
         "Healthcare Representative",
         "Research & Development",
         "5033",
         215
        ],
        [
         "1025",
         "Manufacturing Director",
         "Research & Development",
         "5003",
         216
        ],
        [
         "1956",
         "Research Scientist",
         "Research & Development",
         "5003",
         216
        ],
        [
         "1235",
         "Research Scientist",
         "Research & Development",
         "4998",
         218
        ],
        [
         "1745",
         "Research Scientist",
         "Research & Development",
         "4968",
         219
        ],
        [
         "161",
         "Research Scientist",
         "Research & Development",
         "4963",
         220
        ],
        [
         "178",
         "Manufacturing Director",
         "Research & Development",
         "4941",
         221
        ],
        [
         "433",
         "Research Scientist",
         "Research & Development",
         "4941",
         221
        ],
        [
         "1704",
         "Research Scientist",
         "Research & Development",
         "4930",
         223
        ],
        [
         "1483",
         "Research Scientist",
         "Research & Development",
         "4900",
         224
        ],
        [
         "350",
         "Manufacturing Director",
         "Research & Development",
         "4898",
         225
        ],
        [
         "1309",
         "Laboratory Technician",
         "Research & Development",
         "4883",
         226
        ],
        [
         "2009",
         "Healthcare Representative",
         "Research & Development",
         "4878",
         227
        ],
        [
         "1622",
         "Manufacturing Director",
         "Research & Development",
         "4877",
         228
        ],
        [
         "287",
         "Healthcare Representative",
         "Research & Development",
         "4876",
         229
        ],
        [
         "1599",
         "Laboratory Technician",
         "Research & Development",
         "4876",
         229
        ],
        [
         "450",
         "Research Scientist",
         "Research & Development",
         "4869",
         231
        ],
        [
         "1573",
         "Manufacturing Director",
         "Research & Development",
         "4855",
         232
        ],
        [
         "1542",
         "Laboratory Technician",
         "Research & Development",
         "4841",
         233
        ],
        [
         "1052",
         "Laboratory Technician",
         "Research & Development",
         "4834",
         234
        ],
        [
         "423",
         "Research Scientist",
         "Research & Development",
         "4821",
         235
        ],
        [
         "550",
         "Manufacturing Director",
         "Research & Development",
         "4810",
         236
        ],
        [
         "138",
         "Research Scientist",
         "Research & Development",
         "4809",
         237
        ],
        [
         "1509",
         "Laboratory Technician",
         "Research & Development",
         "4789",
         238
        ],
        [
         "1886",
         "Manufacturing Director",
         "Research & Development",
         "4788",
         239
        ],
        [
         "2027",
         "Research Scientist",
         "Research & Development",
         "4787",
         240
        ],
        [
         "1033",
         "Healthcare Representative",
         "Research & Development",
         "4777",
         241
        ],
        [
         "872",
         "Manufacturing Director",
         "Research & Development",
         "4775",
         242
        ],
        [
         "1870",
         "Research Scientist",
         "Research & Development",
         "4774",
         243
        ],
        [
         "1940",
         "Research Scientist",
         "Research & Development",
         "4771",
         244
        ],
        [
         "1158",
         "Laboratory Technician",
         "Research & Development",
         "4766",
         245
        ],
        [
         "920",
         "Manufacturing Director",
         "Research & Development",
         "4765",
         246
        ],
        [
         "390",
         "Healthcare Representative",
         "Research & Development",
         "4741",
         247
        ],
        [
         "171",
         "Research Scientist",
         "Research & Development",
         "4739",
         248
        ],
        [
         "1668",
         "Research Scientist",
         "Research & Development",
         "4735",
         249
        ],
        [
         "1615",
         "Manufacturing Director",
         "Research & Development",
         "4724",
         250
        ],
        [
         "1586",
         "Laboratory Technician",
         "Research & Development",
         "4723",
         251
        ],
        [
         "957",
         "Laboratory Technician",
         "Research & Development",
         "4721",
         252
        ],
        [
         "1298",
         "Manufacturing Director",
         "Research & Development",
         "4695",
         253
        ],
        [
         "715",
         "Research Scientist",
         "Research & Development",
         "4680",
         254
        ],
        [
         "949",
         "Research Scientist",
         "Research & Development",
         "4678",
         255
        ],
        [
         "1614",
         "Manufacturing Director",
         "Research & Development",
         "4663",
         256
        ],
        [
         "1346",
         "Research Scientist",
         "Research & Development",
         "4661",
         257
        ],
        [
         "1311",
         "Laboratory Technician",
         "Research & Development",
         "4627",
         258
        ],
        [
         "1094",
         "Laboratory Technician",
         "Research & Development",
         "4621",
         259
        ],
        [
         "1981",
         "Healthcare Representative",
         "Research & Development",
         "4617",
         260
        ],
        [
         "1080",
         "Research Scientist",
         "Research & Development",
         "4615",
         261
        ],
        [
         "536",
         "Laboratory Technician",
         "Research & Development",
         "4558",
         262
        ],
        [
         "547",
         "Research Scientist",
         "Research & Development",
         "4556",
         263
        ],
        [
         "721",
         "Healthcare Representative",
         "Research & Development",
         "4553",
         264
        ],
        [
         "1225",
         "Research Scientist",
         "Research & Development",
         "4541",
         265
        ],
        [
         "1322",
         "Manufacturing Director",
         "Research & Development",
         "4534",
         266
        ],
        [
         "551",
         "Healthcare Representative",
         "Research & Development",
         "4523",
         267
        ],
        [
         "526",
         "Healthcare Representative",
         "Research & Development",
         "4522",
         268
        ],
        [
         "1101",
         "Research Scientist",
         "Research & Development",
         "4508",
         269
        ],
        [
         "151",
         "Research Scientist",
         "Research & Development",
         "4505",
         270
        ],
        [
         "397",
         "Research Scientist",
         "Research & Development",
         "4485",
         271
        ],
        [
         "1195",
         "Research Scientist",
         "Research & Development",
         "4477",
         272
        ],
        [
         "250",
         "Manufacturing Director",
         "Research & Development",
         "4450",
         273
        ],
        [
         "529",
         "Research Scientist",
         "Research & Development",
         "4449",
         274
        ],
        [
         "1829",
         "Healthcare Representative",
         "Research & Development",
         "4448",
         275
        ],
        [
         "972",
         "Laboratory Technician",
         "Research & Development",
         "4447",
         276
        ],
        [
         "1285",
         "Laboratory Technician",
         "Research & Development",
         "4444",
         277
        ],
        [
         "1980",
         "Manufacturing Director",
         "Research & Development",
         "4440",
         278
        ],
        [
         "836",
         "Manufacturing Director",
         "Research & Development",
         "4434",
         279
        ],
        [
         "269",
         "Laboratory Technician",
         "Research & Development",
         "4425",
         280
        ],
        [
         "98",
         "Manufacturing Director",
         "Research & Development",
         "4424",
         281
        ],
        [
         "1180",
         "Research Scientist",
         "Research & Development",
         "4422",
         282
        ],
        [
         "1177",
         "Laboratory Technician",
         "Research & Development",
         "4420",
         283
        ],
        [
         "2068",
         "Laboratory Technician",
         "Research & Development",
         "4404",
         284
        ],
        [
         "1707",
         "Research Scientist",
         "Research & Development",
         "4401",
         285
        ],
        [
         "828",
         "Research Scientist",
         "Research & Development",
         "4382",
         286
        ],
        [
         "804",
         "Research Scientist",
         "Research & Development",
         "4381",
         287
        ],
        [
         "1009",
         "Manufacturing Director",
         "Research & Development",
         "4377",
         288
        ],
        [
         "1662",
         "Manufacturing Director",
         "Research & Development",
         "4374",
         289
        ],
        [
         "792",
         "Laboratory Technician",
         "Research & Development",
         "4364",
         290
        ],
        [
         "308",
         "Manufacturing Director",
         "Research & Development",
         "4345",
         291
        ],
        [
         "793",
         "Healthcare Representative",
         "Research & Development",
         "4335",
         292
        ],
        [
         "1976",
         "Research Scientist",
         "Research & Development",
         "4332",
         293
        ],
        [
         "110",
         "Manufacturing Director",
         "Research & Development",
         "4325",
         294
        ],
        [
         "1545",
         "Manufacturing Director",
         "Research & Development",
         "4320",
         295
        ],
        [
         "208",
         "Manufacturing Director",
         "Research & Development",
         "4319",
         296
        ],
        [
         "193",
         "Research Scientist",
         "Research & Development",
         "4317",
         297
        ],
        [
         "524",
         "Manufacturing Director",
         "Research & Development",
         "4306",
         298
        ],
        [
         "274",
         "Manufacturing Director",
         "Research & Development",
         "4298",
         299
        ],
        [
         "1543",
         "Research Scientist",
         "Research & Development",
         "4285",
         300
        ],
        [
         "1420",
         "Laboratory Technician",
         "Research & Development",
         "4284",
         301
        ],
        [
         "1885",
         "Research Scientist",
         "Research & Development",
         "4284",
         301
        ],
        [
         "1148",
         "Laboratory Technician",
         "Research & Development",
         "4272",
         303
        ],
        [
         "611",
         "Manufacturing Director",
         "Research & Development",
         "4262",
         304
        ],
        [
         "791",
         "Research Scientist",
         "Research & Development",
         "4258",
         305
        ],
        [
         "241",
         "Research Scientist",
         "Research & Development",
         "4257",
         306
        ],
        [
         "1350",
         "Research Scientist",
         "Research & Development",
         "4249",
         307
        ],
        [
         "807",
         "Healthcare Representative",
         "Research & Development",
         "4244",
         308
        ],
        [
         "1022",
         "Healthcare Representative",
         "Research & Development",
         "4240",
         309
        ],
        [
         "577",
         "Laboratory Technician",
         "Research & Development",
         "4230",
         310
        ],
        [
         "1027",
         "Manufacturing Director",
         "Research & Development",
         "4227",
         311
        ],
        [
         "1809",
         "Manufacturing Director",
         "Research & Development",
         "4213",
         312
        ],
        [
         "190",
         "Laboratory Technician",
         "Research & Development",
         "4200",
         313
        ],
        [
         "518",
         "Manufacturing Director",
         "Research & Development",
         "4197",
         314
        ],
        [
         "1881",
         "Laboratory Technician",
         "Research & Development",
         "4197",
         314
        ],
        [
         "15",
         "Laboratory Technician",
         "Research & Development",
         "4193",
         316
        ],
        [
         "926",
         "Manufacturing Director",
         "Research & Development",
         "4171",
         317
        ],
        [
         "117",
         "Healthcare Representative",
         "Research & Development",
         "4152",
         318
        ],
        [
         "1011",
         "Manufacturing Director",
         "Research & Development",
         "4148",
         319
        ],
        [
         "1630",
         "Healthcare Representative",
         "Research & Development",
         "4148",
         319
        ],
        [
         "2014",
         "Research Scientist",
         "Research & Development",
         "4108",
         321
        ],
        [
         "1062",
         "Healthcare Representative",
         "Research & Development",
         "4107",
         322
        ],
        [
         "659",
         "Healthcare Representative",
         "Research & Development",
         "4089",
         323
        ],
        [
         "1574",
         "Research Scientist",
         "Research & Development",
         "4087",
         324
        ],
        [
         "1537",
         "Research Scientist",
         "Research & Development",
         "4084",
         325
        ],
        [
         "1402",
         "Research Scientist",
         "Research & Development",
         "4081",
         326
        ],
        [
         "1552",
         "Healthcare Representative",
         "Research & Development",
         "4069",
         327
        ],
        [
         "1619",
         "Laboratory Technician",
         "Research & Development",
         "4066",
         328
        ],
        [
         "1501",
         "Healthcare Representative",
         "Research & Development",
         "4035",
         329
        ],
        [
         "1140",
         "Manufacturing Director",
         "Research & Development",
         "4033",
         330
        ],
        [
         "538",
         "Laboratory Technician",
         "Research & Development",
         "4031",
         331
        ],
        [
         "1046",
         "Laboratory Technician",
         "Research & Development",
         "4025",
         332
        ],
        [
         "2053",
         "Laboratory Technician",
         "Research & Development",
         "4025",
         332
        ],
        [
         "75",
         "Laboratory Technician",
         "Research & Development",
         "4014",
         334
        ],
        [
         "942",
         "Healthcare Representative",
         "Research & Development",
         "4014",
         334
        ],
        [
         "26",
         "Manufacturing Director",
         "Research & Development",
         "4011",
         336
        ],
        [
         "57",
         "Laboratory Technician",
         "Research & Development",
         "4011",
         336
        ],
        [
         "369",
         "Healthcare Representative",
         "Research & Development",
         "4000",
         338
        ],
        [
         "1684",
         "Laboratory Technician",
         "Research & Development",
         "3989",
         339
        ],
        [
         "1696",
         "Laboratory Technician",
         "Research & Development",
         "3986",
         340
        ],
        [
         "455",
         "Laboratory Technician",
         "Research & Development",
         "3983",
         341
        ],
        [
         "1916",
         "Laboratory Technician",
         "Research & Development",
         "3978",
         342
        ],
        [
         "1992",
         "Laboratory Technician",
         "Research & Development",
         "3977",
         343
        ],
        [
         "1449",
         "Laboratory Technician",
         "Research & Development",
         "3975",
         344
        ],
        [
         "1860",
         "Laboratory Technician",
         "Research & Development",
         "3968",
         345
        ],
        [
         "1083",
         "Laboratory Technician",
         "Research & Development",
         "3955",
         346
        ],
        [
         "24",
         "Research Scientist",
         "Research & Development",
         "3944",
         347
        ],
        [
         "1640",
         "Research Scientist",
         "Research & Development",
         "3936",
         348
        ],
        [
         "246",
         "Research Scientist",
         "Research & Development",
         "3929",
         349
        ],
        [
         "340",
         "Research Scientist",
         "Research & Development",
         "3920",
         350
        ],
        [
         "33",
         "Research Scientist",
         "Research & Development",
         "3919",
         351
        ],
        [
         "1028",
         "Laboratory Technician",
         "Research & Development",
         "3917",
         352
        ],
        [
         "1725",
         "Laboratory Technician",
         "Research & Development",
         "3907",
         353
        ],
        [
         "1310",
         "Research Scientist",
         "Research & Development",
         "3904",
         354
        ],
        [
         "1407",
         "Research Scientist",
         "Research & Development",
         "3904",
         354
        ],
        [
         "1871",
         "Research Scientist",
         "Research & Development",
         "3902",
         356
        ],
        [
         "593",
         "Laboratory Technician",
         "Research & Development",
         "3894",
         357
        ],
        [
         "1296",
         "Laboratory Technician",
         "Research & Development",
         "3867",
         358
        ],
        [
         "1502",
         "Laboratory Technician",
         "Research & Development",
         "3838",
         359
        ],
        [
         "806",
         "Laboratory Technician",
         "Research & Development",
         "3833",
         360
        ],
        [
         "497",
         "Laboratory Technician",
         "Research & Development",
         "3816",
         361
        ],
        [
         "277",
         "Research Scientist",
         "Research & Development",
         "3815",
         362
        ],
        [
         "1852",
         "Laboratory Technician",
         "Research & Development",
         "3812",
         363
        ],
        [
         "2054",
         "Research Scientist",
         "Research & Development",
         "3785",
         364
        ],
        [
         "578",
         "Laboratory Technician",
         "Research & Development",
         "3780",
         365
        ],
        [
         "861",
         "Research Scientist",
         "Research & Development",
         "3761",
         366
        ],
        [
         "1249",
         "Research Scientist",
         "Research & Development",
         "3760",
         367
        ],
        [
         "1646",
         "Research Scientist",
         "Research & Development",
         "3760",
         367
        ],
        [
         "602",
         "Laboratory Technician",
         "Research & Development",
         "3755",
         369
        ],
        [
         "1989",
         "Laboratory Technician",
         "Research & Development",
         "3748",
         370
        ],
        [
         "1010",
         "Laboratory Technician",
         "Research & Development",
         "3743",
         371
        ],
        [
         "331",
         "Laboratory Technician",
         "Research & Development",
         "3730",
         372
        ],
        [
         "1464",
         "Laboratory Technician",
         "Research & Development",
         "3722",
         373
        ],
        [
         "744",
         "Laboratory Technician",
         "Research & Development",
         "3708",
         374
        ],
        [
         "1782",
         "Laboratory Technician",
         "Research & Development",
         "3702",
         375
        ],
        [
         "452",
         "Research Scientist",
         "Research & Development",
         "3697",
         376
        ],
        [
         "1257",
         "Research Scientist",
         "Research & Development",
         "3692",
         377
        ],
        [
         "1106",
         "Laboratory Technician",
         "Research & Development",
         "3691",
         378
        ],
        [
         "249",
         "Laboratory Technician",
         "Research & Development",
         "3690",
         379
        ],
        [
         "407",
         "Laboratory Technician",
         "Research & Development",
         "3688",
         380
        ],
        [
         "652",
         "Laboratory Technician",
         "Research & Development",
         "3681",
         381
        ],
        [
         "1480",
         "Laboratory Technician",
         "Research & Development",
         "3673",
         382
        ],
        [
         "1358",
         "Laboratory Technician",
         "Research & Development",
         "3669",
         383
        ],
        [
         "1097",
         "Research Scientist",
         "Research & Development",
         "3660",
         384
        ],
        [
         "1458",
         "Laboratory Technician",
         "Research & Development",
         "3646",
         385
        ],
        [
         "1002",
         "Laboratory Technician",
         "Research & Development",
         "3633",
         386
        ],
        [
         "1411",
         "Laboratory Technician",
         "Research & Development",
         "3629",
         387
        ],
        [
         "649",
         "Research Scientist",
         "Research & Development",
         "3622",
         388
        ],
        [
         "964",
         "Research Scientist",
         "Research & Development",
         "3617",
         389
        ],
        [
         "1173",
         "Laboratory Technician",
         "Research & Development",
         "3597",
         390
        ],
        [
         "1834",
         "Research Scientist",
         "Research & Development",
         "3591",
         391
        ],
        [
         "887",
         "Research Scientist",
         "Research & Development",
         "3580",
         392
        ],
        [
         "1241",
         "Research Scientist",
         "Research & Development",
         "3579",
         393
        ],
        [
         "1417",
         "Laboratory Technician",
         "Research & Development",
         "3578",
         394
        ],
        [
         "267",
         "Research Scientist",
         "Research & Development",
         "3564",
         395
        ],
        [
         "1340",
         "Research Scientist",
         "Research & Development",
         "3544",
         396
        ],
        [
         "1694",
         "Research Scientist",
         "Research & Development",
         "3537",
         397
        ],
        [
         "1647",
         "Research Scientist",
         "Research & Development",
         "3517",
         398
        ],
        [
         "1291",
         "Research Scientist",
         "Research & Development",
         "3506",
         399
        ],
        [
         "784",
         "Research Scientist",
         "Research & Development",
         "3505",
         400
        ],
        [
         "1440",
         "Laboratory Technician",
         "Research & Development",
         "3500",
         401
        ],
        [
         "1224",
         "Laboratory Technician",
         "Research & Development",
         "3491",
         402
        ],
        [
         "364",
         "Laboratory Technician",
         "Research & Development",
         "3485",
         403
        ],
        [
         "355",
         "Laboratory Technician",
         "Research & Development",
         "3479",
         404
        ],
        [
         "1721",
         "Laboratory Technician",
         "Research & Development",
         "3477",
         405
        ],
        [
         "7",
         "Laboratory Technician",
         "Research & Development",
         "3468",
         406
        ],
        [
         "440",
         "Research Scientist",
         "Research & Development",
         "3464",
         407
        ],
        [
         "192",
         "Research Scientist",
         "Research & Development",
         "3452",
         408
        ],
        [
         "486",
         "Laboratory Technician",
         "Research & Development",
         "3452",
         408
        ],
        [
         "995",
         "Research Scientist",
         "Research & Development",
         "3452",
         408
        ],
        [
         "521",
         "Laboratory Technician",
         "Research & Development",
         "3448",
         411
        ],
        [
         "1751",
         "Research Scientist",
         "Research & Development",
         "3445",
         412
        ],
        [
         "65",
         "Laboratory Technician",
         "Research & Development",
         "3441",
         413
        ],
        [
         "1720",
         "Research Scientist",
         "Research & Development",
         "3433",
         414
        ],
        [
         "854",
         "Research Scientist",
         "Research & Development",
         "3424",
         415
        ],
        [
         "1438",
         "Research Scientist",
         "Research & Development",
         "3420",
         416
        ],
        [
         "1475",
         "Research Scientist",
         "Research & Development",
         "3420",
         416
        ],
        [
         "51",
         "Research Scientist",
         "Research & Development",
         "3419",
         418
        ],
        [
         "584",
         "Laboratory Technician",
         "Research & Development",
         "3408",
         419
        ],
        [
         "1596",
         "Laboratory Technician",
         "Research & Development",
         "3407",
         420
        ],
        [
         "90",
         "Research Scientist",
         "Research & Development",
         "3388",
         421
        ],
        [
         "1802",
         "Laboratory Technician",
         "Research & Development",
         "3377",
         422
        ],
        [
         "1085",
         "Research Scientist",
         "Research & Development",
         "3376",
         423
        ],
        [
         "2007",
         "Research Scientist",
         "Research & Development",
         "3375",
         424
        ],
        [
         "702",
         "Research Scientist",
         "Research & Development",
         "3348",
         425
        ],
        [
         "214",
         "Research Scientist",
         "Research & Development",
         "3346",
         426
        ],
        [
         "1299",
         "Laboratory Technician",
         "Research & Development",
         "3339",
         427
        ],
        [
         "335",
         "Research Scientist",
         "Research & Development",
         "3319",
         428
        ],
        [
         "1607",
         "Research Scientist",
         "Research & Development",
         "3312",
         429
        ],
        [
         "395",
         "Research Scientist",
         "Research & Development",
         "3310",
         430
        ],
        [
         "1687",
         "Laboratory Technician",
         "Research & Development",
         "3306",
         431
        ],
        [
         "21",
         "Research Scientist",
         "Research & Development",
         "3298",
         432
        ],
        [
         "1735",
         "Laboratory Technician",
         "Research & Development",
         "3295",
         433
        ],
        [
         "1447",
         "Laboratory Technician",
         "Research & Development",
         "3294",
         434
        ],
        [
         "1143",
         "Research Scientist",
         "Research & Development",
         "3291",
         435
        ],
        [
         "797",
         "Research Scientist",
         "Research & Development",
         "3280",
         436
        ],
        [
         "379",
         "Research Scientist",
         "Research & Development",
         "3230",
         437
        ],
        [
         "1415",
         "Laboratory Technician",
         "Research & Development",
         "3229",
         438
        ],
        [
         "716",
         "Laboratory Technician",
         "Research & Development",
         "3221",
         439
        ],
        [
         "316",
         "Laboratory Technician",
         "Research & Development",
         "3212",
         440
        ],
        [
         "1617",
         "Laboratory Technician",
         "Research & Development",
         "3211",
         441
        ],
        [
         "373",
         "Laboratory Technician",
         "Research & Development",
         "3210",
         442
        ],
        [
         "197",
         "Research Scientist",
         "Research & Development",
         "3204",
         443
        ],
        [
         "1136",
         "Research Scientist",
         "Research & Development",
         "3201",
         444
        ],
        [
         "1216",
         "Laboratory Technician",
         "Research & Development",
         "3196",
         445
        ],
        [
         "1513",
         "Laboratory Technician",
         "Research & Development",
         "3180",
         446
        ],
        [
         "1494",
         "Laboratory Technician",
         "Research & Development",
         "3172",
         447
        ],
        [
         "888",
         "Laboratory Technician",
         "Research & Development",
         "3162",
         448
        ],
        [
         "1471",
         "Laboratory Technician",
         "Research & Development",
         "3162",
         448
        ],
        [
         "392",
         "Laboratory Technician",
         "Research & Development",
         "3161",
         450
        ],
        [
         "813",
         "Laboratory Technician",
         "Research & Development",
         "3149",
         451
        ],
        [
         "1798",
         "Research Scientist",
         "Research & Development",
         "3143",
         452
        ],
        [
         "1192",
         "Laboratory Technician",
         "Research & Development",
         "3131",
         453
        ],
        [
         "1623",
         "Research Scientist",
         "Research & Development",
         "3117",
         454
        ],
        [
         "510",
         "Research Scientist",
         "Research & Development",
         "3102",
         455
        ],
        [
         "239",
         "Laboratory Technician",
         "Research & Development",
         "3072",
         456
        ],
        [
         "334",
         "Research Scientist",
         "Research & Development",
         "3072",
         456
        ],
        [
         "1627",
         "Laboratory Technician",
         "Research & Development",
         "3069",
         458
        ],
        [
         "8",
         "Laboratory Technician",
         "Research & Development",
         "3068",
         459
        ],
        [
         "1948",
         "Research Scientist",
         "Research & Development",
         "3065",
         460
        ],
        [
         "233",
         "Research Scientist",
         "Research & Development",
         "3058",
         461
        ],
        [
         "773",
         "Research Scientist",
         "Research & Development",
         "3057",
         462
        ],
        [
         "1771",
         "Research Scientist",
         "Research & Development",
         "3055",
         463
        ],
        [
         "97",
         "Laboratory Technician",
         "Research & Development",
         "3038",
         464
        ],
        [
         "231",
         "Research Scientist",
         "Research & Development",
         "3038",
         464
        ],
        [
         "515",
         "Laboratory Technician",
         "Research & Development",
         "3034",
         466
        ],
        [
         "1198",
         "Laboratory Technician",
         "Research & Development",
         "3033",
         467
        ],
        [
         "61",
         "Research Scientist",
         "Research & Development",
         "3022",
         468
        ],
        [
         "1394",
         "Research Scientist",
         "Research & Development",
         "2996",
         469
        ],
        [
         "1431",
         "Research Scientist",
         "Research & Development",
         "2996",
         469
        ],
        [
         "1269",
         "Research Scientist",
         "Research & Development",
         "2994",
         471
        ],
        [
         "1115",
         "Research Scientist",
         "Research & Development",
         "2979",
         472
        ],
        [
         "2052",
         "Research Scientist",
         "Research & Development",
         "2977",
         473
        ],
        [
         "1709",
         "Laboratory Technician",
         "Research & Development",
         "2974",
         474
        ],
        [
         "960",
         "Laboratory Technician",
         "Research & Development",
         "2973",
         475
        ],
        [
         "1577",
         "Research Scientist",
         "Research & Development",
         "2972",
         476
        ],
        [
         "31",
         "Research Scientist",
         "Research & Development",
         "2960",
         477
        ],
        [
         "134",
         "Research Scientist",
         "Research & Development",
         "2956",
         478
        ],
        [
         "1409",
         "Laboratory Technician",
         "Research & Development",
         "2950",
         479
        ],
        [
         "1071",
         "Research Scientist",
         "Research & Development",
         "2942",
         480
        ],
        [
         "1200",
         "Research Scientist",
         "Research & Development",
         "2936",
         481
        ],
        [
         "1854",
         "Research Scientist",
         "Research & Development",
         "2936",
         481
        ],
        [
         "22",
         "Laboratory Technician",
         "Research & Development",
         "2935",
         483
        ],
        [
         "1893",
         "Research Scientist",
         "Research & Development",
         "2933",
         484
        ],
        [
         "1755",
         "Research Scientist",
         "Research & Development",
         "2932",
         485
        ],
        [
         "1701",
         "Research Scientist",
         "Research & Development",
         "2929",
         486
        ],
        [
         "137",
         "Laboratory Technician",
         "Research & Development",
         "2926",
         487
        ],
        [
         "16",
         "Research Scientist",
         "Research & Development",
         "2911",
         488
        ],
        [
         "338",
         "Research Scientist",
         "Research & Development",
         "2911",
         488
        ],
        [
         "5",
         "Research Scientist",
         "Research & Development",
         "2909",
         490
        ],
        [
         "465",
         "Research Scientist",
         "Research & Development",
         "2904",
         491
        ],
        [
         "1969",
         "Research Scientist",
         "Research & Development",
         "2897",
         492
        ],
        [
         "143",
         "Research Scientist",
         "Research & Development",
         "2889",
         493
        ],
        [
         "560",
         "Research Scientist",
         "Research & Development",
         "2886",
         494
        ],
        [
         "647",
         "Laboratory Technician",
         "Research & Development",
         "2886",
         494
        ],
        [
         "1275",
         "Research Scientist",
         "Research & Development",
         "2875",
         496
        ],
        [
         "144",
         "Laboratory Technician",
         "Research & Development",
         "2871",
         497
        ],
        [
         "1952",
         "Laboratory Technician",
         "Research & Development",
         "2867",
         498
        ],
        [
         "1729",
         "Research Scientist",
         "Research & Development",
         "2862",
         499
        ],
        [
         "105",
         "Research Scientist",
         "Research & Development",
         "2859",
         500
        ],
        [
         "1203",
         "Research Scientist",
         "Research & Development",
         "2853",
         501
        ],
        [
         "1297",
         "Laboratory Technician",
         "Research & Development",
         "2838",
         502
        ],
        [
         "2010",
         "Laboratory Technician",
         "Research & Development",
         "2837",
         503
        ],
        [
         "657",
         "Research Scientist",
         "Research & Development",
         "2836",
         504
        ],
        [
         "155",
         "Laboratory Technician",
         "Research & Development",
         "2835",
         505
        ],
        [
         "1060",
         "Research Scientist",
         "Research & Development",
         "2821",
         506
        ],
        [
         "705",
         "Research Scientist",
         "Research & Development",
         "2819",
         507
        ],
        [
         "874",
         "Laboratory Technician",
         "Research & Development",
         "2818",
         508
        ],
        [
         "1605",
         "Research Scientist",
         "Research & Development",
         "2814",
         509
        ],
        [
         "1001",
         "Laboratory Technician",
         "Research & Development",
         "2811",
         510
        ],
        [
         "1949",
         "Laboratory Technician",
         "Research & Development",
         "2810",
         511
        ],
        [
         "2048",
         "Research Scientist",
         "Research & Development",
         "2809",
         512
        ],
        [
         "939",
         "Research Scientist",
         "Research & Development",
         "2799",
         513
        ],
        [
         "911",
         "Laboratory Technician",
         "Research & Development",
         "2795",
         514
        ],
        [
         "359",
         "Laboratory Technician",
         "Research & Development",
         "2794",
         515
        ],
        [
         "802",
         "Research Scientist",
         "Research & Development",
         "2782",
         516
        ],
        [
         "1999",
         "Research Scientist",
         "Research & Development",
         "2782",
         516
        ],
        [
         "1238",
         "Research Scientist",
         "Research & Development",
         "2781",
         518
        ],
        [
         "927",
         "Laboratory Technician",
         "Research & Development",
         "2778",
         519
        ],
        [
         "150",
         "Laboratory Technician",
         "Research & Development",
         "2774",
         520
        ],
        [
         "675",
         "Research Scientist",
         "Research & Development",
         "2773",
         521
        ],
        [
         "579",
         "Research Scientist",
         "Research & Development",
         "2768",
         522
        ],
        [
         "1768",
         "Laboratory Technician",
         "Research & Development",
         "2766",
         523
        ],
        [
         "752",
         "Research Scientist",
         "Research & Development",
         "2759",
         524
        ],
        [
         "252",
         "Research Scientist",
         "Research & Development",
         "2756",
         525
        ],
        [
         "1042",
         "Laboratory Technician",
         "Research & Development",
         "2743",
         526
        ],
        [
         "1234",
         "Laboratory Technician",
         "Research & Development",
         "2743",
         526
        ],
        [
         "281",
         "Laboratory Technician",
         "Research & Development",
         "2741",
         528
        ],
        [
         "1221",
         "Laboratory Technician",
         "Research & Development",
         "2741",
         528
        ],
        [
         "639",
         "Research Scientist",
         "Research & Development",
         "2725",
         530
        ],
        [
         "353",
         "Research Scientist",
         "Research & Development",
         "2723",
         531
        ],
        [
         "198",
         "Laboratory Technician",
         "Research & Development",
         "2720",
         532
        ],
        [
         "710",
         "Research Scientist",
         "Research & Development",
         "2720",
         532
        ],
        [
         "1764",
         "Research Scientist",
         "Research & Development",
         "2718",
         534
        ],
        [
         "221",
         "Research Scientist",
         "Research & Development",
         "2713",
         535
        ],
        [
         "328",
         "Laboratory Technician",
         "Research & Development",
         "2707",
         536
        ],
        [
         "1826",
         "Laboratory Technician",
         "Research & Development",
         "2705",
         537
        ],
        [
         "94",
         "Research Scientist",
         "Research & Development",
         "2703",
         538
        ],
        [
         "1154",
         "Research Scientist",
         "Research & Development",
         "2703",
         538
        ],
        [
         "824",
         "Research Scientist",
         "Research & Development",
         "2700",
         540
        ],
        [
         "426",
         "Research Scientist",
         "Research & Development",
         "2695",
         541
        ],
        [
         "812",
         "Laboratory Technician",
         "Research & Development",
         "2694",
         542
        ],
        [
         "11",
         "Laboratory Technician",
         "Research & Development",
         "2693",
         543
        ],
        [
         "923",
         "Research Scientist",
         "Research & Development",
         "2693",
         543
        ],
        [
         "683",
         "Research Scientist",
         "Research & Development",
         "2691",
         545
        ],
        [
         "1601",
         "Laboratory Technician",
         "Research & Development",
         "2690",
         546
        ],
        [
         "780",
         "Research Scientist",
         "Research & Development",
         "2686",
         547
        ],
        [
         "1006",
         "Research Scientist",
         "Research & Development",
         "2684",
         548
        ],
        [
         "10",
         "Laboratory Technician",
         "Research & Development",
         "2670",
         549
        ],
        [
         "1873",
         "Research Scientist",
         "Research & Development",
         "2662",
         550
        ],
        [
         "18",
         "Laboratory Technician",
         "Research & Development",
         "2661",
         551
        ],
        [
         "2003",
         "Laboratory Technician",
         "Research & Development",
         "2660",
         552
        ],
        [
         "686",
         "Laboratory Technician",
         "Research & Development",
         "2659",
         553
        ],
        [
         "297",
         "Research Scientist",
         "Research & Development",
         "2657",
         554
        ],
        [
         "493",
         "Research Scientist",
         "Research & Development",
         "2657",
         554
        ],
        [
         "544",
         "Research Scientist",
         "Research & Development",
         "2654",
         556
        ],
        [
         "1982",
         "Laboratory Technician",
         "Research & Development",
         "2647",
         557
        ],
        [
         "46",
         "Research Scientist",
         "Research & Development",
         "2645",
         558
        ],
        [
         "194",
         "Research Scientist",
         "Research & Development",
         "2632",
         559
        ],
        [
         "1279",
         "Laboratory Technician",
         "Research & Development",
         "2625",
         560
        ],
        [
         "305",
         "Research Scientist",
         "Research & Development",
         "2622",
         561
        ],
        [
         "662",
         "Research Scientist",
         "Research & Development",
         "2619",
         562
        ],
        [
         "159",
         "Research Scientist",
         "Research & Development",
         "2613",
         563
        ],
        [
         "1160",
         "Laboratory Technician",
         "Research & Development",
         "2610",
         564
        ],
        [
         "1382",
         "Research Scientist",
         "Research & Development",
         "2610",
         564
        ],
        [
         "1016",
         "Research Scientist",
         "Research & Development",
         "2600",
         566
        ],
        [
         "1111",
         "Laboratory Technician",
         "Research & Development",
         "2596",
         567
        ],
        [
         "351",
         "Laboratory Technician",
         "Research & Development",
         "2593",
         568
        ],
        [
         "1674",
         "Laboratory Technician",
         "Research & Development",
         "2587",
         569
        ],
        [
         "1907",
         "Laboratory Technician",
         "Research & Development",
         "2587",
         569
        ],
        [
         "1265",
         "Research Scientist",
         "Research & Development",
         "2585",
         571
        ],
        [
         "1648",
         "Research Scientist",
         "Research & Development",
         "2580",
         572
        ],
        [
         "517",
         "Laboratory Technician",
         "Research & Development",
         "2576",
         573
        ],
        [
         "2061",
         "Laboratory Technician",
         "Research & Development",
         "2571",
         574
        ],
        [
         "1693",
         "Laboratory Technician",
         "Research & Development",
         "2570",
         575
        ],
        [
         "224",
         "Research Scientist",
         "Research & Development",
         "2566",
         576
        ],
        [
         "571",
         "Laboratory Technician",
         "Research & Development",
         "2564",
         577
        ],
        [
         "1504",
         "Laboratory Technician",
         "Research & Development",
         "2561",
         578
        ],
        [
         "856",
         "Research Scientist",
         "Research & Development",
         "2559",
         579
        ],
        [
         "913",
         "Research Scientist",
         "Research & Development",
         "2559",
         579
        ],
        [
         "1258",
         "Laboratory Technician",
         "Research & Development",
         "2559",
         579
        ],
        [
         "838",
         "Research Scientist",
         "Research & Development",
         "2553",
         582
        ],
        [
         "1193",
         "Research Scientist",
         "Research & Development",
         "2552",
         583
        ],
        [
         "565",
         "Research Scientist",
         "Research & Development",
         "2546",
         584
        ],
        [
         "1918",
         "Laboratory Technician",
         "Research & Development",
         "2544",
         585
        ],
        [
         "501",
         "Research Scientist",
         "Research & Development",
         "2543",
         586
        ],
        [
         "1162",
         "Research Scientist",
         "Research & Development",
         "2539",
         587
        ],
        [
         "912",
         "Laboratory Technician",
         "Research & Development",
         "2532",
         588
        ],
        [
         "169",
         "Laboratory Technician",
         "Research & Development",
         "2523",
         589
        ],
        [
         "958",
         "Laboratory Technician",
         "Research & Development",
         "2519",
         590
        ],
        [
         "1259",
         "Research Scientist",
         "Research & Development",
         "2517",
         591
        ],
        [
         "875",
         "Research Scientist",
         "Research & Development",
         "2515",
         592
        ],
        [
         "1175",
         "Laboratory Technician",
         "Research & Development",
         "2515",
         592
        ],
        [
         "1120",
         "Research Scientist",
         "Research & Development",
         "2514",
         594
        ],
        [
         "826",
         "Research Scientist",
         "Research & Development",
         "2506",
         595
        ],
        [
         "95",
         "Research Scientist",
         "Research & Development",
         "2501",
         596
        ],
        [
         "242",
         "Research Scientist",
         "Research & Development",
         "2500",
         597
        ],
        [
         "758",
         "Laboratory Technician",
         "Research & Development",
         "2500",
         597
        ],
        [
         "39",
         "Laboratory Technician",
         "Research & Development",
         "2496",
         599
        ],
        [
         "977",
         "Research Scientist",
         "Research & Development",
         "2479",
         600
        ],
        [
         "434",
         "Research Scientist",
         "Research & Development",
         "2478",
         601
        ],
        [
         "1878",
         "Research Scientist",
         "Research & Development",
         "2472",
         602
        ],
        [
         "1760",
         "Laboratory Technician",
         "Research & Development",
         "2468",
         603
        ],
        [
         "1081",
         "Research Scientist",
         "Research & Development",
         "2461",
         604
        ],
        [
         "430",
         "Laboratory Technician",
         "Research & Development",
         "2455",
         605
        ],
        [
         "227",
         "Research Scientist",
         "Research & Development",
         "2451",
         606
        ],
        [
         "1019",
         "Laboratory Technician",
         "Research & Development",
         "2451",
         606
        ],
        [
         "1558",
         "Research Scientist",
         "Research & Development",
         "2451",
         606
        ],
        [
         "769",
         "Laboratory Technician",
         "Research & Development",
         "2450",
         609
        ],
        [
         "1564",
         "Laboratory Technician",
         "Research & Development",
         "2450",
         609
        ],
        [
         "1675",
         "Laboratory Technician",
         "Research & Development",
         "2440",
         611
        ],
        [
         "1868",
         "Research Scientist",
         "Research & Development",
         "2439",
         612
        ],
        [
         "2038",
         "Research Scientist",
         "Research & Development",
         "2439",
         612
        ],
        [
         "1813",
         "Research Scientist",
         "Research & Development",
         "2438",
         614
        ],
        [
         "1767",
         "Research Scientist",
         "Research & Development",
         "2437",
         615
        ],
        [
         "325",
         "Laboratory Technician",
         "Research & Development",
         "2436",
         616
        ],
        [
         "2020",
         "Research Scientist",
         "Research & Development",
         "2436",
         616
        ],
        [
         "1939",
         "Research Scientist",
         "Research & Development",
         "2432",
         618
        ],
        [
         "14",
         "Laboratory Technician",
         "Research & Development",
         "2426",
         619
        ],
        [
         "1017",
         "Laboratory Technician",
         "Research & Development",
         "2422",
         620
        ],
        [
         "1604",
         "Laboratory Technician",
         "Research & Development",
         "2408",
         621
        ],
        [
         "79",
         "Laboratory Technician",
         "Research & Development",
         "2406",
         622
        ],
        [
         "2012",
         "Laboratory Technician",
         "Research & Development",
         "2406",
         622
        ],
        [
         "932",
         "Laboratory Technician",
         "Research & Development",
         "2404",
         624
        ],
        [
         "994",
         "Research Scientist",
         "Research & Development",
         "2404",
         624
        ],
        [
         "1783",
         "Laboratory Technician",
         "Research & Development",
         "2398",
         626
        ],
        [
         "1405",
         "Research Scientist",
         "Research & Development",
         "2394",
         627
        ],
        [
         "315",
         "Research Scientist",
         "Research & Development",
         "2389",
         628
        ],
        [
         "1361",
         "Laboratory Technician",
         "Research & Development",
         "2387",
         629
        ],
        [
         "918",
         "Laboratory Technician",
         "Research & Development",
         "2380",
         630
        ],
        [
         "1030",
         "Laboratory Technician",
         "Research & Development",
         "2380",
         630
        ],
        [
         "1850",
         "Laboratory Technician",
         "Research & Development",
         "2379",
         632
        ],
        [
         "930",
         "Research Scientist",
         "Research & Development",
         "2377",
         633
        ],
        [
         "1107",
         "Laboratory Technician",
         "Research & Development",
         "2377",
         633
        ],
        [
         "1185",
         "Laboratory Technician",
         "Research & Development",
         "2376",
         635
        ],
        [
         "394",
         "Laboratory Technician",
         "Research & Development",
         "2373",
         636
        ],
        [
         "1292",
         "Research Scientist",
         "Research & Development",
         "2372",
         637
        ],
        [
         "1308",
         "Research Scientist",
         "Research & Development",
         "2372",
         637
        ],
        [
         "471",
         "Laboratory Technician",
         "Research & Development",
         "2370",
         639
        ],
        [
         "164",
         "Research Scientist",
         "Research & Development",
         "2368",
         640
        ],
        [
         "1576",
         "Research Scientist",
         "Research & Development",
         "2367",
         641
        ],
        [
         "1960",
         "Laboratory Technician",
         "Research & Development",
         "2367",
         641
        ],
        [
         "848",
         "Research Scientist",
         "Research & Development",
         "2366",
         643
        ],
        [
         "1333",
         "Laboratory Technician",
         "Research & Development",
         "2362",
         644
        ],
        [
         "1522",
         "Research Scientist",
         "Research & Development",
         "2362",
         644
        ],
        [
         "895",
         "Research Scientist",
         "Research & Development",
         "2356",
         646
        ],
        [
         "206",
         "Laboratory Technician",
         "Research & Development",
         "2348",
         647
        ],
        [
         "1474",
         "Research Scientist",
         "Research & Development",
         "2345",
         648
        ],
        [
         "763",
         "Research Scientist",
         "Research & Development",
         "2342",
         649
        ],
        [
         "1792",
         "Research Scientist",
         "Research & Development",
         "2342",
         649
        ],
        [
         "54",
         "Laboratory Technician",
         "Research & Development",
         "2341",
         651
        ],
        [
         "346",
         "Research Scientist",
         "Research & Development",
         "2340",
         652
        ],
        [
         "622",
         "Laboratory Technician",
         "Research & Development",
         "2340",
         652
        ],
        [
         "2032",
         "Laboratory Technician",
         "Research & Development",
         "2339",
         654
        ],
        [
         "951",
         "Laboratory Technician",
         "Research & Development",
         "2332",
         655
        ],
        [
         "284",
         "Research Scientist",
         "Research & Development",
         "2328",
         656
        ],
        [
         "403",
         "Research Scientist",
         "Research & Development",
         "2326",
         657
        ],
        [
         "217",
         "Research Scientist",
         "Research & Development",
         "2323",
         658
        ],
        [
         "991",
         "Research Scientist",
         "Research & Development",
         "2321",
         659
        ],
        [
         "816",
         "Laboratory Technician",
         "Research & Development",
         "2319",
         660
        ],
        [
         "933",
         "Research Scientist",
         "Research & Development",
         "2318",
         661
        ],
        [
         "882",
         "Laboratory Technician",
         "Research & Development",
         "2314",
         662
        ],
        [
         "1108",
         "Research Scientist",
         "Research & Development",
         "2313",
         663
        ],
        [
         "247",
         "Research Scientist",
         "Research & Development",
         "2311",
         664
        ],
        [
         "1905",
         "Research Scientist",
         "Research & Development",
         "2307",
         665
        ],
        [
         "1718",
         "Laboratory Technician",
         "Research & Development",
         "2305",
         666
        ],
        [
         "1551",
         "Laboratory Technician",
         "Research & Development",
         "2296",
         667
        ],
        [
         "45",
         "Research Scientist",
         "Research & Development",
         "2293",
         668
        ],
        [
         "55",
         "Laboratory Technician",
         "Research & Development",
         "2293",
         668
        ],
        [
         "1206",
         "Research Scientist",
         "Research & Development",
         "2290",
         670
        ],
        [
         "1772",
         "Laboratory Technician",
         "Research & Development",
         "2289",
         671
        ],
        [
         "245",
         "Laboratory Technician",
         "Research & Development",
         "2288",
         672
        ],
        [
         "514",
         "Research Scientist",
         "Research & Development",
         "2285",
         673
        ],
        [
         "260",
         "Research Scientist",
         "Research & Development",
         "2279",
         674
        ],
        [
         "834",
         "Research Scientist",
         "Research & Development",
         "2274",
         675
        ],
        [
         "1533",
         "Laboratory Technician",
         "Research & Development",
         "2272",
         676
        ],
        [
         "996",
         "Laboratory Technician",
         "Research & Development",
         "2270",
         677
        ],
        [
         "63",
         "Laboratory Technician",
         "Research & Development",
         "2269",
         678
        ],
        [
         "945",
         "Research Scientist",
         "Research & Development",
         "2259",
         679
        ],
        [
         "525",
         "Laboratory Technician",
         "Research & Development",
         "2258",
         680
        ],
        [
         "1172",
         "Laboratory Technician",
         "Research & Development",
         "2258",
         680
        ],
        [
         "511",
         "Research Scientist",
         "Research & Development",
         "2244",
         682
        ],
        [
         "200",
         "Laboratory Technician",
         "Research & Development",
         "2238",
         683
        ],
        [
         "1244",
         "Research Scientist",
         "Research & Development",
         "2235",
         684
        ],
        [
         "332",
         "Laboratory Technician",
         "Research & Development",
         "2232",
         685
        ],
        [
         "1931",
         "Research Scientist",
         "Research & Development",
         "2226",
         686
        ],
        [
         "530",
         "Laboratory Technician",
         "Research & Development",
         "2218",
         687
        ],
        [
         "741",
         "Research Scientist",
         "Research & Development",
         "2216",
         688
        ],
        [
         "483",
         "Laboratory Technician",
         "Research & Development",
         "2213",
         689
        ],
        [
         "1219",
         "Laboratory Technician",
         "Research & Development",
         "2210",
         690
        ],
        [
         "1102",
         "Laboratory Technician",
         "Research & Development",
         "2207",
         691
        ],
        [
         "41",
         "Laboratory Technician",
         "Research & Development",
         "2206",
         692
        ],
        [
         "495",
         "Research Scientist",
         "Research & Development",
         "2201",
         693
        ],
        [
         "88",
         "Research Scientist",
         "Research & Development",
         "2194",
         694
        ],
        [
         "655",
         "Research Scientist",
         "Research & Development",
         "2187",
         695
        ],
        [
         "309",
         "Research Scientist",
         "Research & Development",
         "2177",
         696
        ],
        [
         "362",
         "Laboratory Technician",
         "Research & Development",
         "2176",
         697
        ],
        [
         "1202",
         "Research Scientist",
         "Research & Development",
         "2168",
         698
        ],
        [
         "1649",
         "Laboratory Technician",
         "Research & Development",
         "2166",
         699
        ],
        [
         "1286",
         "Laboratory Technician",
         "Research & Development",
         "2154",
         700
        ],
        [
         "286",
         "Laboratory Technician",
         "Research & Development",
         "2153",
         701
        ],
        [
         "1947",
         "Research Scientist",
         "Research & Development",
         "2144",
         702
        ],
        [
         "1609",
         "Research Scientist",
         "Research & Development",
         "2141",
         703
        ],
        [
         "1937",
         "Research Scientist",
         "Research & Development",
         "2133",
         704
        ],
        [
         "1004",
         "Research Scientist",
         "Research & Development",
         "2132",
         705
        ],
        [
         "1546",
         "Research Scientist",
         "Research & Development",
         "2132",
         705
        ],
        [
         "643",
         "Laboratory Technician",
         "Research & Development",
         "2127",
         707
        ],
        [
         "1448",
         "Research Scientist",
         "Research & Development",
         "2127",
         707
        ],
        [
         "454",
         "Laboratory Technician",
         "Research & Development",
         "2119",
         709
        ],
        [
         "391",
         "Research Scientist",
         "Research & Development",
         "2115",
         710
        ],
        [
         "1762",
         "Research Scientist",
         "Research & Development",
         "2109",
         711
        ],
        [
         "1210",
         "Research Scientist",
         "Research & Development",
         "2107",
         712
        ],
        [
         "1856",
         "Laboratory Technician",
         "Research & Development",
         "2105",
         713
        ],
        [
         "1434",
         "Laboratory Technician",
         "Research & Development",
         "2099",
         714
        ],
        [
         "562",
         "Laboratory Technician",
         "Research & Development",
         "2097",
         715
        ],
        [
         "1303",
         "Research Scientist",
         "Research & Development",
         "2096",
         716
        ],
        [
         "591",
         "Laboratory Technician",
         "Research & Development",
         "2093",
         717
        ],
        [
         "4",
         "Laboratory Technician",
         "Research & Development",
         "2090",
         718
        ],
        [
         "262",
         "Research Scientist",
         "Research & Development",
         "2089",
         719
        ],
        [
         "238",
         "Laboratory Technician",
         "Research & Development",
         "2088",
         720
        ],
        [
         "680",
         "Research Scientist",
         "Research & Development",
         "2083",
         721
        ],
        [
         "1301",
         "Research Scientist",
         "Research & Development",
         "2080",
         722
        ],
        [
         "116",
         "Laboratory Technician",
         "Research & Development",
         "2075",
         723
        ],
        [
         "1569",
         "Laboratory Technician",
         "Research & Development",
         "2074",
         724
        ],
        [
         "1592",
         "Research Scientist",
         "Research & Development",
         "2073",
         725
        ],
        [
         "377",
         "Research Scientist",
         "Research & Development",
         "2070",
         726
        ],
        [
         "1131",
         "Research Scientist",
         "Research & Development",
         "2070",
         726
        ],
        [
         "1441",
         "Research Scientist",
         "Research & Development",
         "2066",
         728
        ],
        [
         "1883",
         "Laboratory Technician",
         "Research & Development",
         "2062",
         729
        ],
        [
         "1581",
         "Research Scientist",
         "Research & Development",
         "2061",
         730
        ],
        [
         "300",
         "Research Scientist",
         "Research & Development",
         "2058",
         731
        ],
        [
         "700",
         "Research Scientist",
         "Research & Development",
         "2045",
         732
        ],
        [
         "1799",
         "Research Scientist",
         "Research & Development",
         "2044",
         733
        ],
        [
         "132",
         "Laboratory Technician",
         "Research & Development",
         "2042",
         734
        ],
        [
         "1053",
         "Research Scientist",
         "Research & Development",
         "2042",
         734
        ],
        [
         "1374",
         "Research Scientist",
         "Research & Development",
         "2029",
         736
        ],
        [
         "19",
         "Laboratory Technician",
         "Research & Development",
         "2028",
         737
        ],
        [
         "1698",
         "Laboratory Technician",
         "Research & Development",
         "2028",
         737
        ],
        [
         "218",
         "Research Scientist",
         "Research & Development",
         "2024",
         739
        ],
        [
         "881",
         "Research Scientist",
         "Research & Development",
         "2022",
         740
        ],
        [
         "1534",
         "Laboratory Technician",
         "Research & Development",
         "2018",
         741
        ],
        [
         "1659",
         "Laboratory Technician",
         "Research & Development",
         "2013",
         742
        ],
        [
         "1246",
         "Research Scientist",
         "Research & Development",
         "2011",
         743
        ],
        [
         "934",
         "Laboratory Technician",
         "Research & Development",
         "2008",
         744
        ],
        [
         "1994",
         "Laboratory Technician",
         "Research & Development",
         "2008",
         744
        ],
        [
         "1068",
         "Research Scientist",
         "Research & Development",
         "2007",
         746
        ],
        [
         "2051",
         "Research Scientist",
         "Research & Development",
         "2001",
         747
        ],
        [
         "259",
         "Manager",
         "Research & Development",
         "19999",
         748
        ],
        [
         "1035",
         "Research Director",
         "Research & Development",
         "19973",
         749
        ],
        [
         "1191",
         "Manager",
         "Research & Development",
         "19943",
         750
        ],
        [
         "226",
         "Manager",
         "Research & Development",
         "19926",
         751
        ],
        [
         "787",
         "Manager",
         "Research & Development",
         "19859",
         752
        ],
        [
         "1255",
         "Research Director",
         "Research & Development",
         "19740",
         753
        ],
        [
         "1423",
         "Research Director",
         "Research & Development",
         "19701",
         754
        ],
        [
         "1867",
         "Research Director",
         "Research & Development",
         "19665",
         755
        ],
        [
         "1069",
         "Research Director",
         "Research & Development",
         "19627",
         756
        ],
        [
         "1128",
         "Research Director",
         "Research & Development",
         "19626",
         757
        ],
        [
         "1595",
         "Manager",
         "Research & Development",
         "19613",
         758
        ],
        [
         "549",
         "Manager",
         "Research & Development",
         "19566",
         759
        ],
        [
         "58",
         "Research Director",
         "Research & Development",
         "19545",
         760
        ],
        [
         "162",
         "Research Director",
         "Research & Development",
         "19537",
         761
        ],
        [
         "671",
         "Manager",
         "Research & Development",
         "19513",
         762
        ],
        [
         "53",
         "Laboratory Technician",
         "Research & Development",
         "1951",
         763
        ],
        [
         "638",
         "Research Director",
         "Research & Development",
         "19502",
         764
        ],
        [
         "352",
         "Research Director",
         "Research & Development",
         "19436",
         765
        ],
        [
         "2022",
         "Manager",
         "Research & Development",
         "19431",
         766
        ],
        [
         "999",
         "Research Director",
         "Research & Development",
         "19419",
         767
        ],
        [
         "522",
         "Research Director",
         "Research & Development",
         "19406",
         768
        ],
        [
         "1866",
         "Manager",
         "Research & Development",
         "19392",
         769
        ],
        [
         "1789",
         "Research Director",
         "Research & Development",
         "19328",
         770
        ],
        [
         "444",
         "Manager",
         "Research & Development",
         "19272",
         771
        ],
        [
         "825",
         "Research Director",
         "Research & Development",
         "19246",
         772
        ],
        [
         "1061",
         "Research Director",
         "Research & Development",
         "19237",
         773
        ],
        [
         "319",
         "Manager",
         "Research & Development",
         "19232",
         774
        ],
        [
         "336",
         "Manager",
         "Research & Development",
         "19202",
         775
        ],
        [
         "531",
         "Manager",
         "Research & Development",
         "19197",
         776
        ],
        [
         "1288",
         "Manager",
         "Research & Development",
         "19190",
         777
        ],
        [
         "1336",
         "Manager",
         "Research & Development",
         "19187",
         778
        ],
        [
         "1941",
         "Research Director",
         "Research & Development",
         "19161",
         779
        ],
        [
         "385",
         "Research Director",
         "Research & Development",
         "19144",
         780
        ],
        [
         "32",
         "Manager",
         "Research & Development",
         "19094",
         781
        ],
        [
         "1217",
         "Research Director",
         "Research & Development",
         "19081",
         782
        ],
        [
         "1608",
         "Research Director",
         "Research & Development",
         "19049",
         783
        ],
        [
         "374",
         "Manager",
         "Research & Development",
         "19045",
         784
        ],
        [
         "1156",
         "Laboratory Technician",
         "Research & Development",
         "1904",
         785
        ],
        [
         "1770",
         "Research Director",
         "Research & Development",
         "19038",
         786
        ],
        [
         "253",
         "Manager",
         "Research & Development",
         "19033",
         787
        ],
        [
         "2031",
         "Manager",
         "Research & Development",
         "18880",
         788
        ],
        [
         "80",
         "Research Director",
         "Research & Development",
         "18740",
         789
        ],
        [
         "254",
         "Research Director",
         "Research & Development",
         "18722",
         790
        ],
        [
         "1256",
         "Manager",
         "Research & Development",
         "18711",
         791
        ],
        [
         "396",
         "Research Director",
         "Research & Development",
         "18665",
         792
        ],
        [
         "1201",
         "Manager",
         "Research & Development",
         "18606",
         793
        ],
        [
         "1248",
         "Research Scientist",
         "Research & Development",
         "1859",
         794
        ],
        [
         "809",
         "Manager",
         "Research & Development",
         "18430",
         795
        ],
        [
         "447",
         "Research Director",
         "Research & Development",
         "18300",
         796
        ],
        [
         "1263",
         "Research Director",
         "Research & Development",
         "18265",
         797
        ],
        [
         "141",
         "Research Director",
         "Research & Development",
         "18172",
         798
        ],
        [
         "1306",
         "Manager",
         "Research & Development",
         "18061",
         799
        ],
        [
         "905",
         "Manager",
         "Research & Development",
         "17924",
         800
        ],
        [
         "575",
         "Research Director",
         "Research & Development",
         "17861",
         801
        ],
        [
         "1334",
         "Manager",
         "Research & Development",
         "17861",
         801
        ],
        [
         "1215",
         "Manager",
         "Research & Development",
         "17856",
         803
        ],
        [
         "1250",
         "Research Director",
         "Research & Development",
         "17779",
         804
        ],
        [
         "1109",
         "Manager",
         "Research & Development",
         "17665",
         805
        ],
        [
         "815",
         "Research Director",
         "Research & Development",
         "17639",
         806
        ],
        [
         "1666",
         "Research Director",
         "Research & Development",
         "17603",
         807
        ],
        [
         "386",
         "Research Director",
         "Research & Development",
         "17584",
         808
        ],
        [
         "1665",
         "Manager",
         "Research & Development",
         "17426",
         809
        ],
        [
         "997",
         "Research Director",
         "Research & Development",
         "17399",
         810
        ],
        [
         "1422",
         "Research Director",
         "Research & Development",
         "17328",
         811
        ],
        [
         "199",
         "Manager",
         "Research & Development",
         "17181",
         812
        ],
        [
         "1900",
         "Manager",
         "Research & Development",
         "17174",
         813
        ],
        [
         "1443",
         "Research Director",
         "Research & Development",
         "17169",
         814
        ],
        [
         "843",
         "Research Director",
         "Research & Development",
         "17159",
         815
        ],
        [
         "1307",
         "Manager",
         "Research & Development",
         "17123",
         816
        ],
        [
         "976",
         "Manager",
         "Research & Development",
         "17099",
         817
        ],
        [
         "429",
         "Manager",
         "Research & Development",
         "17068",
         818
        ],
        [
         "850",
         "Research Scientist",
         "Research & Development",
         "1706",
         819
        ],
        [
         "569",
         "Manager",
         "Research & Development",
         "17046",
         820
        ],
        [
         "556",
         "Laboratory Technician",
         "Research & Development",
         "1702",
         821
        ],
        [
         "1485",
         "Research Director",
         "Research & Development",
         "17007",
         822
        ],
        [
         "1116",
         "Manager",
         "Research & Development",
         "16885",
         823
        ],
        [
         "1317",
         "Research Director",
         "Research & Development",
         "16880",
         824
        ],
        [
         "1892",
         "Manager",
         "Research & Development",
         "16823",
         825
        ],
        [
         "264",
         "Manager",
         "Research & Development",
         "16792",
         826
        ],
        [
         "1074",
         "Manager",
         "Research & Development",
         "16756",
         827
        ],
        [
         "820",
         "Manager",
         "Research & Development",
         "16752",
         828
        ],
        [
         "1719",
         "Research Director",
         "Research & Development",
         "16704",
         829
        ],
        [
         "505",
         "Manager",
         "Research & Development",
         "16659",
         830
        ],
        [
         "661",
         "Research Director",
         "Research & Development",
         "16627",
         831
        ],
        [
         "1472",
         "Research Director",
         "Research & Development",
         "16598",
         832
        ],
        [
         "546",
         "Manager",
         "Research & Development",
         "16555",
         833
        ],
        [
         "1430",
         "Research Director",
         "Research & Development",
         "16422",
         834
        ],
        [
         "1655",
         "Research Director",
         "Research & Development",
         "16413",
         835
        ],
        [
         "1523",
         "Research Director",
         "Research & Development",
         "16328",
         836
        ],
        [
         "612",
         "Research Director",
         "Research & Development",
         "16184",
         837
        ],
        [
         "1264",
         "Research Director",
         "Research & Development",
         "16124",
         838
        ],
        [
         "1368",
         "Laboratory Technician",
         "Research & Development",
         "1611",
         839
        ],
        [
         "1520",
         "Manager",
         "Research & Development",
         "16032",
         840
        ],
        [
         "811",
         "Laboratory Technician",
         "Research & Development",
         "1601",
         841
        ],
        [
         "468",
         "Research Director",
         "Research & Development",
         "15992",
         842
        ],
        [
         "1837",
         "Research Director",
         "Research & Development",
         "15787",
         843
        ],
        [
         "1506",
         "Research Scientist",
         "Research & Development",
         "1563",
         844
        ],
        [
         "664",
         "Manager",
         "Research & Development",
         "15402",
         845
        ],
        [
         "1677",
         "Manager",
         "Research & Development",
         "15379",
         846
        ],
        [
         "1644",
         "Manager",
         "Research & Development",
         "15202",
         847
        ],
        [
         "1839",
         "Research Scientist",
         "Research & Development",
         "1514",
         848
        ],
        [
         "201",
         "Laboratory Technician",
         "Research & Development",
         "1483",
         849
        ],
        [
         "730",
         "Research Director",
         "Research & Development",
         "14814",
         850
        ],
        [
         "84",
         "Manager",
         "Research & Development",
         "14756",
         851
        ],
        [
         "1424",
         "Research Director",
         "Research & Development",
         "14732",
         852
        ],
        [
         "1539",
         "Research Director",
         "Research & Development",
         "14411",
         853
        ],
        [
         "520",
         "Research Director",
         "Research & Development",
         "14336",
         854
        ],
        [
         "901",
         "Research Director",
         "Research & Development",
         "14275",
         855
        ],
        [
         "405",
         "Laboratory Technician",
         "Research & Development",
         "1420",
         856
        ],
        [
         "1079",
         "Laboratory Technician",
         "Research & Development",
         "1416",
         857
        ],
        [
         "1005",
         "Manufacturing Director",
         "Research & Development",
         "13973",
         858
        ],
        [
         "1661",
         "Healthcare Representative",
         "Research & Development",
         "13966",
         859
        ],
        [
         "431",
         "Healthcare Representative",
         "Research & Development",
         "13964",
         860
        ],
        [
         "1692",
         "Laboratory Technician",
         "Research & Development",
         "1393",
         861
        ],
        [
         "867",
         "Manufacturing Director",
         "Research & Development",
         "13826",
         862
        ],
        [
         "1468",
         "Research Director",
         "Research & Development",
         "13757",
         863
        ],
        [
         "2017",
         "Research Director",
         "Research & Development",
         "13744",
         864
        ],
        [
         "258",
         "Healthcare Representative",
         "Research & Development",
         "13734",
         865
        ],
        [
         "1032",
         "Manufacturing Director",
         "Research & Development",
         "13726",
         866
        ],
        [
         "337",
         "Research Director",
         "Research & Development",
         "13675",
         867
        ],
        [
         "102",
         "Research Director",
         "Research & Development",
         "13664",
         868
        ],
        [
         "582",
         "Manager",
         "Research & Development",
         "13610",
         869
        ],
        [
         "380",
         "Research Director",
         "Research & Development",
         "13603",
         870
        ],
        [
         "950",
         "Research Director",
         "Research & Development",
         "13582",
         871
        ],
        [
         "1278",
         "Healthcare Representative",
         "Research & Development",
         "13577",
         872
        ],
        [
         "2034",
         "Manufacturing Director",
         "Research & Development",
         "13570",
         873
        ],
        [
         "126",
         "Research Director",
         "Research & Development",
         "13549",
         874
        ],
        [
         "119",
         "Healthcare Representative",
         "Research & Development",
         "13503",
         875
        ],
        [
         "1166",
         "Research Director",
         "Research & Development",
         "13499",
         876
        ],
        [
         "372",
         "Healthcare Representative",
         "Research & Development",
         "13496",
         877
        ],
        [
         "1800",
         "Research Director",
         "Research & Development",
         "13464",
         878
        ],
        [
         "73",
         "Research Director",
         "Research & Development",
         "13458",
         879
        ],
        [
         "1373",
         "Manufacturing Director",
         "Research & Development",
         "13402",
         880
        ],
        [
         "1911",
         "Research Director",
         "Research & Development",
         "13348",
         881
        ],
        [
         "1656",
         "Research Director",
         "Research & Development",
         "13269",
         882
        ],
        [
         "1401",
         "Manufacturing Director",
         "Research & Development",
         "13247",
         883
        ],
        [
         "101",
         "Research Director",
         "Research & Development",
         "13245",
         884
        ],
        [
         "601",
         "Manufacturing Director",
         "Research & Development",
         "13237",
         885
        ],
        [
         "2015",
         "Research Director",
         "Research & Development",
         "13206",
         886
        ],
        [
         "1242",
         "Research Director",
         "Research & Development",
         "13191",
         887
        ],
        [
         "1367",
         "Manufacturing Director",
         "Research & Development",
         "13142",
         888
        ],
        [
         "1786",
         "Manager",
         "Research & Development",
         "13116",
         889
        ],
        [
         "1775",
         "Manufacturing Director",
         "Research & Development",
         "12965",
         890
        ],
        [
         "704",
         "Laboratory Technician",
         "Research & Development",
         "1281",
         891
        ],
        [
         "844",
         "Research Director",
         "Research & Development",
         "12808",
         892
        ],
        [
         "1026",
         "Manufacturing Director",
         "Research & Development",
         "12742",
         893
        ],
        [
         "1482",
         "Research Scientist",
         "Research & Development",
         "1274",
         894
        ],
        [
         "1433",
         "Research Scientist",
         "Research & Development",
         "1261",
         895
        ],
        [
         "296",
         "Research Director",
         "Research & Development",
         "12490",
         896
        ],
        [
         "30",
         "Research Scientist",
         "Research & Development",
         "1232",
         897
        ],
        [
         "1270",
         "Research Scientist",
         "Research & Development",
         "1223",
         898
        ],
        [
         "306",
         "Research Director",
         "Research & Development",
         "12185",
         899
        ],
        [
         "1127",
         "Healthcare Representative",
         "Research & Development",
         "12169",
         900
        ],
        [
         "421",
         "Research Director",
         "Research & Development",
         "12061",
         901
        ],
        [
         "381",
         "Manager",
         "Research & Development",
         "11996",
         902
        ],
        [
         "28",
         "Research Director",
         "Research & Development",
         "11994",
         903
        ],
        [
         "2000",
         "Research Director",
         "Research & Development",
         "11957",
         904
        ],
        [
         "564",
         "Research Director",
         "Research & Development",
         "11935",
         905
        ],
        [
         "1321",
         "Manager",
         "Research & Development",
         "11916",
         906
        ],
        [
         "428",
         "Manager",
         "Research & Development",
         "11878",
         907
        ],
        [
         "376",
         "Manager",
         "Research & Development",
         "11849",
         908
        ],
        [
         "742",
         "Research Director",
         "Research & Development",
         "11713",
         909
        ],
        [
         "817",
         "Research Director",
         "Research & Development",
         "11691",
         910
        ],
        [
         "153",
         "Manager",
         "Research & Development",
         "11631",
         911
        ],
        [
         "461",
         "Research Director",
         "Research & Development",
         "11510",
         912
        ],
        [
         "1015",
         "Research Director",
         "Research & Development",
         "11416",
         913
        ],
        [
         "1974",
         "Laboratory Technician",
         "Research & Development",
         "1129",
         914
        ],
        [
         "1606",
         "Healthcare Representative",
         "Research & Development",
         "11245",
         915
        ],
        [
         "1516",
         "Manager",
         "Research & Development",
         "11244",
         916
        ],
        [
         "727",
         "Research Director",
         "Research & Development",
         "11159",
         917
        ],
        [
         "762",
         "Healthcare Representative",
         "Research & Development",
         "11103",
         918
        ],
        [
         "1979",
         "Research Director",
         "Research & Development",
         "11031",
         919
        ],
        [
         "243",
         "Laboratory Technician",
         "Research & Development",
         "1102",
         920
        ],
        [
         "1024",
         "Healthcare Representative",
         "Research & Development",
         "10999",
         921
        ],
        [
         "1096",
         "Manufacturing Director",
         "Research & Development",
         "10976",
         922
        ],
        [
         "499",
         "Healthcare Representative",
         "Research & Development",
         "10965",
         923
        ],
        [
         "343",
         "Healthcare Representative",
         "Research & Development",
         "10938",
         924
        ],
        [
         "1397",
         "Healthcare Representative",
         "Research & Development",
         "10920",
         925
        ],
        [
         "899",
         "Manufacturing Director",
         "Research & Development",
         "10903",
         926
        ],
        [
         "1697",
         "Healthcare Representative",
         "Research & Development",
         "10883",
         927
        ],
        [
         "1043",
         "Manufacturing Director",
         "Research & Development",
         "10880",
         928
        ],
        [
         "1460",
         "Healthcare Representative",
         "Research & Development",
         "10851",
         929
        ],
        [
         "1007",
         "Manufacturing Director",
         "Research & Development",
         "10845",
         930
        ],
        [
         "1126",
         "Manufacturing Director",
         "Research & Development",
         "10820",
         931
        ],
        [
         "1712",
         "Healthcare Representative",
         "Research & Development",
         "10748",
         932
        ],
        [
         "1013",
         "Manufacturing Director",
         "Research & Development",
         "10739",
         933
        ],
        [
         "880",
         "Manufacturing Director",
         "Research & Development",
         "10685",
         934
        ],
        [
         "124",
         "Healthcare Representative",
         "Research & Development",
         "10673",
         935
        ],
        [
         "179",
         "Manufacturing Director",
         "Research & Development",
         "10650",
         936
        ],
        [
         "581",
         "Manufacturing Director",
         "Research & Development",
         "10648",
         937
        ],
        [
         "940",
         "Healthcare Representative",
         "Research & Development",
         "10552",
         938
        ],
        [
         "624",
         "Healthcare Representative",
         "Research & Development",
         "10527",
         939
        ],
        [
         "1283",
         "Manufacturing Director",
         "Research & Development",
         "10512",
         940
        ],
        [
         "1012",
         "Research Scientist",
         "Research & Development",
         "1051",
         941
        ],
        [
         "1245",
         "Manufacturing Director",
         "Research & Development",
         "10502",
         942
        ],
        [
         "491",
         "Healthcare Representative",
         "Research & Development",
         "10496",
         943
        ],
        [
         "1484",
         "Healthcare Representative",
         "Research & Development",
         "10466",
         944
        ],
        [
         "1118",
         "Healthcare Representative",
         "Research & Development",
         "10445",
         945
        ],
        [
         "1628",
         "Manufacturing Director",
         "Research & Development",
         "10435",
         946
        ],
        [
         "1014",
         "Healthcare Representative",
         "Research & Development",
         "10388",
         947
        ],
        [
         "1827",
         "Manufacturing Director",
         "Research & Development",
         "10333",
         948
        ],
        [
         "1092",
         "Healthcare Representative",
         "Research & Development",
         "10322",
         949
        ],
        [
         "165",
         "Healthcare Representative",
         "Research & Development",
         "10312",
         950
        ],
        [
         "1182",
         "Manufacturing Director",
         "Research & Development",
         "10274",
         951
        ],
        [
         "1237",
         "Manufacturing Director",
         "Research & Development",
         "10252",
         952
        ],
        [
         "36",
         "Healthcare Representative",
         "Research & Development",
         "10248",
         953
        ],
        [
         "845",
         "Manufacturing Director",
         "Research & Development",
         "10221",
         954
        ],
        [
         "1496",
         "Manufacturing Director",
         "Research & Development",
         "10209",
         955
        ],
        [
         "1572",
         "Manufacturing Director",
         "Research & Development",
         "10169",
         956
        ],
        [
         "1547",
         "Healthcare Representative",
         "Research & Development",
         "10124",
         957
        ],
        [
         "83",
         "Healthcare Representative",
         "Research & Development",
         "10096",
         958
        ],
        [
         "701",
         "Research Scientist",
         "Research & Development",
         "1009",
         959
        ],
        [
         "342",
         "Manufacturing Director",
         "Research & Development",
         "10048",
         960
        ],
        [
         "1360",
         "Manufacturing Director",
         "Research & Development",
         "10008",
         961
        ],
        [
         "1395",
         "Sales Executive",
         "Sales",
         "9998",
         1
        ],
        [
         "293",
         "Sales Executive",
         "Sales",
         "9981",
         2
        ],
        [
         "592",
         "Sales Executive",
         "Sales",
         "9980",
         3
        ],
        [
         "1582",
         "Sales Executive",
         "Sales",
         "9924",
         4
        ],
        [
         "1862",
         "Sales Executive",
         "Sales",
         "9907",
         5
        ],
        [
         "1950",
         "Sales Executive",
         "Sales",
         "9888",
         6
        ],
        [
         "1933",
         "Sales Executive",
         "Sales",
         "9854",
         7
        ],
        [
         "1324",
         "Sales Executive",
         "Sales",
         "9852",
         8
        ],
        [
         "154",
         "Sales Executive",
         "Sales",
         "9738",
         9
        ],
        [
         "1047",
         "Sales Executive",
         "Sales",
         "9725",
         10
        ],
        [
         "1562",
         "Sales Executive",
         "Sales",
         "9714",
         11
        ],
        [
         "1882",
         "Sales Executive",
         "Sales",
         "9713",
         12
        ],
        [
         "954",
         "Sales Executive",
         "Sales",
         "9705",
         13
        ],
        [
         "481",
         "Sales Executive",
         "Sales",
         "9699",
         14
        ],
        [
         "1833",
         "Sales Executive",
         "Sales",
         "9637",
         15
        ],
        [
         "118",
         "Sales Executive",
         "Sales",
         "9619",
         16
        ],
        [
         "1739",
         "Sales Executive",
         "Sales",
         "9610",
         17
        ],
        [
         "656",
         "Sales Executive",
         "Sales",
         "9602",
         18
        ],
        [
         "1100",
         "Sales Executive",
         "Sales",
         "9582",
         19
        ],
        [
         "1700",
         "Sales Executive",
         "Sales",
         "9525",
         20
        ],
        [
         "228",
         "Sales Executive",
         "Sales",
         "9419",
         21
        ],
        [
         "488",
         "Sales Executive",
         "Sales",
         "9355",
         22
        ],
        [
         "1425",
         "Sales Executive",
         "Sales",
         "9278",
         23
        ],
        [
         "1568",
         "Sales Executive",
         "Sales",
         "9250",
         24
        ],
        [
         "1708",
         "Sales Executive",
         "Sales",
         "9241",
         25
        ],
        [
         "174",
         "Sales Executive",
         "Sales",
         "9208",
         26
        ],
        [
         "1446",
         "Sales Executive",
         "Sales",
         "9204",
         27
        ],
        [
         "1318",
         "Sales Executive",
         "Sales",
         "9094",
         28
        ],
        [
         "580",
         "Sales Executive",
         "Sales",
         "9071",
         29
        ],
        [
         "74",
         "Sales Executive",
         "Sales",
         "9069",
         30
        ],
        [
         "207",
         "Sales Executive",
         "Sales",
         "8998",
         31
        ],
        [
         "1218",
         "Sales Executive",
         "Sales",
         "8966",
         32
        ],
        [
         "2037",
         "Sales Executive",
         "Sales",
         "8938",
         33
        ],
        [
         "302",
         "Sales Executive",
         "Sales",
         "8865",
         34
        ],
        [
         "626",
         "Sales Executive",
         "Sales",
         "8834",
         35
        ],
        [
         "314",
         "Sales Executive",
         "Sales",
         "8789",
         36
        ],
        [
         "1119",
         "Sales Executive",
         "Sales",
         "8740",
         37
        ],
        [
         "56",
         "Sales Executive",
         "Sales",
         "8726",
         38
        ],
        [
         "230",
         "Sales Executive",
         "Sales",
         "8686",
         39
        ],
        [
         "183",
         "Sales Executive",
         "Sales",
         "8639",
         40
        ],
        [
         "1951",
         "Sales Executive",
         "Sales",
         "8628",
         41
        ],
        [
         "1497",
         "Sales Executive",
         "Sales",
         "8620",
         42
        ],
        [
         "1758",
         "Sales Executive",
         "Sales",
         "8564",
         43
        ],
        [
         "1469",
         "Sales Executive",
         "Sales",
         "8463",
         44
        ],
        [
         "1319",
         "Sales Executive",
         "Sales",
         "8446",
         45
        ],
        [
         "567",
         "Sales Executive",
         "Sales",
         "8412",
         46
        ],
        [
         "1066",
         "Sales Executive",
         "Sales",
         "8396",
         47
        ],
        [
         "534",
         "Sales Executive",
         "Sales",
         "8392",
         48
        ],
        [
         "682",
         "Sales Executive",
         "Sales",
         "8381",
         49
        ],
        [
         "1268",
         "Sales Executive",
         "Sales",
         "8380",
         50
        ],
        [
         "1749",
         "Sales Executive",
         "Sales",
         "8346",
         51
        ],
        [
         "463",
         "Sales Executive",
         "Sales",
         "8268",
         52
        ],
        [
         "1588",
         "Sales Executive",
         "Sales",
         "8237",
         53
        ],
        [
         "1157",
         "Sales Executive",
         "Sales",
         "8224",
         54
        ],
        [
         "176",
         "Sales Executive",
         "Sales",
         "8189",
         55
        ],
        [
         "1761",
         "Sales Executive",
         "Sales",
         "8161",
         56
        ],
        [
         "712",
         "Sales Executive",
         "Sales",
         "8120",
         57
        ],
        [
         "1915",
         "Sales Executive",
         "Sales",
         "8103",
         58
        ],
        [
         "406",
         "Sales Executive",
         "Sales",
         "8020",
         59
        ],
        [
         "1801",
         "Sales Executive",
         "Sales",
         "7991",
         60
        ],
        [
         "312",
         "Sales Executive",
         "Sales",
         "7918",
         61
        ],
        [
         "985",
         "Sales Executive",
         "Sales",
         "7880",
         62
        ],
        [
         "1706",
         "Sales Executive",
         "Sales",
         "7847",
         63
        ],
        [
         "984",
         "Sales Executive",
         "Sales",
         "7823",
         64
        ],
        [
         "840",
         "Sales Executive",
         "Sales",
         "7654",
         65
        ],
        [
         "2024",
         "Sales Executive",
         "Sales",
         "7644",
         66
        ],
        [
         "904",
         "Sales Executive",
         "Sales",
         "7642",
         67
        ],
        [
         "283",
         "Sales Executive",
         "Sales",
         "7639",
         68
        ],
        [
         "81",
         "Sales Executive",
         "Sales",
         "7637",
         69
        ],
        [
         "513",
         "Sales Executive",
         "Sales",
         "7596",
         70
        ],
        [
         "789",
         "Sales Executive",
         "Sales",
         "7587",
         71
        ],
        [
         "438",
         "Sales Executive",
         "Sales",
         "7547",
         72
        ],
        [
         "1050",
         "Sales Executive",
         "Sales",
         "7525",
         73
        ],
        [
         "453",
         "Sales Executive",
         "Sales",
         "7457",
         74
        ],
        [
         "152",
         "Sales Executive",
         "Sales",
         "7428",
         75
        ],
        [
         "1125",
         "Sales Executive",
         "Sales",
         "7351",
         76
        ],
        [
         "1165",
         "Sales Executive",
         "Sales",
         "7336",
         77
        ],
        [
         "1869",
         "Sales Executive",
         "Sales",
         "7314",
         78
        ],
        [
         "204",
         "Sales Executive",
         "Sales",
         "7295",
         79
        ],
        [
         "982",
         "Sales Executive",
         "Sales",
         "7264",
         80
        ],
        [
         "1754",
         "Sales Executive",
         "Sales",
         "7140",
         81
        ],
        [
         "677",
         "Sales Executive",
         "Sales",
         "7104",
         82
        ],
        [
         "1535",
         "Sales Executive",
         "Sales",
         "7083",
         83
        ],
        [
         "1678",
         "Sales Executive",
         "Sales",
         "7082",
         84
        ],
        [
         "947",
         "Sales Executive",
         "Sales",
         "6932",
         85
        ],
        [
         "349",
         "Sales Executive",
         "Sales",
         "6931",
         86
        ],
        [
         "416",
         "Sales Executive",
         "Sales",
         "6929",
         87
        ],
        [
         "1355",
         "Sales Executive",
         "Sales",
         "6893",
         88
        ],
        [
         "1036",
         "Sales Executive",
         "Sales",
         "6861",
         89
        ],
        [
         "1239",
         "Sales Executive",
         "Sales",
         "6852",
         90
        ],
        [
         "1927",
         "Sales Executive",
         "Sales",
         "6834",
         91
        ],
        [
         "35",
         "Sales Executive",
         "Sales",
         "6825",
         92
        ],
        [
         "1585",
         "Sales Executive",
         "Sales",
         "6815",
         93
        ],
        [
         "754",
         "Sales Executive",
         "Sales",
         "6804",
         94
        ],
        [
         "1823",
         "Sales Executive",
         "Sales",
         "6799",
         95
        ],
        [
         "723",
         "Sales Executive",
         "Sales",
         "6796",
         96
        ],
        [
         "1734",
         "Sales Executive",
         "Sales",
         "6735",
         97
        ],
        [
         "2044",
         "Sales Executive",
         "Sales",
         "6728",
         98
        ],
        [
         "2035",
         "Sales Executive",
         "Sales",
         "6712",
         99
        ],
        [
         "299",
         "Sales Executive",
         "Sales",
         "6696",
         100
        ],
        [
         "1105",
         "Sales Executive",
         "Sales",
         "6694",
         101
        ],
        [
         "479",
         "Sales Executive",
         "Sales",
         "6653",
         102
        ],
        [
         "2045",
         "Sales Executive",
         "Sales",
         "6652",
         103
        ],
        [
         "366",
         "Sales Executive",
         "Sales",
         "6644",
         104
        ],
        [
         "783",
         "Sales Representative",
         "Sales",
         "6632",
         105
        ],
        [
         "1912",
         "Sales Executive",
         "Sales",
         "6583",
         106
        ],
        [
         "604",
         "Sales Executive",
         "Sales",
         "6582",
         107
        ],
        [
         "1179",
         "Sales Executive",
         "Sales",
         "6578",
         108
        ],
        [
         "533",
         "Sales Executive",
         "Sales",
         "6577",
         109
        ],
        [
         "523",
         "Sales Executive",
         "Sales",
         "6538",
         110
        ],
        [
         "889",
         "Sales Executive",
         "Sales",
         "6524",
         111
        ],
        [
         "378",
         "Sales Executive",
         "Sales",
         "6502",
         112
        ],
        [
         "808",
         "Sales Executive",
         "Sales",
         "6500",
         113
        ],
        [
         "1898",
         "Sales Executive",
         "Sales",
         "6500",
         113
        ],
        [
         "1557",
         "Sales Executive",
         "Sales",
         "6439",
         115
        ],
        [
         "785",
         "Sales Executive",
         "Sales",
         "6397",
         116
        ],
        [
         "1560",
         "Sales Executive",
         "Sales",
         "6392",
         117
        ],
        [
         "492",
         "Sales Executive",
         "Sales",
         "6380",
         118
        ],
        [
         "449",
         "Sales Executive",
         "Sales",
         "6349",
         119
        ],
        [
         "1040",
         "Sales Executive",
         "Sales",
         "6347",
         120
        ],
        [
         "868",
         "Sales Executive",
         "Sales",
         "6334",
         121
        ],
        [
         "786",
         "Sales Executive",
         "Sales",
         "6274",
         122
        ],
        [
         "641",
         "Sales Executive",
         "Sales",
         "6272",
         123
        ],
        [
         "936",
         "Sales Executive",
         "Sales",
         "6244",
         124
        ],
        [
         "1399",
         "Sales Executive",
         "Sales",
         "6232",
         125
        ],
        [
         "599",
         "Sales Executive",
         "Sales",
         "6230",
         126
        ],
        [
         "458",
         "Sales Executive",
         "Sales",
         "6214",
         127
        ],
        [
         "1304",
         "Sales Executive",
         "Sales",
         "6209",
         128
        ],
        [
         "857",
         "Sales Executive",
         "Sales",
         "6201",
         129
        ],
        [
         "781",
         "Sales Executive",
         "Sales",
         "6180",
         130
        ],
        [
         "163",
         "Sales Executive",
         "Sales",
         "6172",
         131
        ],
        [
         "1329",
         "Sales Executive",
         "Sales",
         "6151",
         132
        ],
        [
         "160",
         "Sales Executive",
         "Sales",
         "6146",
         133
        ],
        [
         "1733",
         "Sales Executive",
         "Sales",
         "6134",
         134
        ],
        [
         "1356",
         "Sales Executive",
         "Sales",
         "6125",
         135
        ],
        [
         "1390",
         "Sales Executive",
         "Sales",
         "6120",
         136
        ],
        [
         "456",
         "Sales Executive",
         "Sales",
         "6118",
         137
        ],
        [
         "1779",
         "Sales Executive",
         "Sales",
         "6029",
         138
        ],
        [
         "1",
         "Sales Executive",
         "Sales",
         "5993",
         139
        ],
        [
         "303",
         "Sales Executive",
         "Sales",
         "5940",
         140
        ],
        [
         "182",
         "Sales Executive",
         "Sales",
         "5902",
         141
        ],
        [
         "1650",
         "Sales Executive",
         "Sales",
         "5869",
         142
        ],
        [
         "401",
         "Sales Executive",
         "Sales",
         "5828",
         143
        ],
        [
         "1797",
         "Sales Executive",
         "Sales",
         "5813",
         144
        ],
        [
         "62",
         "Sales Executive",
         "Sales",
         "5772",
         145
        ],
        [
         "1403",
         "Sales Executive",
         "Sales",
         "5769",
         146
        ],
        [
         "1487",
         "Sales Executive",
         "Sales",
         "5765",
         147
        ],
        [
         "142",
         "Sales Executive",
         "Sales",
         "5744",
         148
        ],
        [
         "1929",
         "Sales Executive",
         "Sales",
         "5736",
         149
        ],
        [
         "516",
         "Sales Executive",
         "Sales",
         "5715",
         150
        ],
        [
         "1163",
         "Sales Executive",
         "Sales",
         "5714",
         151
        ],
        [
         "1986",
         "Sales Executive",
         "Sales",
         "5677",
         152
        ],
        [
         "1849",
         "Sales Executive",
         "Sales",
         "5675",
         153
        ],
        [
         "1880",
         "Sales Executive",
         "Sales",
         "5673",
         154
        ],
        [
         "983",
         "Sales Executive",
         "Sales",
         "5666",
         155
        ],
        [
         "1436",
         "Sales Executive",
         "Sales",
         "5647",
         156
        ],
        [
         "1967",
         "Sales Executive",
         "Sales",
         "5617",
         157
        ],
        [
         "382",
         "Sales Executive",
         "Sales",
         "5605",
         158
        ],
        [
         "1117",
         "Sales Executive",
         "Sales",
         "5593",
         159
        ],
        [
         "690",
         "Sales Executive",
         "Sales",
         "5561",
         160
        ],
        [
         "1945",
         "Sales Executive",
         "Sales",
         "5561",
         160
        ],
        [
         "1908",
         "Sales Executive",
         "Sales",
         "5507",
         162
        ],
        [
         "1670",
         "Sales Executive",
         "Sales",
         "5505",
         163
        ],
        [
         "1924",
         "Sales Executive",
         "Sales",
         "5487",
         164
        ],
        [
         "1466",
         "Sales Executive",
         "Sales",
         "5486",
         165
        ],
        [
         "420",
         "Sales Executive",
         "Sales",
         "5484",
         166
        ],
        [
         "1673",
         "Sales Executive",
         "Sales",
         "5476",
         167
        ],
        [
         "91",
         "Sales Executive",
         "Sales",
         "5473",
         168
        ],
        [
         "1548",
         "Sales Executive",
         "Sales",
         "5473",
         168
        ],
        [
         "1784",
         "Sales Executive",
         "Sales",
         "5468",
         170
        ],
        [
         "653",
         "Sales Executive",
         "Sales",
         "5460",
         171
        ],
        [
         "68",
         "Sales Executive",
         "Sales",
         "5454",
         172
        ],
        [
         "120",
         "Sales Executive",
         "Sales",
         "5441",
         173
        ],
        [
         "1645",
         "Sales Executive",
         "Sales",
         "5440",
         174
        ],
        [
         "2036",
         "Sales Executive",
         "Sales",
         "5406",
         175
        ],
        [
         "732",
         "Sales Executive",
         "Sales",
         "5405",
         176
        ],
        [
         "1835",
         "Sales Representative",
         "Sales",
         "5405",
         176
        ],
        [
         "722",
         "Sales Executive",
         "Sales",
         "5396",
         178
        ],
        [
         "2065",
         "Sales Executive",
         "Sales",
         "5390",
         179
        ],
        [
         "1935",
         "Sales Executive",
         "Sales",
         "5380",
         180
        ],
        [
         "52",
         "Sales Executive",
         "Sales",
         "5376",
         181
        ],
        [
         "1681",
         "Sales Executive",
         "Sales",
         "5368",
         182
        ],
        [
         "1188",
         "Sales Executive",
         "Sales",
         "5346",
         183
        ],
        [
         "2041",
         "Sales Executive",
         "Sales",
         "5343",
         184
        ],
        [
         "621",
         "Sales Executive",
         "Sales",
         "5337",
         185
        ],
        [
         "1613",
         "Sales Executive",
         "Sales",
         "5332",
         186
        ],
        [
         "796",
         "Sales Executive",
         "Sales",
         "5326",
         187
        ],
        [
         "819",
         "Sales Executive",
         "Sales",
         "5324",
         188
        ],
        [
         "502",
         "Sales Executive",
         "Sales",
         "5304",
         189
        ],
        [
         "747",
         "Sales Executive",
         "Sales",
         "5304",
         189
        ],
        [
         "1479",
         "Sales Executive",
         "Sales",
         "5301",
         191
        ],
        [
         "476",
         "Sales Executive",
         "Sales",
         "5296",
         192
        ],
        [
         "498",
         "Sales Executive",
         "Sales",
         "5253",
         193
        ],
        [
         "361",
         "Sales Executive",
         "Sales",
         "5249",
         194
        ],
        [
         "445",
         "Sales Executive",
         "Sales",
         "5238",
         195
        ],
        [
         "436",
         "Sales Executive",
         "Sales",
         "5228",
         196
        ],
        [
         "1233",
         "Sales Executive",
         "Sales",
         "5220",
         197
        ],
        [
         "121",
         "Sales Executive",
         "Sales",
         "5209",
         198
        ],
        [
         "1962",
         "Sales Executive",
         "Sales",
         "5204",
         199
        ],
        [
         "1254",
         "Sales Executive",
         "Sales",
         "5171",
         200
        ],
        [
         "842",
         "Sales Executive",
         "Sales",
         "5160",
         201
        ],
        [
         "1171",
         "Sales Executive",
         "Sales",
         "5155",
         202
        ],
        [
         "1845",
         "Sales Executive",
         "Sales",
         "5154",
         203
        ],
        [
         "1756",
         "Sales Executive",
         "Sales",
         "5147",
         204
        ],
        [
         "1943",
         "Sales Executive",
         "Sales",
         "5087",
         205
        ],
        [
         "990",
         "Sales Executive",
         "Sales",
         "5079",
         206
        ],
        [
         "1371",
         "Sales Executive",
         "Sales",
         "5071",
         207
        ],
        [
         "125",
         "Sales Executive",
         "Sales",
         "5010",
         208
        ],
        [
         "240",
         "Sales Executive",
         "Sales",
         "5006",
         209
        ],
        [
         "128",
         "Sales Executive",
         "Sales",
         "4999",
         210
        ],
        [
         "1731",
         "Sales Executive",
         "Sales",
         "4978",
         211
        ],
        [
         "1037",
         "Sales Executive",
         "Sales",
         "4969",
         212
        ],
        [
         "1137",
         "Sales Executive",
         "Sales",
         "4968",
         213
        ],
        [
         "728",
         "Sales Executive",
         "Sales",
         "4960",
         214
        ],
        [
         "1240",
         "Sales Executive",
         "Sales",
         "4950",
         215
        ],
        [
         "500",
         "Sales Executive",
         "Sales",
         "4936",
         216
        ],
        [
         "916",
         "Sales Executive",
         "Sales",
         "4908",
         217
        ],
        [
         "387",
         "Sales Executive",
         "Sales",
         "4907",
         218
        ],
        [
         "2018",
         "Sales Executive",
         "Sales",
         "4907",
         218
        ],
        [
         "1507",
         "Sales Executive",
         "Sales",
         "4898",
         220
        ],
        [
         "620",
         "Sales Executive",
         "Sales",
         "4859",
         221
        ],
        [
         "707",
         "Sales Executive",
         "Sales",
         "4851",
         222
        ],
        [
         "2046",
         "Sales Executive",
         "Sales",
         "4850",
         223
        ],
        [
         "606",
         "Sales Executive",
         "Sales",
         "4805",
         224
        ],
        [
         "846",
         "Sales Executive",
         "Sales",
         "4779",
         225
        ],
        [
         "1428",
         "Sales Executive",
         "Sales",
         "4779",
         225
        ],
        [
         "1481",
         "Sales Executive",
         "Sales",
         "4768",
         227
        ],
        [
         "1478",
         "Sales Executive",
         "Sales",
         "4759",
         228
        ],
        [
         "475",
         "Sales Executive",
         "Sales",
         "4736",
         229
        ],
        [
         "1113",
         "Sales Executive",
         "Sales",
         "4728",
         230
        ],
        [
         "1387",
         "Sales Executive",
         "Sales",
         "4724",
         231
        ],
        [
         "600",
         "Sales Executive",
         "Sales",
         "4717",
         232
        ],
        [
         "631",
         "Sales Executive",
         "Sales",
         "4707",
         233
        ],
        [
         "1836",
         "Sales Executive",
         "Sales",
         "4684",
         234
        ],
        [
         "446",
         "Sales Executive",
         "Sales",
         "4682",
         235
        ],
        [
         "195",
         "Sales Executive",
         "Sales",
         "4668",
         236
        ],
        [
         "469",
         "Sales Executive",
         "Sales",
         "4649",
         237
        ],
        [
         "1853",
         "Sales Executive",
         "Sales",
         "4648",
         238
        ],
        [
         "714",
         "Sales Executive",
         "Sales",
         "4647",
         239
        ],
        [
         "1362",
         "Sales Executive",
         "Sales",
         "4639",
         240
        ],
        [
         "1598",
         "Sales Executive",
         "Sales",
         "4639",
         240
        ],
        [
         "1380",
         "Sales Executive",
         "Sales",
         "4614",
         242
        ],
        [
         "975",
         "Sales Executive",
         "Sales",
         "4601",
         243
        ],
        [
         "1489",
         "Sales Executive",
         "Sales",
         "4599",
         244
        ],
        [
         "1503",
         "Sales Executive",
         "Sales",
         "4591",
         245
        ],
        [
         "1667",
         "Sales Executive",
         "Sales",
         "4581",
         246
        ],
        [
         "720",
         "Sales Executive",
         "Sales",
         "4577",
         247
        ],
        [
         "60",
         "Sales Executive",
         "Sales",
         "4568",
         248
        ],
        [
         "175",
         "Sales Executive",
         "Sales",
         "4559",
         249
        ],
        [
         "388",
         "Sales Executive",
         "Sales",
         "4554",
         250
        ],
        [
         "1220",
         "Sales Executive",
         "Sales",
         "4539",
         251
        ],
        [
         "1281",
         "Sales Executive",
         "Sales",
         "4538",
         252
        ],
        [
         "903",
         "Sales Executive",
         "Sales",
         "4537",
         253
        ],
        [
         "1757",
         "Sales Executive",
         "Sales",
         "4507",
         254
        ],
        [
         "1710",
         "Sales Representative",
         "Sales",
         "4502",
         255
        ],
        [
         "527",
         "Sales Executive",
         "Sales",
         "4487",
         256
        ],
        [
         "437",
         "Sales Executive",
         "Sales",
         "4478",
         257
        ],
        [
         "333",
         "Sales Executive",
         "Sales",
         "4465",
         258
        ],
        [
         "1995",
         "Sales Executive",
         "Sales",
         "4440",
         259
        ],
        [
         "859",
         "Sales Executive",
         "Sales",
         "4403",
         260
        ],
        [
         "1439",
         "Sales Representative",
         "Sales",
         "4400",
         261
        ],
        [
         "1909",
         "Sales Executive",
         "Sales",
         "4393",
         262
        ],
        [
         "1612",
         "Sales Executive",
         "Sales",
         "4385",
         263
        ],
        [
         "1477",
         "Sales Executive",
         "Sales",
         "4373",
         264
        ],
        [
         "800",
         "Sales Executive",
         "Sales",
         "4342",
         265
        ],
        [
         "1212",
         "Sales Executive",
         "Sales",
         "4327",
         266
        ],
        [
         "100",
         "Sales Executive",
         "Sales",
         "4312",
         267
        ],
        [
         "618",
         "Sales Executive",
         "Sales",
         "4306",
         268
        ],
        [
         "1114",
         "Sales Executive",
         "Sales",
         "4302",
         269
        ],
        [
         "956",
         "Sales Executive",
         "Sales",
         "4294",
         270
        ],
        [
         "684",
         "Sales Executive",
         "Sales",
         "4286",
         271
        ],
        [
         "507",
         "Sales Executive",
         "Sales",
         "4260",
         272
        ],
        [
         "885",
         "Sales Executive",
         "Sales",
         "4256",
         273
        ],
        [
         "650",
         "Sales Executive",
         "Sales",
         "4233",
         274
        ],
        [
         "129",
         "Sales Executive",
         "Sales",
         "4221",
         275
        ],
        [
         "1583",
         "Sales Executive",
         "Sales",
         "4198",
         276
        ],
        [
         "879",
         "Sales Executive",
         "Sales",
         "4194",
         277
        ],
        [
         "1787",
         "Sales Executive",
         "Sales",
         "4189",
         278
        ],
        [
         "1669",
         "Sales Executive",
         "Sales",
         "4187",
         279
        ],
        [
         "1003",
         "Sales Executive",
         "Sales",
         "4163",
         280
        ],
        [
         "1445",
         "Sales Executive",
         "Sales",
         "4162",
         281
        ],
        [
         "72",
         "Sales Executive",
         "Sales",
         "4157",
         282
        ],
        [
         "1812",
         "Sales Executive",
         "Sales",
         "4127",
         283
        ],
        [
         "1211",
         "Sales Executive",
         "Sales",
         "4115",
         284
        ],
        [
         "1965",
         "Sales Executive",
         "Sales",
         "4105",
         285
        ],
        [
         "1349",
         "Sales Executive",
         "Sales",
         "4103",
         286
        ],
        [
         "1396",
         "Sales Executive",
         "Sales",
         "4078",
         287
        ],
        [
         "595",
         "Sales Executive",
         "Sales",
         "4051",
         288
        ],
        [
         "855",
         "Sales Executive",
         "Sales",
         "4037",
         289
        ],
        [
         "709",
         "Sales Executive",
         "Sales",
         "4028",
         290
        ],
        [
         "1774",
         "Sales Executive",
         "Sales",
         "4001",
         291
        ],
        [
         "330",
         "Sales Representative",
         "Sales",
         "3931",
         292
        ],
        [
         "738",
         "Sales Representative",
         "Sales",
         "3875",
         293
        ],
        [
         "1864",
         "Sales Representative",
         "Sales",
         "3540",
         294
        ],
        [
         "2019",
         "Sales Representative",
         "Sales",
         "3482",
         295
        ],
        [
         "669",
         "Sales Representative",
         "Sales",
         "3447",
         296
        ],
        [
         "27",
         "Sales Representative",
         "Sales",
         "3407",
         297
        ],
        [
         "925",
         "Sales Representative",
         "Sales",
         "3294",
         298
        ],
        [
         "554",
         "Sales Representative",
         "Sales",
         "3202",
         299
        ],
        [
         "248",
         "Sales Representative",
         "Sales",
         "3140",
         300
        ],
        [
         "1996",
         "Sales Representative",
         "Sales",
         "3067",
         301
        ],
        [
         "667",
         "Sales Representative",
         "Sales",
         "3041",
         302
        ],
        [
         "585",
         "Sales Representative",
         "Sales",
         "2983",
         303
        ],
        [
         "467",
         "Sales Representative",
         "Sales",
         "2976",
         304
        ],
        [
         "900",
         "Sales Representative",
         "Sales",
         "2973",
         305
        ],
        [
         "2060",
         "Sales Representative",
         "Sales",
         "2966",
         306
        ],
        [
         "1486",
         "Sales Representative",
         "Sales",
         "2909",
         307
        ],
        [
         "893",
         "Sales Representative",
         "Sales",
         "2899",
         308
        ],
        [
         "1961",
         "Sales Representative",
         "Sales",
         "2858",
         309
        ],
        [
         "1875",
         "Sales Representative",
         "Sales",
         "2856",
         310
        ],
        [
         "485",
         "Sales Representative",
         "Sales",
         "2851",
         311
        ],
        [
         "1190",
         "Sales Representative",
         "Sales",
         "2827",
         312
        ],
        [
         "896",
         "Sales Representative",
         "Sales",
         "2800",
         313
        ],
        [
         "311",
         "Sales Representative",
         "Sales",
         "2793",
         314
        ],
        [
         "1135",
         "Sales Representative",
         "Sales",
         "2791",
         315
        ],
        [
         "399",
         "Sales Representative",
         "Sales",
         "2789",
         316
        ],
        [
         "1379",
         "Sales Representative",
         "Sales",
         "2785",
         317
        ],
        [
         "1657",
         "Sales Representative",
         "Sales",
         "2783",
         318
        ],
        [
         "1752",
         "Sales Representative",
         "Sales",
         "2760",
         319
        ],
        [
         "1680",
         "Sales Representative",
         "Sales",
         "2728",
         320
        ],
        [
         "494",
         "Sales Representative",
         "Sales",
         "2716",
         321
        ],
        [
         "47",
         "Sales Representative",
         "Sales",
         "2683",
         322
        ],
        [
         "1780",
         "Sales Representative",
         "Sales",
         "2679",
         323
        ],
        [
         "1226",
         "Sales Representative",
         "Sales",
         "2678",
         324
        ],
        [
         "1691",
         "Sales Representative",
         "Sales",
         "2655",
         325
        ],
        [
         "1556",
         "Sales Representative",
         "Sales",
         "2644",
         326
        ],
        [
         "749",
         "Sales Representative",
         "Sales",
         "2642",
         327
        ],
        [
         "484",
         "Sales Representative",
         "Sales",
         "2610",
         328
        ],
        [
         "666",
         "Sales Representative",
         "Sales",
         "2579",
         329
        ],
        [
         "805",
         "Sales Representative",
         "Sales",
         "2572",
         330
        ],
        [
         "1364",
         "Sales Representative",
         "Sales",
         "2534",
         331
        ],
        [
         "508",
         "Sales Representative",
         "Sales",
         "2476",
         332
        ],
        [
         "1554",
         "Sales Representative",
         "Sales",
         "2430",
         333
        ],
        [
         "952",
         "Sales Representative",
         "Sales",
         "2413",
         334
        ],
        [
         "1492",
         "Sales Representative",
         "Sales",
         "2404",
         335
        ],
        [
         "632",
         "Sales Representative",
         "Sales",
         "2400",
         336
        ],
        [
         "2021",
         "Sales Representative",
         "Sales",
         "2380",
         337
        ],
        [
         "555",
         "Sales Representative",
         "Sales",
         "2351",
         338
        ],
        [
         "1044",
         "Sales Representative",
         "Sales",
         "2342",
         339
        ],
        [
         "941",
         "Sales Representative",
         "Sales",
         "2329",
         340
        ],
        [
         "235",
         "Sales Representative",
         "Sales",
         "2325",
         341
        ],
        [
         "1077",
         "Sales Representative",
         "Sales",
         "2323",
         342
        ],
        [
         "113",
         "Sales Representative",
         "Sales",
         "2322",
         343
        ],
        [
         "1541",
         "Sales Representative",
         "Sales",
         "2308",
         344
        ],
        [
         "205",
         "Sales Representative",
         "Sales",
         "2306",
         345
        ],
        [
         "1331",
         "Sales Representative",
         "Sales",
         "2302",
         346
        ],
        [
         "766",
         "Sales Representative",
         "Sales",
         "2297",
         347
        ],
        [
         "1702",
         "Sales Representative",
         "Sales",
         "2275",
         348
        ],
        [
         "2013",
         "Sales Representative",
         "Sales",
         "2269",
         349
        ],
        [
         "216",
         "Sales Representative",
         "Sales",
         "2231",
         350
        ],
        [
         "1055",
         "Sales Representative",
         "Sales",
         "2220",
         351
        ],
        [
         "478",
         "Sales Representative",
         "Sales",
         "2174",
         352
        ],
        [
         "974",
         "Sales Representative",
         "Sales",
         "2157",
         353
        ],
        [
         "959",
         "Sales Representative",
         "Sales",
         "2121",
         354
        ],
        [
         "645",
         "Sales Representative",
         "Sales",
         "2096",
         355
        ],
        [
         "42",
         "Sales Representative",
         "Sales",
         "2086",
         356
        ],
        [
         "922",
         "Sales Representative",
         "Sales",
         "2044",
         357
        ],
        [
         "648",
         "Sales Representative",
         "Sales",
         "2033",
         358
        ],
        [
         "1495",
         "Sales Representative",
         "Sales",
         "2033",
         358
        ],
        [
         "49",
         "Sales Representative",
         "Sales",
         "2014",
         360
        ],
        [
         "1282",
         "Manager",
         "Sales",
         "19847",
         361
        ],
        [
         "1038",
         "Manager",
         "Sales",
         "19845",
         362
        ],
        [
         "1740",
         "Manager",
         "Sales",
         "19833",
         363
        ],
        [
         "1578",
         "Manager",
         "Sales",
         "19586",
         364
        ],
        [
         "323",
         "Manager",
         "Sales",
         "19517",
         365
        ],
        [
         "1591",
         "Manager",
         "Sales",
         "19331",
         366
        ],
        [
         "329",
         "Manager",
         "Sales",
         "19068",
         367
        ],
        [
         "38",
         "Manager",
         "Sales",
         "18947",
         368
        ],
        [
         "1277",
         "Manager",
         "Sales",
         "18824",
         369
        ],
        [
         "1280",
         "Manager",
         "Sales",
         "18789",
         370
        ],
        [
         "614",
         "Sales Representative",
         "Sales",
         "1878",
         371
        ],
        [
         "1029",
         "Manager",
         "Sales",
         "18303",
         372
        ],
        [
         "1267",
         "Manager",
         "Sales",
         "18213",
         373
        ],
        [
         "558",
         "Manager",
         "Sales",
         "18041",
         374
        ],
        [
         "2023",
         "Sales Representative",
         "Sales",
         "1790",
         375
        ],
        [
         "1938",
         "Manager",
         "Sales",
         "17875",
         376
        ],
        [
         "1045",
         "Manager",
         "Sales",
         "17650",
         377
        ],
        [
         "1602",
         "Manager",
         "Sales",
         "17567",
         378
        ],
        [
         "1124",
         "Manager",
         "Sales",
         "17465",
         379
        ],
        [
         "992",
         "Manager",
         "Sales",
         "17444",
         380
        ],
        [
         "1204",
         "Manager",
         "Sales",
         "17048",
         381
        ],
        [
         "158",
         "Manager",
         "Sales",
         "16959",
         382
        ],
        [
         "363",
         "Manager",
         "Sales",
         "16872",
         383
        ],
        [
         "776",
         "Manager",
         "Sales",
         "16856",
         384
        ],
        [
         "597",
         "Manager",
         "Sales",
         "16835",
         385
        ],
        [
         "167",
         "Sales Representative",
         "Sales",
         "1675",
         386
        ],
        [
         "1527",
         "Manager",
         "Sales",
         "16606",
         387
        ],
        [
         "625",
         "Manager",
         "Sales",
         "16595",
         388
        ],
        [
         "851",
         "Manager",
         "Sales",
         "16307",
         389
        ],
        [
         "1824",
         "Manager",
         "Sales",
         "16291",
         390
        ],
        [
         "327",
         "Manager",
         "Sales",
         "16064",
         391
        ],
        [
         "410",
         "Manager",
         "Sales",
         "16015",
         392
        ],
        [
         "1676",
         "Manager",
         "Sales",
         "15972",
         393
        ],
        [
         "1624",
         "Sales Representative",
         "Sales",
         "1569",
         394
        ],
        [
         "23",
         "Manager",
         "Sales",
         "15427",
         395
        ],
        [
         "981",
         "Manager",
         "Sales",
         "14852",
         396
        ],
        [
         "568",
         "Manager",
         "Sales",
         "14118",
         397
        ],
        [
         "131",
         "Sales Executive",
         "Sales",
         "13872",
         398
        ],
        [
         "746",
         "Sales Executive",
         "Sales",
         "13770",
         399
        ],
        [
         "1167",
         "Sales Executive",
         "Sales",
         "13758",
         400
        ],
        [
         "1372",
         "Sales Executive",
         "Sales",
         "13695",
         401
        ],
        [
         "298",
         "Manager",
         "Sales",
         "13591",
         402
        ],
        [
         "1427",
         "Sales Representative",
         "Sales",
         "1359",
         403
        ],
        [
         "404",
         "Sales Executive",
         "Sales",
         "13525",
         404
        ],
        [
         "1975",
         "Sales Executive",
         "Sales",
         "13341",
         405
        ],
        [
         "1039",
         "Sales Executive",
         "Sales",
         "13320",
         406
        ],
        [
         "1863",
         "Sales Executive",
         "Sales",
         "13225",
         407
        ],
        [
         "532",
         "Sales Executive",
         "Sales",
         "13212",
         408
        ],
        [
         "986",
         "Sales Executive",
         "Sales",
         "13194",
         409
        ],
        [
         "1138",
         "Sales Executive",
         "Sales",
         "13120",
         410
        ],
        [
         "1716",
         "Sales Executive",
         "Sales",
         "12936",
         411
        ],
        [
         "473",
         "Manager",
         "Sales",
         "12504",
         412
        ],
        [
         "2056",
         "Sales Executive",
         "Sales",
         "12031",
         413
        ],
        [
         "411",
         "Sales Representative",
         "Sales",
         "1200",
         414
        ],
        [
         "1048",
         "Manager",
         "Sales",
         "11904",
         415
        ],
        [
         "897",
         "Sales Executive",
         "Sales",
         "11836",
         416
        ],
        [
         "613",
         "Manager",
         "Sales",
         "11557",
         417
        ],
        [
         "1273",
         "Sales Representative",
         "Sales",
         "1118",
         418
        ],
        [
         "862",
         "Sales Executive",
         "Sales",
         "10934",
         419
        ],
        [
         "615",
         "Sales Executive",
         "Sales",
         "10932",
         420
        ],
        [
         "1928",
         "Sales Representative",
         "Sales",
         "1091",
         421
        ],
        [
         "215",
         "Sales Executive",
         "Sales",
         "10855",
         422
        ],
        [
         "2055",
         "Sales Executive",
         "Sales",
         "10854",
         423
        ],
        [
         "1876",
         "Sales Representative",
         "Sales",
         "1081",
         424
        ],
        [
         "1076",
         "Sales Executive",
         "Sales",
         "10798",
         425
        ],
        [
         "1453",
         "Sales Executive",
         "Sales",
         "10793",
         426
        ],
        [
         "864",
         "Sales Executive",
         "Sales",
         "10761",
         427
        ],
        [
         "1070",
         "Sales Executive",
         "Sales",
         "10686",
         428
        ],
        [
         "307",
         "Sales Executive",
         "Sales",
         "10609",
         429
        ],
        [
         "970",
         "Sales Executive",
         "Sales",
         "10609",
         429
        ],
        [
         "1391",
         "Sales Executive",
         "Sales",
         "10596",
         431
        ],
        [
         "1056",
         "Sales Representative",
         "Sales",
         "1052",
         432
        ],
        [
         "729",
         "Sales Executive",
         "Sales",
         "10475",
         433
        ],
        [
         "244",
         "Sales Executive",
         "Sales",
         "10453",
         434
        ],
        [
         "1968",
         "Sales Executive",
         "Sales",
         "10448",
         435
        ],
        [
         "1815",
         "Sales Executive",
         "Sales",
         "10447",
         436
        ],
        [
         "2016",
         "Sales Executive",
         "Sales",
         "10422",
         437
        ],
        [
         "291",
         "Sales Executive",
         "Sales",
         "10400",
         438
        ],
        [
         "1243",
         "Sales Executive",
         "Sales",
         "10377",
         439
        ],
        [
         "1732",
         "Sales Executive",
         "Sales",
         "10368",
         440
        ],
        [
         "967",
         "Sales Executive",
         "Sales",
         "10325",
         441
        ],
        [
         "1639",
         "Sales Executive",
         "Sales",
         "10306",
         442
        ],
        [
         "573",
         "Sales Executive",
         "Sales",
         "10266",
         443
        ],
        [
         "106",
         "Sales Executive",
         "Sales",
         "10239",
         444
        ],
        [
         "1293",
         "Sales Executive",
         "Sales",
         "10231",
         445
        ],
        [
         "1457",
         "Sales Executive",
         "Sales",
         "10096",
         446
        ]
       ],
       "datasetInfos": [
        {
         "name": "_sqldf",
         "schema": {
          "fields": [
           {
            "metadata": {},
            "name": "EmployeeNumber",
            "nullable": true,
            "type": "string"
           },
           {
            "metadata": {},
            "name": "JobRole",
            "nullable": true,
            "type": "string"
           },
           {
            "metadata": {},
            "name": "Department",
            "nullable": true,
            "type": "string"
           },
           {
            "metadata": {},
            "name": "MonthlyIncome",
            "nullable": true,
            "type": "string"
           },
           {
            "metadata": {},
            "name": "IncomeRank",
            "nullable": false,
            "type": "integer"
           }
          ],
          "type": "struct"
         },
         "tableIdentifier": null,
         "typeStr": "pyspark.sql.connect.dataframe.DataFrame"
        }
       ],
       "dbfsResultPath": null,
       "isJsonSchema": true,
       "metadata": {
        "createTempViewForImplicitDf": true,
        "dataframeName": "_sqldf",
        "executionCount": 33
       },
       "overflow": false,
       "plotOptions": {
        "customPlotOptions": {},
        "displayType": "table",
        "pivotAggregation": null,
        "pivotColumns": null,
        "xColumns": null,
        "yColumns": null
       },
       "removedWidgets": [],
       "schema": [
        {
         "metadata": "{}",
         "name": "EmployeeNumber",
         "type": "\"string\""
        },
        {
         "metadata": "{}",
         "name": "JobRole",
         "type": "\"string\""
        },
        {
         "metadata": "{}",
         "name": "Department",
         "type": "\"string\""
        },
        {
         "metadata": "{}",
         "name": "MonthlyIncome",
         "type": "\"string\""
        },
        {
         "metadata": "{}",
         "name": "IncomeRank",
         "type": "\"integer\""
        }
       ],
       "type": "table"
      }
     },
     "output_type": "display_data"
    }
   ],
   "source": [
    "%sql\n",
    "--Rank employees by income within department (Window Function):\n",
    "select EmployeeNumber,\n",
    "       JobRole,\n",
    "       Department,\n",
    "       MonthlyIncome\n",
    "       , rank() over (partition by Department order by MonthlyIncome desc) as IncomeRank\n",
    "from ibm_employees;\n"
   ]
  },
  {
   "cell_type": "code",
   "execution_count": 0,
   "metadata": {
    "application/vnd.databricks.v1+cell": {
     "cellMetadata": {
      "byteLimit": 2048000,
      "implicitDf": true,
      "rowLimit": 10000
     },
     "inputWidgets": {},
     "nuid": "e3ec2cb3-421e-4eb6-a16e-fec97ec44b35",
     "showTitle": false,
     "tableResultSettingsMap": {},
     "title": ""
    }
   },
   "outputs": [
    {
     "output_type": "display_data",
     "data": {
      "text/html": [
       "<style scoped>\n",
       "  .table-result-container {\n",
       "    max-height: 300px;\n",
       "    overflow: auto;\n",
       "  }\n",
       "  table, th, td {\n",
       "    border: 1px solid black;\n",
       "    border-collapse: collapse;\n",
       "  }\n",
       "  th, td {\n",
       "    padding: 5px;\n",
       "  }\n",
       "  th {\n",
       "    text-align: left;\n",
       "  }\n",
       "</style><div class='table-result-container'><table class='table-result'><thead style='background-color: white'><tr><th>Department</th><th>DeptAttritionRate</th></tr></thead><tbody><tr><td>Sales</td><td>20.63</td></tr><tr><td>Human Resources</td><td>19.05</td></tr></tbody></table></div>"
      ]
     },
     "metadata": {
      "application/vnd.databricks.v1+output": {
       "addedWidgets": {},
       "aggData": [],
       "aggError": "",
       "aggOverflow": false,
       "aggSchema": [],
       "aggSeriesLimitReached": false,
       "aggType": "",
       "arguments": {},
       "columnCustomDisplayInfos": {},
       "data": [
        [
         "Sales",
         "20.63"
        ],
        [
         "Human Resources",
         "19.05"
        ]
       ],
       "datasetInfos": [
        {
         "name": "_sqldf",
         "schema": {
          "fields": [
           {
            "metadata": {},
            "name": "Department",
            "nullable": true,
            "type": "string"
           },
           {
            "metadata": {},
            "name": "DeptAttritionRate",
            "nullable": true,
            "type": "decimal(27,2)"
           }
          ],
          "type": "struct"
         },
         "tableIdentifier": null,
         "typeStr": "pyspark.sql.connect.dataframe.DataFrame"
        }
       ],
       "dbfsResultPath": null,
       "isJsonSchema": true,
       "metadata": {
        "createTempViewForImplicitDf": true,
        "dataframeName": "_sqldf",
        "executionCount": 34
       },
       "overflow": false,
       "plotOptions": {
        "customPlotOptions": {},
        "displayType": "table",
        "pivotAggregation": null,
        "pivotColumns": null,
        "xColumns": null,
        "yColumns": null
       },
       "removedWidgets": [],
       "schema": [
        {
         "metadata": "{}",
         "name": "Department",
         "type": "\"string\""
        },
        {
         "metadata": "{}",
         "name": "DeptAttritionRate",
         "type": "\"decimal(27,2)\""
        }
       ],
       "type": "table"
      }
     },
     "output_type": "display_data"
    }
   ],
   "source": [
    "%sql\n",
    "--CTE example: find departments with attrition rate above company average\n",
    "with attrition_rates as (\n",
    "  select Department,\n",
    "         sum(case when Attrition = 'Yes' then 1 else 0 end)*100.0/count(*) as DeptAttritionRate\n",
    "  from ibm_employees\n",
    "  group by Department)\n",
    "  select Department,\n",
    "         round(DeptAttritionRate,2) as DeptAttritionRate\n",
    "  from attrition_rates\n",
    "  where DeptAttritionRate > (select avg(DeptAttritionRate) from attrition_rates);"
   ]
  },
  {
   "cell_type": "code",
   "execution_count": 0,
   "metadata": {
    "application/vnd.databricks.v1+cell": {
     "cellMetadata": {
      "byteLimit": 2048000,
      "rowLimit": 10000
     },
     "inputWidgets": {},
     "nuid": "b263adb8-cdcd-45d9-a9ef-ea046d20bb6a",
     "showTitle": false,
     "tableResultSettingsMap": {},
     "title": ""
    }
   },
   "outputs": [],
   "source": []
  }
 ],
 "metadata": {
  "application/vnd.databricks.v1+notebook": {
   "computePreferences": null,
   "dashboards": [],
   "environmentMetadata": {
    "base_environment": "",
    "environment_version": "3"
   },
   "inputWidgetPreferences": null,
   "language": "python",
   "notebookMetadata": {
    "mostRecentlyExecutedCommandWithImplicitDF": {
     "commandId": 7513640832157024,
     "dataframes": [
      "_sqldf"
     ]
    },
    "pythonIndentUnit": 4
   },
   "notebookName": "ibm_employees",
   "widgets": {}
  },
  "language_info": {
   "name": "python"
  }
 },
 "nbformat": 4,
 "nbformat_minor": 0
}